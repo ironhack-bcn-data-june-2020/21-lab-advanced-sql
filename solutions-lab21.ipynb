{
 "cells": [
  {
   "cell_type": "markdown",
   "metadata": {},
   "source": [
    "# Lab | Advanced SQL - SOLUTIONS\n",
    "\n",
    "## Introduction\n",
    "\n",
    "In this lab you will practice SQL Subqueries and Action Queries. We will again use the publications database, used in the past lab.\n",
    "\n"
   ]
  },
  {
   "cell_type": "markdown",
   "metadata": {},
   "source": [
    "## Challenge 1 - Most Profiting Authors\n",
    "\n",
    "In this challenge let's have a close look at the bonus challenge of the previous *SQL SELECT* lab -- **who are the top 3 most profiting authors**? Even if you have solved or think you have solved that problem in the previous lab, please still complete this challenge because the step-by-step guidances are helpful to train your problem-solving thinking.\n",
    "\n",
    "In order to solve this problem, it is important for you to keep the following points in mind:\n",
    "\n",
    "* In table `sales`, a title can appear several times. The royalties need to be calculated for each sale.\n",
    "\n",
    "* Despite a title can have multiple `sales` records, the advance must be calculated only once for each title.\n",
    "\n",
    "* In your eventual solution, you need to sum up the following profits for each individual author:\n",
    "    * All advances which is calculated exactly once for each title.\n",
    "    * All royalties in each sale.\n",
    "\n",
    "Therefore, you will not be able to achieve the goal with a single SELECT query. Instead, you will need to follow several steps in order to achieve the eventual solution. Below is an overview of the steps:\n",
    "\n",
    "1. Calculate the royalty of each sale for each author.\n",
    "\n",
    "1. Using the output from Step 1 as a sub-table, aggregate the total royalties for each title for each author.\n",
    "\n",
    "1. Using the output from Step 2 as a sub-table, calculate the total profits of each author by aggregating the advances and total royalties of each title.\n",
    "\n",
    "Below we'll guide you through each step. In your `solutions.ipynb`, please include the SELECT queries of each step so that your TA can review your problem-solving process.\n",
    "\n",
    "### Step 1: Calculate the royalties of each sales for each author\n",
    "\n",
    "Write a SELECT query to obtain the following output:\n",
    "\n",
    "* Title ID\n",
    "* Author ID\n",
    "* Royalty of each sale for each author\n",
    "    * The formula is:\n",
    "        ```\n",
    "        sales_royalty = titles.price * sales.qty * titles.royalty / 100 * titleauthor.royaltyper / 100\n",
    "        ```\n",
    "    * Note that `titles.royalty` and `titleauthor.royaltyper` are divided by 100 respectively because they are percentage numbers instead of floats.\n",
    "\n",
    "In the output of this step, each title may appear more than once for each author. This is because a title can have more than one sales.\n",
    "\n"
   ]
  },
  {
   "cell_type": "markdown",
   "metadata": {},
   "source": [
    "#### Load the extension"
   ]
  },
  {
   "cell_type": "code",
   "execution_count": 11,
   "metadata": {},
   "outputs": [],
   "source": [
    "%load_ext sql"
   ]
  },
  {
   "cell_type": "markdown",
   "metadata": {},
   "source": [
    "#### Connect to the database"
   ]
  },
  {
   "cell_type": "code",
   "execution_count": 12,
   "metadata": {},
   "outputs": [],
   "source": [
    "%sql sqlite:////Users/annavilardell/Desktop/BootcampData/20-lab-sql-select/publications.db"
   ]
  },
  {
   "cell_type": "markdown",
   "metadata": {},
   "source": [
    "#### Get list of tables"
   ]
  },
  {
   "cell_type": "code",
   "execution_count": 13,
   "metadata": {},
   "outputs": [],
   "source": [
    "%config SqlMagic.style=\"ALL\""
   ]
  },
  {
   "cell_type": "markdown",
   "metadata": {},
   "source": [
    "#### Start challenge"
   ]
  },
  {
   "cell_type": "code",
   "execution_count": null,
   "metadata": {},
   "outputs": [],
   "source": [
    "#check sales table"
   ]
  },
  {
   "cell_type": "code",
   "execution_count": 17,
   "metadata": {},
   "outputs": [
    {
     "name": "stdout",
     "output_type": "stream",
     "text": [
      " * sqlite:////Users/annavilardell/Desktop/BootcampData/20-lab-sql-select/publications.db\n",
      "Done.\n"
     ]
    },
    {
     "data": {
      "text/html": [
       "<table>\n",
       "    <tr>\n",
       "        <th>stor_id</th>\n",
       "        <th>ord_num</th>\n",
       "        <th>ord_date</th>\n",
       "        <th>qty</th>\n",
       "        <th>payterms</th>\n",
       "        <th>title_id</th>\n",
       "    </tr>\n",
       "    <tr>\n",
       "        <td>6380</td>\n",
       "        <td>6871</td>\n",
       "        <td>1994-09-14 00:00:00</td>\n",
       "        <td>5</td>\n",
       "        <td>Net 60</td>\n",
       "        <td>BU1032</td>\n",
       "    </tr>\n",
       "    <tr>\n",
       "        <td>6380</td>\n",
       "        <td>722a</td>\n",
       "        <td>1994-09-13 00:00:00</td>\n",
       "        <td>3</td>\n",
       "        <td>Net 60</td>\n",
       "        <td>PS2091</td>\n",
       "    </tr>\n",
       "    <tr>\n",
       "        <td>7066</td>\n",
       "        <td>A2976</td>\n",
       "        <td>1993-05-24 00:00:00</td>\n",
       "        <td>50</td>\n",
       "        <td>Net 30</td>\n",
       "        <td>PC8888</td>\n",
       "    </tr>\n",
       "</table>"
      ],
      "text/plain": [
       "[('6380', '6871', '1994-09-14 00:00:00', 5, 'Net 60', 'BU1032'),\n",
       " ('6380', '722a', '1994-09-13 00:00:00', 3, 'Net 60', 'PS2091'),\n",
       " ('7066', 'A2976', '1993-05-24 00:00:00', 50, 'Net 30', 'PC8888')]"
      ]
     },
     "execution_count": 17,
     "metadata": {},
     "output_type": "execute_result"
    }
   ],
   "source": [
    "%%sql\n",
    "select *\n",
    "from sales\n",
    "limit 3"
   ]
  },
  {
   "cell_type": "code",
   "execution_count": 18,
   "metadata": {},
   "outputs": [],
   "source": [
    "#select: Title ID + Author ID +Royalty of each sale for each autho"
   ]
  },
  {
   "cell_type": "code",
   "execution_count": 33,
   "metadata": {},
   "outputs": [
    {
     "name": "stdout",
     "output_type": "stream",
     "text": [
      " * sqlite:////Users/annavilardell/Desktop/BootcampData/20-lab-sql-select/publications.db\n",
      "Done.\n"
     ]
    },
    {
     "data": {
      "text/html": [
       "<table>\n",
       "    <tr>\n",
       "        <th>TITLE ID</th>\n",
       "        <th>AUTHOR ID</th>\n",
       "        <th>SALES ROYALTY</th>\n",
       "    </tr>\n",
       "    <tr>\n",
       "        <td>PS3333</td>\n",
       "        <td>172-32-1176</td>\n",
       "        <td>29.984999999999996</td>\n",
       "    </tr>\n",
       "    <tr>\n",
       "        <td>BU1032</td>\n",
       "        <td>213-46-8915</td>\n",
       "        <td>3.9979999999999993</td>\n",
       "    </tr>\n",
       "    <tr>\n",
       "        <td>BU1032</td>\n",
       "        <td>213-46-8915</td>\n",
       "        <td>7.995999999999999</td>\n",
       "    </tr>\n",
       "    <tr>\n",
       "        <td>BU2075</td>\n",
       "        <td>213-46-8915</td>\n",
       "        <td>25.116000000000003</td>\n",
       "    </tr>\n",
       "    <tr>\n",
       "        <td>PC1035</td>\n",
       "        <td>238-95-7766</td>\n",
       "        <td>110.16</td>\n",
       "    </tr>\n",
       "    <tr>\n",
       "        <td>BU1111</td>\n",
       "        <td>267-41-2394</td>\n",
       "        <td>11.95</td>\n",
       "    </tr>\n",
       "    <tr>\n",
       "        <td>TC7777</td>\n",
       "        <td>267-41-2394</td>\n",
       "        <td>8.994</td>\n",
       "    </tr>\n",
       "    <tr>\n",
       "        <td>BU7832</td>\n",
       "        <td>274-80-9391</td>\n",
       "        <td>29.984999999999996</td>\n",
       "    </tr>\n",
       "    <tr>\n",
       "        <td>BU1032</td>\n",
       "        <td>409-56-7008</td>\n",
       "        <td>5.996999999999999</td>\n",
       "    </tr>\n",
       "    <tr>\n",
       "        <td>BU1032</td>\n",
       "        <td>409-56-7008</td>\n",
       "        <td>11.993999999999998</td>\n",
       "    </tr>\n",
       "    <tr>\n",
       "        <td>PC8888</td>\n",
       "        <td>427-17-2319</td>\n",
       "        <td>50</td>\n",
       "    </tr>\n",
       "    <tr>\n",
       "        <td>TC7777</td>\n",
       "        <td>472-27-2349</td>\n",
       "        <td>8.994</td>\n",
       "    </tr>\n",
       "    <tr>\n",
       "        <td>PS7777</td>\n",
       "        <td>486-29-1786</td>\n",
       "        <td>19.975</td>\n",
       "    </tr>\n",
       "    <tr>\n",
       "        <td>TC4203</td>\n",
       "        <td>648-92-1872</td>\n",
       "        <td>33.46</td>\n",
       "    </tr>\n",
       "    <tr>\n",
       "        <td>TC7777</td>\n",
       "        <td>672-71-3249</td>\n",
       "        <td>11.992</td>\n",
       "    </tr>\n",
       "    <tr>\n",
       "        <td>MC2222</td>\n",
       "        <td>712-45-1867</td>\n",
       "        <td>23.987999999999996</td>\n",
       "    </tr>\n",
       "    <tr>\n",
       "        <td>MC3021</td>\n",
       "        <td>722-51-5454</td>\n",
       "        <td>13.455</td>\n",
       "    </tr>\n",
       "    <tr>\n",
       "        <td>MC3021</td>\n",
       "        <td>722-51-5454</td>\n",
       "        <td>8.073</td>\n",
       "    </tr>\n",
       "    <tr>\n",
       "        <td>BU1111</td>\n",
       "        <td>724-80-9391</td>\n",
       "        <td>17.925</td>\n",
       "    </tr>\n",
       "    <tr>\n",
       "        <td>PS1372</td>\n",
       "        <td>724-80-9391</td>\n",
       "        <td>10.795</td>\n",
       "    </tr>\n",
       "    <tr>\n",
       "        <td>PS1372</td>\n",
       "        <td>756-30-7391</td>\n",
       "        <td>32.385</td>\n",
       "    </tr>\n",
       "    <tr>\n",
       "        <td>TC3218</td>\n",
       "        <td>807-91-6654</td>\n",
       "        <td>83.8</td>\n",
       "    </tr>\n",
       "    <tr>\n",
       "        <td>PC8888</td>\n",
       "        <td>846-92-7186</td>\n",
       "        <td>50</td>\n",
       "    </tr>\n",
       "    <tr>\n",
       "        <td>MC3021</td>\n",
       "        <td>899-46-2035</td>\n",
       "        <td>4.485</td>\n",
       "    </tr>\n",
       "    <tr>\n",
       "        <td>MC3021</td>\n",
       "        <td>899-46-2035</td>\n",
       "        <td>2.6910000000000003</td>\n",
       "    </tr>\n",
       "    <tr>\n",
       "        <td>PS2091</td>\n",
       "        <td>899-46-2035</td>\n",
       "        <td>1.9709999999999996</td>\n",
       "    </tr>\n",
       "    <tr>\n",
       "        <td>PS2091</td>\n",
       "        <td>899-46-2035</td>\n",
       "        <td>49.275</td>\n",
       "    </tr>\n",
       "    <tr>\n",
       "        <td>PS2091</td>\n",
       "        <td>899-46-2035</td>\n",
       "        <td>6.57</td>\n",
       "    </tr>\n",
       "    <tr>\n",
       "        <td>PS2091</td>\n",
       "        <td>899-46-2035</td>\n",
       "        <td>13.14</td>\n",
       "    </tr>\n",
       "    <tr>\n",
       "        <td>PS2091</td>\n",
       "        <td>998-72-3567</td>\n",
       "        <td>1.9709999999999996</td>\n",
       "    </tr>\n",
       "    <tr>\n",
       "        <td>PS2091</td>\n",
       "        <td>998-72-3567</td>\n",
       "        <td>49.275</td>\n",
       "    </tr>\n",
       "    <tr>\n",
       "        <td>PS2091</td>\n",
       "        <td>998-72-3567</td>\n",
       "        <td>6.57</td>\n",
       "    </tr>\n",
       "    <tr>\n",
       "        <td>PS2091</td>\n",
       "        <td>998-72-3567</td>\n",
       "        <td>13.14</td>\n",
       "    </tr>\n",
       "    <tr>\n",
       "        <td>PS2106</td>\n",
       "        <td>998-72-3567</td>\n",
       "        <td>17</td>\n",
       "    </tr>\n",
       "</table>"
      ],
      "text/plain": [
       "[('PS3333', '172-32-1176', 29.984999999999996),\n",
       " ('BU1032', '213-46-8915', 3.9979999999999993),\n",
       " ('BU1032', '213-46-8915', 7.995999999999999),\n",
       " ('BU2075', '213-46-8915', 25.116000000000003),\n",
       " ('PC1035', '238-95-7766', 110.16),\n",
       " ('BU1111', '267-41-2394', 11.95),\n",
       " ('TC7777', '267-41-2394', 8.994),\n",
       " ('BU7832', '274-80-9391', 29.984999999999996),\n",
       " ('BU1032', '409-56-7008', 5.996999999999999),\n",
       " ('BU1032', '409-56-7008', 11.993999999999998),\n",
       " ('PC8888', '427-17-2319', 50),\n",
       " ('TC7777', '472-27-2349', 8.994),\n",
       " ('PS7777', '486-29-1786', 19.975),\n",
       " ('TC4203', '648-92-1872', 33.46),\n",
       " ('TC7777', '672-71-3249', 11.992),\n",
       " ('MC2222', '712-45-1867', 23.987999999999996),\n",
       " ('MC3021', '722-51-5454', 13.455),\n",
       " ('MC3021', '722-51-5454', 8.073),\n",
       " ('BU1111', '724-80-9391', 17.925),\n",
       " ('PS1372', '724-80-9391', 10.795),\n",
       " ('PS1372', '756-30-7391', 32.385),\n",
       " ('TC3218', '807-91-6654', 83.8),\n",
       " ('PC8888', '846-92-7186', 50),\n",
       " ('MC3021', '899-46-2035', 4.485),\n",
       " ('MC3021', '899-46-2035', 2.6910000000000003),\n",
       " ('PS2091', '899-46-2035', 1.9709999999999996),\n",
       " ('PS2091', '899-46-2035', 49.275),\n",
       " ('PS2091', '899-46-2035', 6.57),\n",
       " ('PS2091', '899-46-2035', 13.14),\n",
       " ('PS2091', '998-72-3567', 1.9709999999999996),\n",
       " ('PS2091', '998-72-3567', 49.275),\n",
       " ('PS2091', '998-72-3567', 6.57),\n",
       " ('PS2091', '998-72-3567', 13.14),\n",
       " ('PS2106', '998-72-3567', 17)]"
      ]
     },
     "execution_count": 33,
     "metadata": {},
     "output_type": "execute_result"
    }
   ],
   "source": [
    "%%sql\n",
    "select titles.title_id as \"TITLE ID\", \n",
    "        authors.au_id as \"AUTHOR ID\",\n",
    "        titles.price * sales.qty * titles.royalty / 100 * titleauthor.royaltyper / 100 as \"SALES ROYALTY\"\n",
    "\n",
    "from titles join titleauthor on titles.title_id = titleauthor.title_id\n",
    "             join authors on titleauthor.au_id = authors.au_id\n",
    "             join sales on titles.title_id = sales.title_id"
   ]
  },
  {
   "cell_type": "markdown",
   "metadata": {},
   "source": [
    "### Step 2: Aggregate the total royalties for each title for each author\n",
    "\n",
    "Using the output from Step 1, write a query to obtain the following output:\n",
    "\n",
    "* Title ID\n",
    "* Author ID\n",
    "* Aggregated royalties of each title for each author\n",
    "    * Hint: use the *SUM* subquery and group by both `au_id` and `title_id`\n",
    "\n",
    "In the output of this step, each title should appear only once for each author.\n",
    "\n"
   ]
  },
  {
   "cell_type": "code",
   "execution_count": 40,
   "metadata": {},
   "outputs": [
    {
     "name": "stdout",
     "output_type": "stream",
     "text": [
      " * sqlite:////Users/annavilardell/Desktop/BootcampData/20-lab-sql-select/publications.db\n",
      "Done.\n"
     ]
    },
    {
     "data": {
      "text/html": [
       "<table>\n",
       "    <tr>\n",
       "        <th>TITLE ID</th>\n",
       "        <th>AUTHOR ID</th>\n",
       "        <th>SUM SALES ROYALTY</th>\n",
       "    </tr>\n",
       "    <tr>\n",
       "        <td>PS3333</td>\n",
       "        <td>172-32-1176</td>\n",
       "        <td>29.984999999999996</td>\n",
       "    </tr>\n",
       "    <tr>\n",
       "        <td>BU1032</td>\n",
       "        <td>213-46-8915</td>\n",
       "        <td>11.993999999999998</td>\n",
       "    </tr>\n",
       "    <tr>\n",
       "        <td>BU2075</td>\n",
       "        <td>213-46-8915</td>\n",
       "        <td>25.116000000000003</td>\n",
       "    </tr>\n",
       "    <tr>\n",
       "        <td>PC1035</td>\n",
       "        <td>238-95-7766</td>\n",
       "        <td>110.16</td>\n",
       "    </tr>\n",
       "    <tr>\n",
       "        <td>BU1111</td>\n",
       "        <td>267-41-2394</td>\n",
       "        <td>11.95</td>\n",
       "    </tr>\n",
       "    <tr>\n",
       "        <td>TC7777</td>\n",
       "        <td>267-41-2394</td>\n",
       "        <td>8.994</td>\n",
       "    </tr>\n",
       "    <tr>\n",
       "        <td>BU7832</td>\n",
       "        <td>274-80-9391</td>\n",
       "        <td>29.984999999999996</td>\n",
       "    </tr>\n",
       "    <tr>\n",
       "        <td>BU1032</td>\n",
       "        <td>409-56-7008</td>\n",
       "        <td>17.990999999999996</td>\n",
       "    </tr>\n",
       "    <tr>\n",
       "        <td>PC8888</td>\n",
       "        <td>427-17-2319</td>\n",
       "        <td>50</td>\n",
       "    </tr>\n",
       "    <tr>\n",
       "        <td>TC7777</td>\n",
       "        <td>472-27-2349</td>\n",
       "        <td>8.994</td>\n",
       "    </tr>\n",
       "    <tr>\n",
       "        <td>PS7777</td>\n",
       "        <td>486-29-1786</td>\n",
       "        <td>19.975</td>\n",
       "    </tr>\n",
       "    <tr>\n",
       "        <td>TC4203</td>\n",
       "        <td>648-92-1872</td>\n",
       "        <td>33.46</td>\n",
       "    </tr>\n",
       "    <tr>\n",
       "        <td>TC7777</td>\n",
       "        <td>672-71-3249</td>\n",
       "        <td>11.992</td>\n",
       "    </tr>\n",
       "    <tr>\n",
       "        <td>MC2222</td>\n",
       "        <td>712-45-1867</td>\n",
       "        <td>23.987999999999996</td>\n",
       "    </tr>\n",
       "    <tr>\n",
       "        <td>MC3021</td>\n",
       "        <td>722-51-5454</td>\n",
       "        <td>21.528</td>\n",
       "    </tr>\n",
       "    <tr>\n",
       "        <td>BU1111</td>\n",
       "        <td>724-80-9391</td>\n",
       "        <td>17.925</td>\n",
       "    </tr>\n",
       "    <tr>\n",
       "        <td>PS1372</td>\n",
       "        <td>724-80-9391</td>\n",
       "        <td>10.795</td>\n",
       "    </tr>\n",
       "    <tr>\n",
       "        <td>PS1372</td>\n",
       "        <td>756-30-7391</td>\n",
       "        <td>32.385</td>\n",
       "    </tr>\n",
       "    <tr>\n",
       "        <td>TC3218</td>\n",
       "        <td>807-91-6654</td>\n",
       "        <td>83.8</td>\n",
       "    </tr>\n",
       "    <tr>\n",
       "        <td>PC8888</td>\n",
       "        <td>846-92-7186</td>\n",
       "        <td>50</td>\n",
       "    </tr>\n",
       "    <tr>\n",
       "        <td>MC3021</td>\n",
       "        <td>899-46-2035</td>\n",
       "        <td>7.176</td>\n",
       "    </tr>\n",
       "    <tr>\n",
       "        <td>PS2091</td>\n",
       "        <td>899-46-2035</td>\n",
       "        <td>70.95599999999999</td>\n",
       "    </tr>\n",
       "    <tr>\n",
       "        <td>PS2091</td>\n",
       "        <td>998-72-3567</td>\n",
       "        <td>70.95599999999999</td>\n",
       "    </tr>\n",
       "    <tr>\n",
       "        <td>PS2106</td>\n",
       "        <td>998-72-3567</td>\n",
       "        <td>17</td>\n",
       "    </tr>\n",
       "</table>"
      ],
      "text/plain": [
       "[('PS3333', '172-32-1176', 29.984999999999996),\n",
       " ('BU1032', '213-46-8915', 11.993999999999998),\n",
       " ('BU2075', '213-46-8915', 25.116000000000003),\n",
       " ('PC1035', '238-95-7766', 110.16),\n",
       " ('BU1111', '267-41-2394', 11.95),\n",
       " ('TC7777', '267-41-2394', 8.994),\n",
       " ('BU7832', '274-80-9391', 29.984999999999996),\n",
       " ('BU1032', '409-56-7008', 17.990999999999996),\n",
       " ('PC8888', '427-17-2319', 50),\n",
       " ('TC7777', '472-27-2349', 8.994),\n",
       " ('PS7777', '486-29-1786', 19.975),\n",
       " ('TC4203', '648-92-1872', 33.46),\n",
       " ('TC7777', '672-71-3249', 11.992),\n",
       " ('MC2222', '712-45-1867', 23.987999999999996),\n",
       " ('MC3021', '722-51-5454', 21.528),\n",
       " ('BU1111', '724-80-9391', 17.925),\n",
       " ('PS1372', '724-80-9391', 10.795),\n",
       " ('PS1372', '756-30-7391', 32.385),\n",
       " ('TC3218', '807-91-6654', 83.8),\n",
       " ('PC8888', '846-92-7186', 50),\n",
       " ('MC3021', '899-46-2035', 7.176),\n",
       " ('PS2091', '899-46-2035', 70.95599999999999),\n",
       " ('PS2091', '998-72-3567', 70.95599999999999),\n",
       " ('PS2106', '998-72-3567', 17)]"
      ]
     },
     "execution_count": 40,
     "metadata": {},
     "output_type": "execute_result"
    }
   ],
   "source": [
    "%%sql\n",
    "select titles.title_id as \"TITLE ID\", \n",
    "        authors.au_id as \"AUTHOR ID\",\n",
    "        sum(titles.price * sales.qty * titles.royalty / 100 * titleauthor.royaltyper / 100) as \"SUM SALES ROYALTY\"\n",
    "        \n",
    "\n",
    "from titles join titleauthor on titles.title_id = titleauthor.title_id\n",
    "             join authors on titleauthor.au_id = authors.au_id\n",
    "             join sales on titles.title_id = sales.title_id\n",
    "        \n",
    "group by authors.au_id, titles.title_id"
   ]
  },
  {
   "cell_type": "markdown",
   "metadata": {},
   "source": [
    "### Step 3: Calculate the total profits of each author\n",
    "\n",
    "Now that each title has exactly one row for each author where the advance and royalties are available, we are ready to obtain the eventual output. Using the output from Step 2, write a query to obtain the following output:\n",
    "\n",
    "* Author ID\n",
    "* Profits of each author by aggregating the advance and total royalties of each title\n",
    "\n",
    "Sort the output based on a total profits from high to low, and limit the number of rows to 3."
   ]
  },
  {
   "cell_type": "code",
   "execution_count": 45,
   "metadata": {},
   "outputs": [
    {
     "name": "stdout",
     "output_type": "stream",
     "text": [
      " * sqlite:////Users/annavilardell/Desktop/BootcampData/20-lab-sql-select/publications.db\n",
      "Done.\n"
     ]
    },
    {
     "data": {
      "text/html": [
       "<table>\n",
       "    <tr>\n",
       "        <th>title_id</th>\n",
       "        <th>title</th>\n",
       "        <th>type</th>\n",
       "        <th>pub_id</th>\n",
       "        <th>price</th>\n",
       "        <th>advance</th>\n",
       "        <th>royalty</th>\n",
       "        <th>ytd_sales</th>\n",
       "        <th>notes</th>\n",
       "        <th>pubdate</th>\n",
       "    </tr>\n",
       "    <tr>\n",
       "        <td>BU1032</td>\n",
       "        <td>The Busy Executive&#x27;s Database Guide</td>\n",
       "        <td>business</td>\n",
       "        <td>1389</td>\n",
       "        <td>19.99</td>\n",
       "        <td>5000</td>\n",
       "        <td>10</td>\n",
       "        <td>4095</td>\n",
       "        <td>An overview of available database systems with emphasis on common business applications. Illustrated.</td>\n",
       "        <td>1991-06-12 00:00:00</td>\n",
       "    </tr>\n",
       "    <tr>\n",
       "        <td>BU1111</td>\n",
       "        <td>Cooking with Computers: Surreptitious Balance Sheets</td>\n",
       "        <td>business</td>\n",
       "        <td>1389</td>\n",
       "        <td>11.95</td>\n",
       "        <td>5000</td>\n",
       "        <td>10</td>\n",
       "        <td>3876</td>\n",
       "        <td>Helpful hints on how to use your electronic resources to the best advantage.</td>\n",
       "        <td>1991-06-09 00:00:00</td>\n",
       "    </tr>\n",
       "</table>"
      ],
      "text/plain": [
       "[('BU1032', \"The Busy Executive's Database Guide\", 'business', '1389', 19.99, 5000, 10, 4095, 'An overview of available database systems with emphasis on common business applications. Illustrated.', '1991-06-12 00:00:00'),\n",
       " ('BU1111', 'Cooking with Computers: Surreptitious Balance Sheets', 'business', '1389', 11.95, 5000, 10, 3876, 'Helpful hints on how to use your electronic resources to the best advantage.', '1991-06-09 00:00:00')]"
      ]
     },
     "execution_count": 45,
     "metadata": {},
     "output_type": "execute_result"
    }
   ],
   "source": [
    "%%sql\n",
    "select *\n",
    "from titles\n",
    "limit 2"
   ]
  },
  {
   "cell_type": "code",
   "execution_count": 47,
   "metadata": {},
   "outputs": [
    {
     "name": "stdout",
     "output_type": "stream",
     "text": [
      " * sqlite:////Users/annavilardell/Desktop/BootcampData/20-lab-sql-select/publications.db\n",
      "Done.\n"
     ]
    },
    {
     "data": {
      "text/html": [
       "<table>\n",
       "    <tr>\n",
       "        <th>TITLE ID</th>\n",
       "        <th>AUTHOR ID</th>\n",
       "        <th>PROFIT/AUTHOR</th>\n",
       "    </tr>\n",
       "    <tr>\n",
       "        <td>MC3021</td>\n",
       "        <td>899-46-2035</td>\n",
       "        <td>39178.132</td>\n",
       "    </tr>\n",
       "    <tr>\n",
       "        <td>MC3021</td>\n",
       "        <td>722-51-5454</td>\n",
       "        <td>30021.528</td>\n",
       "    </tr>\n",
       "    <tr>\n",
       "        <td>BU1032</td>\n",
       "        <td>213-46-8915</td>\n",
       "        <td>20162.11</td>\n",
       "    </tr>\n",
       "</table>"
      ],
      "text/plain": [
       "[('MC3021', '899-46-2035', 39178.132),\n",
       " ('MC3021', '722-51-5454', 30021.528),\n",
       " ('BU1032', '213-46-8915', 20162.11)]"
      ]
     },
     "execution_count": 47,
     "metadata": {},
     "output_type": "execute_result"
    }
   ],
   "source": [
    "%%sql\n",
    "select titles.title_id as \"TITLE ID\", \n",
    "        authors.au_id as \"AUTHOR ID\",\n",
    "        sum(titles.advance)+\n",
    "        sum(titles.price * sales.qty * titles.royalty / 100 * titleauthor.royaltyper / 100) as \"PROFIT/AUTHOR\" \n",
    "        \n",
    "\n",
    "from titles join titleauthor on titles.title_id = titleauthor.title_id\n",
    "             join authors on titleauthor.au_id = authors.au_id\n",
    "             join sales on titles.title_id = sales.title_id \n",
    "        \n",
    "group by authors.au_id\n",
    "order by \"PROFIT/AUTHOR\" desc\n",
    "limit 3"
   ]
  },
  {
   "cell_type": "markdown",
   "metadata": {},
   "source": [
    "## Challenge 2\n",
    "\n",
    "Elevating from your solution in Challenge 1 , create a table named `most_profiting_authors` to hold the data about the most profiting authors. The table should have 2 columns:\n",
    "\n",
    "* `au_id` - Author ID\n",
    "* `profits` - The profits of the author aggregating the advances and royalties\n",
    "\n",
    "Include your solution in `solutions.ipynb`.\n",
    "\n",
    "\n"
   ]
  },
  {
   "cell_type": "code",
   "execution_count": 55,
   "metadata": {},
   "outputs": [
    {
     "name": "stdout",
     "output_type": "stream",
     "text": [
      " * sqlite:////Users/annavilardell/Desktop/BootcampData/20-lab-sql-select/publications.db\n",
      "Done.\n"
     ]
    },
    {
     "data": {
      "text/plain": [
       "[]"
      ]
     },
     "execution_count": 55,
     "metadata": {},
     "output_type": "execute_result"
    }
   ],
   "source": [
    "%%sql\n",
    "create table most_profiting_authors as\n",
    "select  authors.au_id as \"AUTHOR ID\",\n",
    "        sum(titles.advance)+\n",
    "        sum(titles.price * sales.qty * titles.royalty / 100 * titleauthor.royaltyper / 100) as \"PROFIT/AUTHOR\" \n",
    "        \n",
    "\n",
    "from titles join titleauthor on titles.title_id = titleauthor.title_id\n",
    "             join authors on titleauthor.au_id = authors.au_id\n",
    "             join sales on titles.title_id = sales.title_id \n",
    "        \n",
    "group by authors.au_id\n",
    "order by \"PROFIT/AUTHOR\" desc\n",
    "limit 3"
   ]
  },
  {
   "cell_type": "code",
   "execution_count": 56,
   "metadata": {},
   "outputs": [
    {
     "name": "stdout",
     "output_type": "stream",
     "text": [
      " * sqlite:////Users/annavilardell/Desktop/BootcampData/20-lab-sql-select/publications.db\n",
      "Done.\n"
     ]
    },
    {
     "data": {
      "text/html": [
       "<table>\n",
       "    <tr>\n",
       "        <th>AUTHOR ID</th>\n",
       "        <th>PROFIT/AUTHOR</th>\n",
       "    </tr>\n",
       "    <tr>\n",
       "        <td>899-46-2035</td>\n",
       "        <td>39178.132</td>\n",
       "    </tr>\n",
       "    <tr>\n",
       "        <td>722-51-5454</td>\n",
       "        <td>30021.528</td>\n",
       "    </tr>\n",
       "    <tr>\n",
       "        <td>213-46-8915</td>\n",
       "        <td>20162.11</td>\n",
       "    </tr>\n",
       "</table>"
      ],
      "text/plain": [
       "[('899-46-2035', 39178.132),\n",
       " ('722-51-5454', 30021.528),\n",
       " ('213-46-8915', 20162.11)]"
      ]
     },
     "execution_count": 56,
     "metadata": {},
     "output_type": "execute_result"
    }
   ],
   "source": [
    "%%sql\n",
    "select *\n",
    "from most_profiting_authors"
   ]
  }
 ],
 "metadata": {
  "kernelspec": {
   "display_name": "Python 3",
   "language": "python",
   "name": "python3"
  },
  "language_info": {
   "codemirror_mode": {
    "name": "ipython",
    "version": 3
   },
   "file_extension": ".py",
   "mimetype": "text/x-python",
   "name": "python",
   "nbconvert_exporter": "python",
   "pygments_lexer": "ipython3",
   "version": "3.7.7"
  }
 },
 "nbformat": 4,
 "nbformat_minor": 4
}
