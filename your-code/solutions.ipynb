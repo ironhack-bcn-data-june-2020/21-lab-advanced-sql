{
 "metadata": {
  "language_info": {
   "codemirror_mode": {
    "name": "ipython",
    "version": 3
   },
   "file_extension": ".py",
   "mimetype": "text/x-python",
   "name": "python",
   "nbconvert_exporter": "python",
   "pygments_lexer": "ipython3",
   "version": "3.8.5-final"
  },
  "orig_nbformat": 2,
  "kernelspec": {
   "name": "python385jvsc74a57bd0dca0ade3e726a953b501b15e8e990130d2b7799f14cfd9f4271676035ebe5511",
   "display_name": "Python 3.8.5 64-bit ('base': conda)"
  }
 },
 "nbformat": 4,
 "nbformat_minor": 2,
 "cells": [
  {
   "cell_type": "code",
   "execution_count": 1,
   "metadata": {},
   "outputs": [],
   "source": [
    "%load_ext sql"
   ]
  },
  {
   "cell_type": "code",
   "execution_count": 2,
   "metadata": {},
   "outputs": [
    {
     "output_type": "execute_result",
     "data": {
      "text/plain": [
       "'Connected: @../../20-lab-sql-select/publications.db'"
      ]
     },
     "metadata": {},
     "execution_count": 2
    }
   ],
   "source": [
    "%sql sqlite:///../../20-lab-sql-select/publications.db"
   ]
  },
  {
   "source": [
    "## Challenge 1 - Most Profiting Authors"
   ],
   "cell_type": "markdown",
   "metadata": {}
  },
  {
   "source": [
    "### Step 1: Calculate the royalties of each sales for each author\n",
    "\n",
    "Write a SELECT query to obtain the following output:\n",
    "\n",
    "* Title ID\n",
    "* Author ID\n",
    "* Royalty of each sale for each author\n",
    "\n",
    "In the output of this step, each title may appear more than once for each author. This is because a title can have more than one sales."
   ],
   "cell_type": "markdown",
   "metadata": {}
  },
  {
   "cell_type": "code",
   "execution_count": 3,
   "metadata": {},
   "outputs": [
    {
     "output_type": "stream",
     "name": "stdout",
     "text": [
      " * sqlite:///../../20-lab-sql-select/publications.db\nDone.\n"
     ]
    },
    {
     "output_type": "execute_result",
     "data": {
      "text/plain": [
       "[('PS3333', '172-32-1176', 29.99),\n",
       " ('BU1032', '213-46-8915', 4.0),\n",
       " ('BU1032', '213-46-8915', 8.0),\n",
       " ('BU2075', '213-46-8915', 25.12),\n",
       " ('PC1035', '238-95-7766', 110.16)]"
      ],
      "text/html": "<table>\n    <thead>\n        <tr>\n            <th>title_id</th>\n            <th>author_id</th>\n            <th>individual_royalty</th>\n        </tr>\n    </thead>\n    <tbody>\n        <tr>\n            <td>PS3333</td>\n            <td>172-32-1176</td>\n            <td>29.99</td>\n        </tr>\n        <tr>\n            <td>BU1032</td>\n            <td>213-46-8915</td>\n            <td>4.0</td>\n        </tr>\n        <tr>\n            <td>BU1032</td>\n            <td>213-46-8915</td>\n            <td>8.0</td>\n        </tr>\n        <tr>\n            <td>BU2075</td>\n            <td>213-46-8915</td>\n            <td>25.12</td>\n        </tr>\n        <tr>\n            <td>PC1035</td>\n            <td>238-95-7766</td>\n            <td>110.16</td>\n        </tr>\n    </tbody>\n</table>"
     },
     "metadata": {},
     "execution_count": 3
    }
   ],
   "source": [
    "%%sql\n",
    "SELECT tit.title_id AS title_id,\n",
    "       titaut.au_id AS author_id,\n",
    "       round(tit.price * sal.qty * tit.royalty / 100 * titaut.royaltyper / 100, 2) AS individual_royalty\n",
    "FROM titles tit\n",
    "     INNER JOIN titleauthor titaut ON titaut.title_id = tit.title_id\n",
    "     INNER JOIN sales sal ON tit.title_id = sal.title_id\n",
    "LIMIT 5"
   ]
  },
  {
   "source": [
    "### Step 2: Aggregate the total royalties for each title for each author\n",
    "\n",
    "Using the output from Step 1, write a query to obtain the following output:\n",
    "\n",
    "* Title ID\n",
    "* Author ID\n",
    "* Aggregated royalties of each title for each author\n",
    "    * Hint: use the *SUM* subquery and group by both `au_id` and `title_id`\n",
    "\n",
    "In the output of this step, each title should appear only once for each author."
   ],
   "cell_type": "markdown",
   "metadata": {}
  },
  {
   "cell_type": "code",
   "execution_count": 4,
   "metadata": {},
   "outputs": [
    {
     "output_type": "stream",
     "name": "stdout",
     "text": [
      " * sqlite:///../../20-lab-sql-select/publications.db\nDone.\n"
     ]
    },
    {
     "output_type": "execute_result",
     "data": {
      "text/plain": [
       "[('PS3333', '172-32-1176', 29.99),\n",
       " ('BU1032', '213-46-8915', 11.99),\n",
       " ('BU2075', '213-46-8915', 25.12),\n",
       " ('PC1035', '238-95-7766', 110.16),\n",
       " ('BU1111', '267-41-2394', 11.95)]"
      ],
      "text/html": "<table>\n    <thead>\n        <tr>\n            <th>title_id</th>\n            <th>author_id</th>\n            <th>total_royalty</th>\n        </tr>\n    </thead>\n    <tbody>\n        <tr>\n            <td>PS3333</td>\n            <td>172-32-1176</td>\n            <td>29.99</td>\n        </tr>\n        <tr>\n            <td>BU1032</td>\n            <td>213-46-8915</td>\n            <td>11.99</td>\n        </tr>\n        <tr>\n            <td>BU2075</td>\n            <td>213-46-8915</td>\n            <td>25.12</td>\n        </tr>\n        <tr>\n            <td>PC1035</td>\n            <td>238-95-7766</td>\n            <td>110.16</td>\n        </tr>\n        <tr>\n            <td>BU1111</td>\n            <td>267-41-2394</td>\n            <td>11.95</td>\n        </tr>\n    </tbody>\n</table>"
     },
     "metadata": {},
     "execution_count": 4
    }
   ],
   "source": [
    "%%sql\n",
    "SELECT tit.title_id AS title_id,\n",
    "       titaut.au_id AS author_id,\n",
    "       round(sum(tit.price * sal.qty * tit.royalty / 100 * titaut.royaltyper / 100), 2) AS total_royalty\n",
    "FROM titles tit\n",
    "     INNER JOIN titleauthor titaut ON titaut.title_id = tit.title_id\n",
    "     INNER JOIN sales sal ON tit.title_id = sal.title_id\n",
    "GROUP BY titaut.au_id, tit.title_id\n",
    "LIMIT 5"
   ]
  },
  {
   "source": [
    "### Step 3: Calculate the total profits of each author\n",
    "\n",
    "Now that each title has exactly one row for each author where the advance and royalties are available, we are ready to obtain the eventual output. Using the output from Step 2, write a query to obtain the following output:\n",
    "\n",
    "* Author ID\n",
    "* Profits of each author by aggregating the advance and total royalties of each title\n",
    "\n",
    "Sort the output based on a total profits from high to low, and limit the number of rows to 3."
   ],
   "cell_type": "markdown",
   "metadata": {}
  },
  {
   "cell_type": "code",
   "execution_count": 5,
   "metadata": {},
   "outputs": [
    {
     "output_type": "stream",
     "name": "stdout",
     "text": [
      " * sqlite:///../../20-lab-sql-select/publications.db\nDone.\n"
     ]
    },
    {
     "output_type": "execute_result",
     "data": {
      "text/plain": [
       "[('722-51-5454', 15021.53),\n",
       " ('899-46-2035', 15007.18),\n",
       " ('213-46-8915', 10150.12)]"
      ],
      "text/html": "<table>\n    <thead>\n        <tr>\n            <th>author_id</th>\n            <th>profit</th>\n        </tr>\n    </thead>\n    <tbody>\n        <tr>\n            <td>722-51-5454</td>\n            <td>15021.53</td>\n        </tr>\n        <tr>\n            <td>899-46-2035</td>\n            <td>15007.18</td>\n        </tr>\n        <tr>\n            <td>213-46-8915</td>\n            <td>10150.12</td>\n        </tr>\n    </tbody>\n</table>"
     },
     "metadata": {},
     "execution_count": 5
    }
   ],
   "source": [
    "%%sql\n",
    "SELECT author_id,\n",
    "       (total_royalty + advance) AS profit\n",
    "FROM (SELECT titaut.au_id AS author_id,\n",
    "       round(sum(tit.price * sal.qty * tit.royalty / 100 * titaut.royaltyper / 100), 2) AS total_royalty,\n",
    "       tit.advance as advance\n",
    "FROM titles tit\n",
    "     INNER JOIN titleauthor titaut ON titaut.title_id = tit.title_id\n",
    "     INNER JOIN sales sal ON tit.title_id = sal.title_id\n",
    "GROUP BY titaut.au_id, tit.title_id)\n",
    "ORDER BY profit desc\n",
    "LIMIT 3"
   ]
  },
  {
   "source": [
    "## Challenge 2\n",
    "\n",
    "Elevating from your solution in Challenge 1 , create a table named `most_profiting_authors` to hold the data about the most profiting authors. The table should have 2 columns:\n",
    "\n",
    "* `au_id` - Author ID\n",
    "* `profits` - The profits of the author aggregating the advances and royalties"
   ],
   "cell_type": "markdown",
   "metadata": {}
  },
  {
   "cell_type": "code",
   "execution_count": 6,
   "metadata": {},
   "outputs": [
    {
     "output_type": "stream",
     "name": "stdout",
     "text": [
      " * sqlite:///../../20-lab-sql-select/publications.db\nDone.\n"
     ]
    },
    {
     "output_type": "execute_result",
     "data": {
      "text/plain": [
       "[]"
      ]
     },
     "metadata": {},
     "execution_count": 6
    }
   ],
   "source": [
    "%%sql\n",
    "CREATE TABLE most_profiting_authors AS\n",
    "SELECT author_id,\n",
    "       (total_royalty + advance) AS profit\n",
    "FROM (SELECT titaut.au_id AS author_id,\n",
    "       round(sum(tit.price * sal.qty * tit.royalty / 100 * titaut.royaltyper / 100), 2) AS total_royalty,\n",
    "       tit.advance as advance\n",
    "FROM titles tit\n",
    "     INNER JOIN titleauthor titaut ON titaut.title_id = tit.title_id\n",
    "     INNER JOIN sales sal ON tit.title_id = sal.title_id\n",
    "GROUP BY titaut.au_id, tit.title_id)\n",
    "ORDER BY profit desc"
   ]
  },
  {
   "cell_type": "code",
   "execution_count": 7,
   "metadata": {},
   "outputs": [
    {
     "output_type": "stream",
     "name": "stdout",
     "text": [
      " * sqlite:///../../20-lab-sql-select/publications.db\nDone.\n"
     ]
    },
    {
     "output_type": "execute_result",
     "data": {
      "text/plain": [
       "[('722-51-5454', 15021.53),\n",
       " ('899-46-2035', 15007.18),\n",
       " ('213-46-8915', 10150.12),\n",
       " ('427-17-2319', 8050.0),\n",
       " ('846-92-7186', 8050.0)]"
      ],
      "text/html": "<table>\n    <thead>\n        <tr>\n            <th>author_id</th>\n            <th>profit</th>\n        </tr>\n    </thead>\n    <tbody>\n        <tr>\n            <td>722-51-5454</td>\n            <td>15021.53</td>\n        </tr>\n        <tr>\n            <td>899-46-2035</td>\n            <td>15007.18</td>\n        </tr>\n        <tr>\n            <td>213-46-8915</td>\n            <td>10150.12</td>\n        </tr>\n        <tr>\n            <td>427-17-2319</td>\n            <td>8050.0</td>\n        </tr>\n        <tr>\n            <td>846-92-7186</td>\n            <td>8050.0</td>\n        </tr>\n    </tbody>\n</table>"
     },
     "metadata": {},
     "execution_count": 7
    }
   ],
   "source": [
    "%%sql\n",
    "SELECT *\n",
    "FROM most_profiting_authors\n",
    "LIMIT 5"
   ]
  }
 ]
}