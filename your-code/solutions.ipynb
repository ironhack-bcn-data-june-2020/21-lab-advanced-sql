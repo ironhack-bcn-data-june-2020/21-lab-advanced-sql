{
 "cells": [
  {
   "cell_type": "markdown",
   "metadata": {},
   "source": [
    "# Lab | advanced-sql"
   ]
  },
  {
   "cell_type": "markdown",
   "metadata": {},
   "source": [
    "## Load extensions"
   ]
  },
  {
   "cell_type": "code",
   "execution_count": 1,
   "metadata": {},
   "outputs": [],
   "source": [
    "%load_ext sql"
   ]
  },
  {
   "cell_type": "markdown",
   "metadata": {},
   "source": [
    "## Connect to the database"
   ]
  },
  {
   "cell_type": "code",
   "execution_count": 2,
   "metadata": {},
   "outputs": [],
   "source": [
    "# Search for the database"
   ]
  },
  {
   "cell_type": "code",
   "execution_count": 3,
   "metadata": {},
   "outputs": [],
   "source": [
    "%sql sqlite:///../../20-lab-sql-select/publications.db"
   ]
  },
  {
   "cell_type": "markdown",
   "metadata": {},
   "source": [
    "## Get list of tables"
   ]
  },
  {
   "cell_type": "code",
   "execution_count": 4,
   "metadata": {},
   "outputs": [],
   "source": [
    "%config SqlMagic.style = 'ALL'"
   ]
  },
  {
   "cell_type": "code",
   "execution_count": 5,
   "metadata": {},
   "outputs": [],
   "source": [
    "# List of tables"
   ]
  },
  {
   "cell_type": "code",
   "execution_count": 6,
   "metadata": {},
   "outputs": [
    {
     "name": "stdout",
     "output_type": "stream",
     "text": [
      " * sqlite:///../../20-lab-sql-select/publications.db\n",
      "Done.\n"
     ]
    },
    {
     "data": {
      "text/html": [
       "<table>\n",
       "    <tr>\n",
       "        <th>type</th>\n",
       "        <th>name</th>\n",
       "        <th>tbl_name</th>\n",
       "        <th>rootpage</th>\n",
       "        <th>sql</th>\n",
       "    </tr>\n",
       "    <tr>\n",
       "        <td>table</td>\n",
       "        <td>authors</td>\n",
       "        <td>authors</td>\n",
       "        <td>2</td>\n",
       "        <td>CREATE TABLE `authors` (<br>  `au_id` varchar(11) NOT NULL<br>,  `au_lname` varchar(40) NOT NULL<br>,  `au_fname` varchar(20) NOT NULL<br>,  `phone` char(12) NOT NULL<br>,  `address` varchar(40) DEFAULT NULL<br>,  `city` varchar(20) DEFAULT NULL<br>,  `state` char(2) DEFAULT NULL<br>,  `zip` char(5) DEFAULT NULL<br>,  `contract` integer NOT NULL<br>,  PRIMARY KEY (`au_id`)<br>)</td>\n",
       "    </tr>\n",
       "    <tr>\n",
       "        <td>table</td>\n",
       "        <td>discounts</td>\n",
       "        <td>discounts</td>\n",
       "        <td>4</td>\n",
       "        <td>CREATE TABLE `discounts` (<br>  `discounttype` varchar(40) NOT NULL<br>,  `stor_id` char(4) DEFAULT NULL<br>,  `lowqty` integer DEFAULT NULL<br>,  `highqty` integer DEFAULT NULL<br>,  `discount` decimal(4,2) NOT NULL<br>,  CONSTRAINT `discounts_ibfk_1` FOREIGN KEY (`stor_id`) REFERENCES `stores` (`stor_id`) ON DELETE CASCADE ON UPDATE CASCADE<br>)</td>\n",
       "    </tr>\n",
       "    <tr>\n",
       "        <td>table</td>\n",
       "        <td>employee</td>\n",
       "        <td>employee</td>\n",
       "        <td>5</td>\n",
       "        <td>CREATE TABLE `employee` (<br>  `emp_id` char(9) NOT NULL<br>,  `fname` varchar(20) NOT NULL<br>,  `minit` char(1) DEFAULT NULL<br>,  `lname` varchar(30) NOT NULL<br>,  `job_id` integer NOT NULL<br>,  `job_lvl` integer DEFAULT NULL<br>,  `pub_id` char(4) NOT NULL<br>,  `hire_date` datetime NOT NULL<br>,  PRIMARY KEY (`emp_id`)<br>,  CONSTRAINT `employee_ibfk_1` FOREIGN KEY (`job_id`) REFERENCES `jobs` (`job_id`) ON DELETE CASCADE ON UPDATE CASCADE<br>,  CONSTRAINT `employee_ibfk_2` FOREIGN KEY (`pub_id`) REFERENCES `publishers` (`pub_id`) ON DELETE CASCADE ON UPDATE CASCADE<br>)</td>\n",
       "    </tr>\n",
       "    <tr>\n",
       "        <td>table</td>\n",
       "        <td>jobs</td>\n",
       "        <td>jobs</td>\n",
       "        <td>7</td>\n",
       "        <td>CREATE TABLE `jobs` (<br>  `job_id` integer NOT NULL<br>,  `job_desc` varchar(50) NOT NULL<br>,  `min_lvl` integer NOT NULL<br>,  `max_lvl` integer NOT NULL<br>,  PRIMARY KEY (`job_id`)<br>)</td>\n",
       "    </tr>\n",
       "    <tr>\n",
       "        <td>table</td>\n",
       "        <td>pub_info</td>\n",
       "        <td>pub_info</td>\n",
       "        <td>8</td>\n",
       "        <td>CREATE TABLE `pub_info` (<br>  `pub_id` char(4) NOT NULL<br>,  `logo` longblob DEFAULT NULL<br>,  `pr_info` longtext DEFAULT NULL<br>,  PRIMARY KEY (`pub_id`)<br>,  CONSTRAINT `pub_info_ibfk_1` FOREIGN KEY (`pub_id`) REFERENCES `publishers` (`pub_id`) ON DELETE CASCADE ON UPDATE CASCADE<br>)</td>\n",
       "    </tr>\n",
       "    <tr>\n",
       "        <td>table</td>\n",
       "        <td>publishers</td>\n",
       "        <td>publishers</td>\n",
       "        <td>34</td>\n",
       "        <td>CREATE TABLE `publishers` (<br>  `pub_id` char(4) NOT NULL<br>,  `pub_name` varchar(40) DEFAULT NULL<br>,  `city` varchar(20) DEFAULT NULL<br>,  `state` char(2) DEFAULT NULL<br>,  `country` varchar(30) DEFAULT NULL<br>,  PRIMARY KEY (`pub_id`)<br>)</td>\n",
       "    </tr>\n",
       "    <tr>\n",
       "        <td>table</td>\n",
       "        <td>roysched</td>\n",
       "        <td>roysched</td>\n",
       "        <td>36</td>\n",
       "        <td>CREATE TABLE `roysched` (<br>  `title_id` varchar(6) NOT NULL<br>,  `lorange` integer DEFAULT NULL<br>,  `hirange` integer DEFAULT NULL<br>,  `royalty` integer DEFAULT NULL<br>,  CONSTRAINT `roysched_ibfk_1` FOREIGN KEY (`title_id`) REFERENCES `titles` (`title_id`) ON DELETE CASCADE ON UPDATE CASCADE<br>)</td>\n",
       "    </tr>\n",
       "    <tr>\n",
       "        <td>table</td>\n",
       "        <td>sales</td>\n",
       "        <td>sales</td>\n",
       "        <td>37</td>\n",
       "        <td>CREATE TABLE `sales` (<br>  `stor_id` char(4) NOT NULL<br>,  `ord_num` varchar(20) NOT NULL<br>,  `ord_date` datetime NOT NULL<br>,  `qty` integer NOT NULL<br>,  `payterms` varchar(12) NOT NULL<br>,  `title_id` varchar(6) NOT NULL<br>,  PRIMARY KEY (`stor_id`,`ord_num`,`title_id`)<br>,  CONSTRAINT `sales_ibfk_1` FOREIGN KEY (`stor_id`) REFERENCES `stores` (`stor_id`) ON DELETE CASCADE ON UPDATE CASCADE<br>,  CONSTRAINT `sales_ibfk_2` FOREIGN KEY (`title_id`) REFERENCES `titles` (`title_id`) ON DELETE CASCADE ON UPDATE CASCADE<br>)</td>\n",
       "    </tr>\n",
       "    <tr>\n",
       "        <td>table</td>\n",
       "        <td>stores</td>\n",
       "        <td>stores</td>\n",
       "        <td>39</td>\n",
       "        <td>CREATE TABLE `stores` (<br>  `stor_id` char(4) NOT NULL<br>,  `stor_name` varchar(40) DEFAULT NULL<br>,  `stor_address` varchar(40) DEFAULT NULL<br>,  `city` varchar(20) DEFAULT NULL<br>,  `state` char(2) DEFAULT NULL<br>,  `zip` char(5) DEFAULT NULL<br>,  PRIMARY KEY (`stor_id`)<br>)</td>\n",
       "    </tr>\n",
       "    <tr>\n",
       "        <td>table</td>\n",
       "        <td>titleauthor</td>\n",
       "        <td>titleauthor</td>\n",
       "        <td>41</td>\n",
       "        <td>CREATE TABLE `titleauthor` (<br>  `au_id` varchar(11) NOT NULL<br>,  `title_id` varchar(6) NOT NULL<br>,  `au_ord` integer DEFAULT NULL<br>,  `royaltyper` integer DEFAULT NULL<br>,  PRIMARY KEY (`au_id`,`title_id`)<br>,  CONSTRAINT `titleauthor_ibfk_1` FOREIGN KEY (`title_id`) REFERENCES `titles` (`title_id`) ON DELETE CASCADE ON UPDATE CASCADE<br>,  CONSTRAINT `titleauthor_ibfk_2` FOREIGN KEY (`au_id`) REFERENCES `authors` (`au_id`) ON DELETE CASCADE ON UPDATE CASCADE<br>)</td>\n",
       "    </tr>\n",
       "    <tr>\n",
       "        <td>table</td>\n",
       "        <td>titles</td>\n",
       "        <td>titles</td>\n",
       "        <td>45</td>\n",
       "        <td>CREATE TABLE `titles` (<br>  `title_id` varchar(6) NOT NULL<br>,  `title` varchar(80) NOT NULL<br>,  `type` char(12) NOT NULL<br>,  `pub_id` char(4) DEFAULT NULL<br>,  `price` decimal(19,4) DEFAULT NULL<br>,  `advance` decimal(19,4) DEFAULT NULL<br>,  `royalty` integer DEFAULT NULL<br>,  `ytd_sales` integer DEFAULT NULL<br>,  `notes` varchar(200) DEFAULT NULL<br>,  `pubdate` datetime NOT NULL<br>,  PRIMARY KEY (`title_id`)<br>,  CONSTRAINT `titles_ibfk_1` FOREIGN KEY (`pub_id`) REFERENCES `publishers` (`pub_id`) ON DELETE CASCADE ON UPDATE CASCADE<br>)</td>\n",
       "    </tr>\n",
       "</table>"
      ],
      "text/plain": [
       "[('table', 'authors', 'authors', 2, 'CREATE TABLE `authors` (\\n  `au_id` varchar(11) NOT NULL\\n,  `au_lname` varchar(40) NOT NULL\\n,  `au_fname` varchar(20) NOT NULL\\n,  `phone` char(12) ... (60 characters truncated) ... varchar(20) DEFAULT NULL\\n,  `state` char(2) DEFAULT NULL\\n,  `zip` char(5) DEFAULT NULL\\n,  `contract` integer NOT NULL\\n,  PRIMARY KEY (`au_id`)\\n)'),\n",
       " ('table', 'discounts', 'discounts', 4, 'CREATE TABLE `discounts` (\\n  `discounttype` varchar(40) NOT NULL\\n,  `stor_id` char(4) DEFAULT NULL\\n,  `lowqty` integer DEFAULT NULL\\n,  `highqty`  ... (37 characters truncated) ... ecimal(4,2) NOT NULL\\n,  CONSTRAINT `discounts_ibfk_1` FOREIGN KEY (`stor_id`) REFERENCES `stores` (`stor_id`) ON DELETE CASCADE ON UPDATE CASCADE\\n)'),\n",
       " ('table', 'employee', 'employee', 5, 'CREATE TABLE `employee` (\\n  `emp_id` char(9) NOT NULL\\n,  `fname` varchar(20) NOT NULL\\n,  `minit` char(1) DEFAULT NULL\\n,  `lname` varchar(30) NOT  ... (262 characters truncated) ... E ON UPDATE CASCADE\\n,  CONSTRAINT `employee_ibfk_2` FOREIGN KEY (`pub_id`) REFERENCES `publishers` (`pub_id`) ON DELETE CASCADE ON UPDATE CASCADE\\n)'),\n",
       " ('table', 'jobs', 'jobs', 7, 'CREATE TABLE `jobs` (\\n  `job_id` integer NOT NULL\\n,  `job_desc` varchar(50) NOT NULL\\n,  `min_lvl` integer NOT NULL\\n,  `max_lvl` integer NOT NULL\\n,  PRIMARY KEY (`job_id`)\\n)'),\n",
       " ('table', 'pub_info', 'pub_info', 8, 'CREATE TABLE `pub_info` (\\n  `pub_id` char(4) NOT NULL\\n,  `logo` longblob DEFAULT NULL\\n,  `pr_info` longtext DEFAULT NULL\\n,  PRIMARY KEY (`pub_id`)\\n,  CONSTRAINT `pub_info_ibfk_1` FOREIGN KEY (`pub_id`) REFERENCES `publishers` (`pub_id`) ON DELETE CASCADE ON UPDATE CASCADE\\n)'),\n",
       " ('table', 'publishers', 'publishers', 34, 'CREATE TABLE `publishers` (\\n  `pub_id` char(4) NOT NULL\\n,  `pub_name` varchar(40) DEFAULT NULL\\n,  `city` varchar(20) DEFAULT NULL\\n,  `state` char(2) DEFAULT NULL\\n,  `country` varchar(30) DEFAULT NULL\\n,  PRIMARY KEY (`pub_id`)\\n)'),\n",
       " ('table', 'roysched', 'roysched', 36, 'CREATE TABLE `roysched` (\\n  `title_id` varchar(6) NOT NULL\\n,  `lorange` integer DEFAULT NULL\\n,  `hirange` integer DEFAULT NULL\\n,  `royalty` integer DEFAULT NULL\\n,  CONSTRAINT `roysched_ibfk_1` FOREIGN KEY (`title_id`) REFERENCES `titles` (`title_id`) ON DELETE CASCADE ON UPDATE CASCADE\\n)'),\n",
       " ('table', 'sales', 'sales', 37, 'CREATE TABLE `sales` (\\n  `stor_id` char(4) NOT NULL\\n,  `ord_num` varchar(20) NOT NULL\\n,  `ord_date` datetime NOT NULL\\n,  `qty` integer NOT NULL\\n ... (218 characters truncated) ... CADE ON UPDATE CASCADE\\n,  CONSTRAINT `sales_ibfk_2` FOREIGN KEY (`title_id`) REFERENCES `titles` (`title_id`) ON DELETE CASCADE ON UPDATE CASCADE\\n)'),\n",
       " ('table', 'stores', 'stores', 39, 'CREATE TABLE `stores` (\\n  `stor_id` char(4) NOT NULL\\n,  `stor_name` varchar(40) DEFAULT NULL\\n,  `stor_address` varchar(40) DEFAULT NULL\\n,  `city` varchar(20) DEFAULT NULL\\n,  `state` char(2) DEFAULT NULL\\n,  `zip` char(5) DEFAULT NULL\\n,  PRIMARY KEY (`stor_id`)\\n)'),\n",
       " ('table', 'titleauthor', 'titleauthor', 41, 'CREATE TABLE `titleauthor` (\\n  `au_id` varchar(11) NOT NULL\\n,  `title_id` varchar(6) NOT NULL\\n,  `au_ord` integer DEFAULT NULL\\n,  `royaltyper` in ... (164 characters truncated) ... ADE ON UPDATE CASCADE\\n,  CONSTRAINT `titleauthor_ibfk_2` FOREIGN KEY (`au_id`) REFERENCES `authors` (`au_id`) ON DELETE CASCADE ON UPDATE CASCADE\\n)'),\n",
       " ('table', 'titles', 'titles', 45, 'CREATE TABLE `titles` (\\n  `title_id` varchar(6) NOT NULL\\n,  `title` varchar(80) NOT NULL\\n,  `type` char(12) NOT NULL\\n,  `pub_id` char(4) DEFAULT  ... (234 characters truncated) ... MARY KEY (`title_id`)\\n,  CONSTRAINT `titles_ibfk_1` FOREIGN KEY (`pub_id`) REFERENCES `publishers` (`pub_id`) ON DELETE CASCADE ON UPDATE CASCADE\\n)')]"
      ]
     },
     "execution_count": 6,
     "metadata": {},
     "output_type": "execute_result"
    }
   ],
   "source": [
    "%%sql\n",
    "select * \n",
    "from sqlite_master\n",
    "where type='table'\n",
    "order by name;"
   ]
  },
  {
   "cell_type": "markdown",
   "metadata": {},
   "source": [
    "![Image](https://github.com/ironhack-bcn-data-june-2020/20-lab-sql-select/blob/master/authors.png?raw=true)"
   ]
  },
  {
   "cell_type": "markdown",
   "metadata": {},
   "source": [
    "## Challenge 1 - Most Profiting Authors"
   ]
  },
  {
   "cell_type": "code",
   "execution_count": 7,
   "metadata": {},
   "outputs": [],
   "source": [
    "# Bonus 20"
   ]
  },
  {
   "cell_type": "markdown",
   "metadata": {},
   "source": [
    "Who are the top 3 most profiting authors?"
   ]
  },
  {
   "cell_type": "markdown",
   "metadata": {},
   "source": [
    "## Step 1: Calculate the royalties of each sales for each author"
   ]
  },
  {
   "cell_type": "code",
   "execution_count": 8,
   "metadata": {},
   "outputs": [
    {
     "name": "stdout",
     "output_type": "stream",
     "text": [
      " * sqlite:///../../20-lab-sql-select/publications.db\n",
      "Done.\n"
     ]
    },
    {
     "data": {
      "text/html": [
       "<table>\n",
       "    <tr>\n",
       "        <th>au_id</th>\n",
       "        <th>au_lname</th>\n",
       "        <th>au_fname</th>\n",
       "        <th>phone</th>\n",
       "        <th>address</th>\n",
       "        <th>city</th>\n",
       "        <th>state</th>\n",
       "        <th>zip</th>\n",
       "        <th>contract</th>\n",
       "    </tr>\n",
       "    <tr>\n",
       "        <td>172-32-1176</td>\n",
       "        <td>White</td>\n",
       "        <td>Johnson</td>\n",
       "        <td>408 496-7223</td>\n",
       "        <td>10932 Bigge Rd.</td>\n",
       "        <td>Menlo Park</td>\n",
       "        <td>CA</td>\n",
       "        <td>94025</td>\n",
       "        <td>1</td>\n",
       "    </tr>\n",
       "    <tr>\n",
       "        <td>213-46-8915</td>\n",
       "        <td>Green</td>\n",
       "        <td>Marjorie</td>\n",
       "        <td>415 986-7020</td>\n",
       "        <td>309 63rd St. #411</td>\n",
       "        <td>Oakland</td>\n",
       "        <td>CA</td>\n",
       "        <td>94618</td>\n",
       "        <td>1</td>\n",
       "    </tr>\n",
       "    <tr>\n",
       "        <td>238-95-7766</td>\n",
       "        <td>Carson</td>\n",
       "        <td>Cheryl</td>\n",
       "        <td>415 548-7723</td>\n",
       "        <td>589 Darwin Ln.</td>\n",
       "        <td>Berkeley</td>\n",
       "        <td>CA</td>\n",
       "        <td>94705</td>\n",
       "        <td>1</td>\n",
       "    </tr>\n",
       "</table>"
      ],
      "text/plain": [
       "[('172-32-1176', 'White', 'Johnson', '408 496-7223', '10932 Bigge Rd.', 'Menlo Park', 'CA', '94025', 1),\n",
       " ('213-46-8915', 'Green', 'Marjorie', '415 986-7020', '309 63rd St. #411', 'Oakland', 'CA', '94618', 1),\n",
       " ('238-95-7766', 'Carson', 'Cheryl', '415 548-7723', '589 Darwin Ln.', 'Berkeley', 'CA', '94705', 1)]"
      ]
     },
     "execution_count": 8,
     "metadata": {},
     "output_type": "execute_result"
    }
   ],
   "source": [
    "%%sql\n",
    "select *\n",
    "from authors\n",
    "limit 3"
   ]
  },
  {
   "cell_type": "code",
   "execution_count": 9,
   "metadata": {},
   "outputs": [
    {
     "name": "stdout",
     "output_type": "stream",
     "text": [
      " * sqlite:///../../20-lab-sql-select/publications.db\n",
      "Done.\n"
     ]
    },
    {
     "data": {
      "text/html": [
       "<table>\n",
       "    <tr>\n",
       "        <th>title_id</th>\n",
       "        <th>title</th>\n",
       "        <th>type</th>\n",
       "        <th>pub_id</th>\n",
       "        <th>price</th>\n",
       "        <th>advance</th>\n",
       "        <th>royalty</th>\n",
       "        <th>ytd_sales</th>\n",
       "        <th>notes</th>\n",
       "        <th>pubdate</th>\n",
       "    </tr>\n",
       "    <tr>\n",
       "        <td>BU1032</td>\n",
       "        <td>The Busy Executive&#x27;s Database Guide</td>\n",
       "        <td>business</td>\n",
       "        <td>1389</td>\n",
       "        <td>19.99</td>\n",
       "        <td>5000</td>\n",
       "        <td>10</td>\n",
       "        <td>4095</td>\n",
       "        <td>An overview of available database systems with emphasis on common business applications. Illustrated.</td>\n",
       "        <td>1991-06-12 00:00:00</td>\n",
       "    </tr>\n",
       "    <tr>\n",
       "        <td>BU1111</td>\n",
       "        <td>Cooking with Computers: Surreptitious Balance Sheets</td>\n",
       "        <td>business</td>\n",
       "        <td>1389</td>\n",
       "        <td>11.95</td>\n",
       "        <td>5000</td>\n",
       "        <td>10</td>\n",
       "        <td>3876</td>\n",
       "        <td>Helpful hints on how to use your electronic resources to the best advantage.</td>\n",
       "        <td>1991-06-09 00:00:00</td>\n",
       "    </tr>\n",
       "    <tr>\n",
       "        <td>BU2075</td>\n",
       "        <td>You Can Combat Computer Stress!</td>\n",
       "        <td>business</td>\n",
       "        <td>0736</td>\n",
       "        <td>2.99</td>\n",
       "        <td>10125</td>\n",
       "        <td>24</td>\n",
       "        <td>18722</td>\n",
       "        <td>The latest medical and psychological techniques for living with the electronic office. Easy-to-understand explanations.</td>\n",
       "        <td>1991-06-30 00:00:00</td>\n",
       "    </tr>\n",
       "</table>"
      ],
      "text/plain": [
       "[('BU1032', \"The Busy Executive's Database Guide\", 'business', '1389', 19.99, 5000, 10, 4095, 'An overview of available database systems with emphasis on common business applications. Illustrated.', '1991-06-12 00:00:00'),\n",
       " ('BU1111', 'Cooking with Computers: Surreptitious Balance Sheets', 'business', '1389', 11.95, 5000, 10, 3876, 'Helpful hints on how to use your electronic resources to the best advantage.', '1991-06-09 00:00:00'),\n",
       " ('BU2075', 'You Can Combat Computer Stress!', 'business', '0736', 2.99, 10125, 24, 18722, 'The latest medical and psychological techniques for living with the electronic office. Easy-to-understand explanations.', '1991-06-30 00:00:00')]"
      ]
     },
     "execution_count": 9,
     "metadata": {},
     "output_type": "execute_result"
    }
   ],
   "source": [
    "%%sql\n",
    "select *\n",
    "from titles\n",
    "limit 3"
   ]
  },
  {
   "cell_type": "code",
   "execution_count": 10,
   "metadata": {},
   "outputs": [
    {
     "name": "stdout",
     "output_type": "stream",
     "text": [
      " * sqlite:///../../20-lab-sql-select/publications.db\n",
      "Done.\n"
     ]
    },
    {
     "data": {
      "text/html": [
       "<table>\n",
       "    <tr>\n",
       "        <th>au_id</th>\n",
       "        <th>title_id</th>\n",
       "        <th>au_ord</th>\n",
       "        <th>royaltyper</th>\n",
       "    </tr>\n",
       "    <tr>\n",
       "        <td>172-32-1176</td>\n",
       "        <td>PS3333</td>\n",
       "        <td>1</td>\n",
       "        <td>100</td>\n",
       "    </tr>\n",
       "    <tr>\n",
       "        <td>213-46-8915</td>\n",
       "        <td>BU1032</td>\n",
       "        <td>2</td>\n",
       "        <td>40</td>\n",
       "    </tr>\n",
       "    <tr>\n",
       "        <td>213-46-8915</td>\n",
       "        <td>BU2075</td>\n",
       "        <td>1</td>\n",
       "        <td>100</td>\n",
       "    </tr>\n",
       "</table>"
      ],
      "text/plain": [
       "[('172-32-1176', 'PS3333', 1, 100),\n",
       " ('213-46-8915', 'BU1032', 2, 40),\n",
       " ('213-46-8915', 'BU2075', 1, 100)]"
      ]
     },
     "execution_count": 10,
     "metadata": {},
     "output_type": "execute_result"
    }
   ],
   "source": [
    "%%sql\n",
    "select *\n",
    "from titleauthor\n",
    "limit 3"
   ]
  },
  {
   "cell_type": "code",
   "execution_count": 11,
   "metadata": {},
   "outputs": [
    {
     "name": "stdout",
     "output_type": "stream",
     "text": [
      " * sqlite:///../../20-lab-sql-select/publications.db\n",
      "Done.\n"
     ]
    },
    {
     "data": {
      "text/html": [
       "<table>\n",
       "    <tr>\n",
       "        <th>stor_id</th>\n",
       "        <th>ord_num</th>\n",
       "        <th>ord_date</th>\n",
       "        <th>qty</th>\n",
       "        <th>payterms</th>\n",
       "        <th>title_id</th>\n",
       "    </tr>\n",
       "    <tr>\n",
       "        <td>6380</td>\n",
       "        <td>6871</td>\n",
       "        <td>1994-09-14 00:00:00</td>\n",
       "        <td>5</td>\n",
       "        <td>Net 60</td>\n",
       "        <td>BU1032</td>\n",
       "    </tr>\n",
       "    <tr>\n",
       "        <td>6380</td>\n",
       "        <td>722a</td>\n",
       "        <td>1994-09-13 00:00:00</td>\n",
       "        <td>3</td>\n",
       "        <td>Net 60</td>\n",
       "        <td>PS2091</td>\n",
       "    </tr>\n",
       "    <tr>\n",
       "        <td>7066</td>\n",
       "        <td>A2976</td>\n",
       "        <td>1993-05-24 00:00:00</td>\n",
       "        <td>50</td>\n",
       "        <td>Net 30</td>\n",
       "        <td>PC8888</td>\n",
       "    </tr>\n",
       "</table>"
      ],
      "text/plain": [
       "[('6380', '6871', '1994-09-14 00:00:00', 5, 'Net 60', 'BU1032'),\n",
       " ('6380', '722a', '1994-09-13 00:00:00', 3, 'Net 60', 'PS2091'),\n",
       " ('7066', 'A2976', '1993-05-24 00:00:00', 50, 'Net 30', 'PC8888')]"
      ]
     },
     "execution_count": 11,
     "metadata": {},
     "output_type": "execute_result"
    }
   ],
   "source": [
    "%%sql\n",
    "select *\n",
    "from sales\n",
    "limit 3"
   ]
  },
  {
   "cell_type": "markdown",
   "metadata": {},
   "source": [
    "Write a SELECT query to obtain the following output:\n",
    "\n",
    "- Title ID\n",
    "- Author ID\n",
    "- Royalty of each sale for each autho"
   ]
  },
  {
   "cell_type": "code",
   "execution_count": 13,
   "metadata": {},
   "outputs": [
    {
     "name": "stdout",
     "output_type": "stream",
     "text": [
      " * sqlite:///../../20-lab-sql-select/publications.db\n",
      "Done.\n"
     ]
    },
    {
     "data": {
      "text/html": [
       "<table>\n",
       "    <tr>\n",
       "        <th>Title ID</th>\n",
       "        <th>Title</th>\n",
       "        <th>Author ID</th>\n",
       "        <th>Royalty</th>\n",
       "    </tr>\n",
       "    <tr>\n",
       "        <td>PS3333</td>\n",
       "        <td>Prolonged Data Deprivation: Four Case Studies</td>\n",
       "        <td>172-32-1176</td>\n",
       "        <td>29.99</td>\n",
       "    </tr>\n",
       "    <tr>\n",
       "        <td>BU1032</td>\n",
       "        <td>The Busy Executive&#x27;s Database Guide</td>\n",
       "        <td>213-46-8915</td>\n",
       "        <td>4.0</td>\n",
       "    </tr>\n",
       "    <tr>\n",
       "        <td>BU1032</td>\n",
       "        <td>The Busy Executive&#x27;s Database Guide</td>\n",
       "        <td>213-46-8915</td>\n",
       "        <td>8.0</td>\n",
       "    </tr>\n",
       "</table>"
      ],
      "text/plain": [
       "[('PS3333', 'Prolonged Data Deprivation: Four Case Studies', '172-32-1176', 29.99),\n",
       " ('BU1032', \"The Busy Executive's Database Guide\", '213-46-8915', 4.0),\n",
       " ('BU1032', \"The Busy Executive's Database Guide\", '213-46-8915', 8.0)]"
      ]
     },
     "execution_count": 13,
     "metadata": {},
     "output_type": "execute_result"
    }
   ],
   "source": [
    "%%sql\n",
    "select t.title_id as 'Title ID',\n",
    "       t.title as 'Title',\n",
    "       a.au_id as 'Author ID',\n",
    "       round(t.price * s.qty * t.royalty / 100 * ta.royaltyper / 100,2) as 'Royalty'\n",
    "\n",
    "from authors as a join titleauthor as ta on a.au_id = ta.au_id\n",
    "                  join titles as t on ta.title_id = t.title_id\n",
    "                  join sales as s on s.title_id = t.title_id\n",
    "limit 3"
   ]
  },
  {
   "cell_type": "markdown",
   "metadata": {},
   "source": [
    "## Step 2: Aggregate the total royalties for each title for each author"
   ]
  },
  {
   "cell_type": "markdown",
   "metadata": {},
   "source": [
    "Using the output from Step 1, write a query to obtain the following output:\n",
    "\n",
    "- Title ID\n",
    "- Author ID\n",
    "- Aggregated royalties of each title for each author\n"
   ]
  },
  {
   "cell_type": "code",
   "execution_count": 22,
   "metadata": {},
   "outputs": [
    {
     "name": "stdout",
     "output_type": "stream",
     "text": [
      " * sqlite:///../../20-lab-sql-select/publications.db\n",
      "Done.\n"
     ]
    },
    {
     "data": {
      "text/html": [
       "<table>\n",
       "    <tr>\n",
       "        <th>Title_ID</th>\n",
       "        <th>Title</th>\n",
       "        <th>Author_ID</th>\n",
       "        <th>Total royalties</th>\n",
       "    </tr>\n",
       "    <tr>\n",
       "        <td>PS3333</td>\n",
       "        <td>Prolonged Data Deprivation: Four Case Studies</td>\n",
       "        <td>172-32-1176</td>\n",
       "        <td>29.99</td>\n",
       "    </tr>\n",
       "    <tr>\n",
       "        <td>BU1032</td>\n",
       "        <td>The Busy Executive&#x27;s Database Guide</td>\n",
       "        <td>213-46-8915</td>\n",
       "        <td>11.99</td>\n",
       "    </tr>\n",
       "    <tr>\n",
       "        <td>BU2075</td>\n",
       "        <td>You Can Combat Computer Stress!</td>\n",
       "        <td>213-46-8915</td>\n",
       "        <td>25.12</td>\n",
       "    </tr>\n",
       "    <tr>\n",
       "        <td>PC1035</td>\n",
       "        <td>But Is It User Friendly?</td>\n",
       "        <td>238-95-7766</td>\n",
       "        <td>110.16</td>\n",
       "    </tr>\n",
       "    <tr>\n",
       "        <td>BU1111</td>\n",
       "        <td>Cooking with Computers: Surreptitious Balance Sheets</td>\n",
       "        <td>267-41-2394</td>\n",
       "        <td>11.95</td>\n",
       "    </tr>\n",
       "    <tr>\n",
       "        <td>TC7777</td>\n",
       "        <td>Sushi, Anyone?</td>\n",
       "        <td>267-41-2394</td>\n",
       "        <td>8.99</td>\n",
       "    </tr>\n",
       "    <tr>\n",
       "        <td>BU7832</td>\n",
       "        <td>Straight Talk About Computers</td>\n",
       "        <td>274-80-9391</td>\n",
       "        <td>29.99</td>\n",
       "    </tr>\n",
       "    <tr>\n",
       "        <td>BU1032</td>\n",
       "        <td>The Busy Executive&#x27;s Database Guide</td>\n",
       "        <td>409-56-7008</td>\n",
       "        <td>17.99</td>\n",
       "    </tr>\n",
       "    <tr>\n",
       "        <td>PC8888</td>\n",
       "        <td>Secrets of Silicon Valley</td>\n",
       "        <td>427-17-2319</td>\n",
       "        <td>50.0</td>\n",
       "    </tr>\n",
       "    <tr>\n",
       "        <td>TC7777</td>\n",
       "        <td>Sushi, Anyone?</td>\n",
       "        <td>472-27-2349</td>\n",
       "        <td>8.99</td>\n",
       "    </tr>\n",
       "    <tr>\n",
       "        <td>PS7777</td>\n",
       "        <td>Emotional Security: A New Algorithm</td>\n",
       "        <td>486-29-1786</td>\n",
       "        <td>19.98</td>\n",
       "    </tr>\n",
       "    <tr>\n",
       "        <td>TC4203</td>\n",
       "        <td>Fifty Years in Buckingham Palace Kitchens</td>\n",
       "        <td>648-92-1872</td>\n",
       "        <td>33.46</td>\n",
       "    </tr>\n",
       "    <tr>\n",
       "        <td>TC7777</td>\n",
       "        <td>Sushi, Anyone?</td>\n",
       "        <td>672-71-3249</td>\n",
       "        <td>11.99</td>\n",
       "    </tr>\n",
       "    <tr>\n",
       "        <td>MC2222</td>\n",
       "        <td>Silicon Valley Gastronomic Treats</td>\n",
       "        <td>712-45-1867</td>\n",
       "        <td>23.99</td>\n",
       "    </tr>\n",
       "    <tr>\n",
       "        <td>MC3021</td>\n",
       "        <td>The Gourmet Microwave</td>\n",
       "        <td>722-51-5454</td>\n",
       "        <td>21.53</td>\n",
       "    </tr>\n",
       "    <tr>\n",
       "        <td>BU1111</td>\n",
       "        <td>Cooking with Computers: Surreptitious Balance Sheets</td>\n",
       "        <td>724-80-9391</td>\n",
       "        <td>17.93</td>\n",
       "    </tr>\n",
       "    <tr>\n",
       "        <td>PS1372</td>\n",
       "        <td>Computer Phobic AND Non-Phobic Individuals: Behavior Variations</td>\n",
       "        <td>724-80-9391</td>\n",
       "        <td>10.8</td>\n",
       "    </tr>\n",
       "    <tr>\n",
       "        <td>PS1372</td>\n",
       "        <td>Computer Phobic AND Non-Phobic Individuals: Behavior Variations</td>\n",
       "        <td>756-30-7391</td>\n",
       "        <td>32.39</td>\n",
       "    </tr>\n",
       "    <tr>\n",
       "        <td>TC3218</td>\n",
       "        <td>Onions, Leeks, and Garlic: Cooking Secrets of the Mediterranean</td>\n",
       "        <td>807-91-6654</td>\n",
       "        <td>83.8</td>\n",
       "    </tr>\n",
       "    <tr>\n",
       "        <td>PC8888</td>\n",
       "        <td>Secrets of Silicon Valley</td>\n",
       "        <td>846-92-7186</td>\n",
       "        <td>50.0</td>\n",
       "    </tr>\n",
       "    <tr>\n",
       "        <td>MC3021</td>\n",
       "        <td>The Gourmet Microwave</td>\n",
       "        <td>899-46-2035</td>\n",
       "        <td>7.18</td>\n",
       "    </tr>\n",
       "    <tr>\n",
       "        <td>PS2091</td>\n",
       "        <td>Is Anger the Enemy?</td>\n",
       "        <td>899-46-2035</td>\n",
       "        <td>70.96</td>\n",
       "    </tr>\n",
       "    <tr>\n",
       "        <td>PS2091</td>\n",
       "        <td>Is Anger the Enemy?</td>\n",
       "        <td>998-72-3567</td>\n",
       "        <td>70.96</td>\n",
       "    </tr>\n",
       "    <tr>\n",
       "        <td>PS2106</td>\n",
       "        <td>Life Without Fear</td>\n",
       "        <td>998-72-3567</td>\n",
       "        <td>17.0</td>\n",
       "    </tr>\n",
       "</table>"
      ],
      "text/plain": [
       "[('PS3333', 'Prolonged Data Deprivation: Four Case Studies', '172-32-1176', 29.99),\n",
       " ('BU1032', \"The Busy Executive's Database Guide\", '213-46-8915', 11.99),\n",
       " ('BU2075', 'You Can Combat Computer Stress!', '213-46-8915', 25.12),\n",
       " ('PC1035', 'But Is It User Friendly?', '238-95-7766', 110.16),\n",
       " ('BU1111', 'Cooking with Computers: Surreptitious Balance Sheets', '267-41-2394', 11.95),\n",
       " ('TC7777', 'Sushi, Anyone?', '267-41-2394', 8.99),\n",
       " ('BU7832', 'Straight Talk About Computers', '274-80-9391', 29.99),\n",
       " ('BU1032', \"The Busy Executive's Database Guide\", '409-56-7008', 17.99),\n",
       " ('PC8888', 'Secrets of Silicon Valley', '427-17-2319', 50.0),\n",
       " ('TC7777', 'Sushi, Anyone?', '472-27-2349', 8.99),\n",
       " ('PS7777', 'Emotional Security: A New Algorithm', '486-29-1786', 19.98),\n",
       " ('TC4203', 'Fifty Years in Buckingham Palace Kitchens', '648-92-1872', 33.46),\n",
       " ('TC7777', 'Sushi, Anyone?', '672-71-3249', 11.99),\n",
       " ('MC2222', 'Silicon Valley Gastronomic Treats', '712-45-1867', 23.99),\n",
       " ('MC3021', 'The Gourmet Microwave', '722-51-5454', 21.53),\n",
       " ('BU1111', 'Cooking with Computers: Surreptitious Balance Sheets', '724-80-9391', 17.93),\n",
       " ('PS1372', 'Computer Phobic AND Non-Phobic Individuals: Behavior Variations', '724-80-9391', 10.8),\n",
       " ('PS1372', 'Computer Phobic AND Non-Phobic Individuals: Behavior Variations', '756-30-7391', 32.39),\n",
       " ('TC3218', 'Onions, Leeks, and Garlic: Cooking Secrets of the Mediterranean', '807-91-6654', 83.8),\n",
       " ('PC8888', 'Secrets of Silicon Valley', '846-92-7186', 50.0),\n",
       " ('MC3021', 'The Gourmet Microwave', '899-46-2035', 7.18),\n",
       " ('PS2091', 'Is Anger the Enemy?', '899-46-2035', 70.96),\n",
       " ('PS2091', 'Is Anger the Enemy?', '998-72-3567', 70.96),\n",
       " ('PS2106', 'Life Without Fear', '998-72-3567', 17.0)]"
      ]
     },
     "execution_count": 22,
     "metadata": {},
     "output_type": "execute_result"
    }
   ],
   "source": [
    "%%sql\n",
    "select t.title_id as 'Title_ID',\n",
    "       t.title as 'Title',\n",
    "       a.au_id as 'Author_ID',\n",
    "       round(sum(t.price * s.qty * t.royalty / 100 * ta.royaltyper / 100),2) as 'Total royalties'\n",
    "      \n",
    "from authors as a join titleauthor as ta on a.au_id = ta.au_id\n",
    "                  join titles as t on ta.title_id = t.title_id\n",
    "                  join sales as s on s.title_id = t.title_id\n",
    "\n",
    "group by a.au_id, t.title_id\n",
    "order by a.au_id"
   ]
  },
  {
   "cell_type": "code",
   "execution_count": 15,
   "metadata": {},
   "outputs": [],
   "source": [
    "# Subquery?"
   ]
  },
  {
   "cell_type": "code",
   "execution_count": 16,
   "metadata": {},
   "outputs": [
    {
     "name": "stdout",
     "output_type": "stream",
     "text": [
      " * sqlite:///../../20-lab-sql-select/publications.db\n",
      "Done.\n"
     ]
    },
    {
     "data": {
      "text/html": [
       "<table>\n",
       "    <tr>\n",
       "        <th>Title_ID</th>\n",
       "        <th>Title</th>\n",
       "        <th>Author_ID</th>\n",
       "        <th>Total_Royalties</th>\n",
       "    </tr>\n",
       "    <tr>\n",
       "        <td>PS3333</td>\n",
       "        <td>Prolonged Data Deprivation: Four Case Studies</td>\n",
       "        <td>172-32-1176</td>\n",
       "        <td>29.99</td>\n",
       "    </tr>\n",
       "    <tr>\n",
       "        <td>BU1032</td>\n",
       "        <td>The Busy Executive&#x27;s Database Guide</td>\n",
       "        <td>213-46-8915</td>\n",
       "        <td>11.99</td>\n",
       "    </tr>\n",
       "    <tr>\n",
       "        <td>BU2075</td>\n",
       "        <td>You Can Combat Computer Stress!</td>\n",
       "        <td>213-46-8915</td>\n",
       "        <td>25.12</td>\n",
       "    </tr>\n",
       "    <tr>\n",
       "        <td>PC1035</td>\n",
       "        <td>But Is It User Friendly?</td>\n",
       "        <td>238-95-7766</td>\n",
       "        <td>110.16</td>\n",
       "    </tr>\n",
       "    <tr>\n",
       "        <td>BU1111</td>\n",
       "        <td>Cooking with Computers: Surreptitious Balance Sheets</td>\n",
       "        <td>267-41-2394</td>\n",
       "        <td>11.95</td>\n",
       "    </tr>\n",
       "    <tr>\n",
       "        <td>TC7777</td>\n",
       "        <td>Sushi, Anyone?</td>\n",
       "        <td>267-41-2394</td>\n",
       "        <td>8.99</td>\n",
       "    </tr>\n",
       "    <tr>\n",
       "        <td>BU7832</td>\n",
       "        <td>Straight Talk About Computers</td>\n",
       "        <td>274-80-9391</td>\n",
       "        <td>29.99</td>\n",
       "    </tr>\n",
       "    <tr>\n",
       "        <td>BU1032</td>\n",
       "        <td>The Busy Executive&#x27;s Database Guide</td>\n",
       "        <td>409-56-7008</td>\n",
       "        <td>17.99</td>\n",
       "    </tr>\n",
       "    <tr>\n",
       "        <td>PC8888</td>\n",
       "        <td>Secrets of Silicon Valley</td>\n",
       "        <td>427-17-2319</td>\n",
       "        <td>50.0</td>\n",
       "    </tr>\n",
       "    <tr>\n",
       "        <td>TC7777</td>\n",
       "        <td>Sushi, Anyone?</td>\n",
       "        <td>472-27-2349</td>\n",
       "        <td>8.99</td>\n",
       "    </tr>\n",
       "    <tr>\n",
       "        <td>PS7777</td>\n",
       "        <td>Emotional Security: A New Algorithm</td>\n",
       "        <td>486-29-1786</td>\n",
       "        <td>19.98</td>\n",
       "    </tr>\n",
       "    <tr>\n",
       "        <td>TC4203</td>\n",
       "        <td>Fifty Years in Buckingham Palace Kitchens</td>\n",
       "        <td>648-92-1872</td>\n",
       "        <td>33.46</td>\n",
       "    </tr>\n",
       "    <tr>\n",
       "        <td>TC7777</td>\n",
       "        <td>Sushi, Anyone?</td>\n",
       "        <td>672-71-3249</td>\n",
       "        <td>11.99</td>\n",
       "    </tr>\n",
       "    <tr>\n",
       "        <td>MC2222</td>\n",
       "        <td>Silicon Valley Gastronomic Treats</td>\n",
       "        <td>712-45-1867</td>\n",
       "        <td>23.99</td>\n",
       "    </tr>\n",
       "    <tr>\n",
       "        <td>MC3021</td>\n",
       "        <td>The Gourmet Microwave</td>\n",
       "        <td>722-51-5454</td>\n",
       "        <td>21.53</td>\n",
       "    </tr>\n",
       "    <tr>\n",
       "        <td>BU1111</td>\n",
       "        <td>Cooking with Computers: Surreptitious Balance Sheets</td>\n",
       "        <td>724-80-9391</td>\n",
       "        <td>17.93</td>\n",
       "    </tr>\n",
       "    <tr>\n",
       "        <td>PS1372</td>\n",
       "        <td>Computer Phobic AND Non-Phobic Individuals: Behavior Variations</td>\n",
       "        <td>724-80-9391</td>\n",
       "        <td>10.8</td>\n",
       "    </tr>\n",
       "    <tr>\n",
       "        <td>PS1372</td>\n",
       "        <td>Computer Phobic AND Non-Phobic Individuals: Behavior Variations</td>\n",
       "        <td>756-30-7391</td>\n",
       "        <td>32.39</td>\n",
       "    </tr>\n",
       "    <tr>\n",
       "        <td>TC3218</td>\n",
       "        <td>Onions, Leeks, and Garlic: Cooking Secrets of the Mediterranean</td>\n",
       "        <td>807-91-6654</td>\n",
       "        <td>83.8</td>\n",
       "    </tr>\n",
       "    <tr>\n",
       "        <td>PC8888</td>\n",
       "        <td>Secrets of Silicon Valley</td>\n",
       "        <td>846-92-7186</td>\n",
       "        <td>50.0</td>\n",
       "    </tr>\n",
       "    <tr>\n",
       "        <td>MC3021</td>\n",
       "        <td>The Gourmet Microwave</td>\n",
       "        <td>899-46-2035</td>\n",
       "        <td>7.18</td>\n",
       "    </tr>\n",
       "    <tr>\n",
       "        <td>PS2091</td>\n",
       "        <td>Is Anger the Enemy?</td>\n",
       "        <td>899-46-2035</td>\n",
       "        <td>70.96</td>\n",
       "    </tr>\n",
       "    <tr>\n",
       "        <td>PS2091</td>\n",
       "        <td>Is Anger the Enemy?</td>\n",
       "        <td>998-72-3567</td>\n",
       "        <td>70.96</td>\n",
       "    </tr>\n",
       "    <tr>\n",
       "        <td>PS2106</td>\n",
       "        <td>Life Without Fear</td>\n",
       "        <td>998-72-3567</td>\n",
       "        <td>17.0</td>\n",
       "    </tr>\n",
       "</table>"
      ],
      "text/plain": [
       "[('PS3333', 'Prolonged Data Deprivation: Four Case Studies', '172-32-1176', 29.99),\n",
       " ('BU1032', \"The Busy Executive's Database Guide\", '213-46-8915', 11.99),\n",
       " ('BU2075', 'You Can Combat Computer Stress!', '213-46-8915', 25.12),\n",
       " ('PC1035', 'But Is It User Friendly?', '238-95-7766', 110.16),\n",
       " ('BU1111', 'Cooking with Computers: Surreptitious Balance Sheets', '267-41-2394', 11.95),\n",
       " ('TC7777', 'Sushi, Anyone?', '267-41-2394', 8.99),\n",
       " ('BU7832', 'Straight Talk About Computers', '274-80-9391', 29.99),\n",
       " ('BU1032', \"The Busy Executive's Database Guide\", '409-56-7008', 17.99),\n",
       " ('PC8888', 'Secrets of Silicon Valley', '427-17-2319', 50.0),\n",
       " ('TC7777', 'Sushi, Anyone?', '472-27-2349', 8.99),\n",
       " ('PS7777', 'Emotional Security: A New Algorithm', '486-29-1786', 19.98),\n",
       " ('TC4203', 'Fifty Years in Buckingham Palace Kitchens', '648-92-1872', 33.46),\n",
       " ('TC7777', 'Sushi, Anyone?', '672-71-3249', 11.99),\n",
       " ('MC2222', 'Silicon Valley Gastronomic Treats', '712-45-1867', 23.99),\n",
       " ('MC3021', 'The Gourmet Microwave', '722-51-5454', 21.53),\n",
       " ('BU1111', 'Cooking with Computers: Surreptitious Balance Sheets', '724-80-9391', 17.93),\n",
       " ('PS1372', 'Computer Phobic AND Non-Phobic Individuals: Behavior Variations', '724-80-9391', 10.8),\n",
       " ('PS1372', 'Computer Phobic AND Non-Phobic Individuals: Behavior Variations', '756-30-7391', 32.39),\n",
       " ('TC3218', 'Onions, Leeks, and Garlic: Cooking Secrets of the Mediterranean', '807-91-6654', 83.8),\n",
       " ('PC8888', 'Secrets of Silicon Valley', '846-92-7186', 50.0),\n",
       " ('MC3021', 'The Gourmet Microwave', '899-46-2035', 7.18),\n",
       " ('PS2091', 'Is Anger the Enemy?', '899-46-2035', 70.96),\n",
       " ('PS2091', 'Is Anger the Enemy?', '998-72-3567', 70.96),\n",
       " ('PS2106', 'Life Without Fear', '998-72-3567', 17.0)]"
      ]
     },
     "execution_count": 16,
     "metadata": {},
     "output_type": "execute_result"
    }
   ],
   "source": [
    "%%sql\n",
    "select Title_ID,\n",
    "       Title,\n",
    "       Author_ID,\n",
    "       round(sum(subquery.Royalty),2) as 'Total_Royalties'\n",
    "      \n",
    "from (select t.title_id as 'Title_ID',\n",
    "             t.title as 'Title',\n",
    "             a.au_id as 'Author_ID',\n",
    "             t.price * s.qty * t.royalty / 100 * ta.royaltyper / 100 as 'Royalty'\n",
    "      \n",
    "    from authors as a join titleauthor as ta on a.au_id = ta.au_id\n",
    "                      join titles as t on ta.title_id = t.title_id\n",
    "                      join sales as s on s.title_id = t.title_id\n",
    "    ) as subquery\n",
    "\n",
    "group by Author_ID, Title_ID\n",
    "order by Author_ID"
   ]
  },
  {
   "cell_type": "markdown",
   "metadata": {},
   "source": [
    "## Step 3: Calculate the total profits of each author"
   ]
  },
  {
   "cell_type": "markdown",
   "metadata": {},
   "source": [
    "Using the output from Step 2, write a query to obtain the following output:\n",
    "\n",
    "- Author ID\n",
    "- Profits of each author by aggregating the advance and total royalties of each title"
   ]
  },
  {
   "cell_type": "code",
   "execution_count": 34,
   "metadata": {},
   "outputs": [
    {
     "name": "stdout",
     "output_type": "stream",
     "text": [
      " * sqlite:///../../20-lab-sql-select/publications.db\n",
      "Done.\n"
     ]
    },
    {
     "data": {
      "text/html": [
       "<table>\n",
       "    <tr>\n",
       "        <th>Author_ID</th>\n",
       "        <th>Total_Profits</th>\n",
       "    </tr>\n",
       "    <tr>\n",
       "        <td>899-46-2035</td>\n",
       "        <td>39178.13</td>\n",
       "    </tr>\n",
       "    <tr>\n",
       "        <td>722-51-5454</td>\n",
       "        <td>30021.53</td>\n",
       "    </tr>\n",
       "    <tr>\n",
       "        <td>213-46-8915</td>\n",
       "        <td>20162.11</td>\n",
       "    </tr>\n",
       "</table>"
      ],
      "text/plain": [
       "[('899-46-2035', 39178.13),\n",
       " ('722-51-5454', 30021.53),\n",
       " ('213-46-8915', 20162.11)]"
      ]
     },
     "execution_count": 34,
     "metadata": {},
     "output_type": "execute_result"
    }
   ],
   "source": [
    "%%sql\n",
    "select Author_ID,\n",
    "       round(sum(subquery.Royalty+subquery.Advance),2) as 'Total_Profits'\n",
    "      \n",
    "from (select t.title_id as 'Title_ID',\n",
    "             t.title as 'Title',\n",
    "             a.au_id as 'Author_ID',\n",
    "             t.price * s.qty * t.royalty / 100 * ta.royaltyper / 100 as 'Royalty',\n",
    "             t.advance as 'Advance'            \n",
    "      \n",
    "    from authors as a join titleauthor as ta on a.au_id = ta.au_id\n",
    "                      join titles as t on ta.title_id = t.title_id\n",
    "                      join sales as s on s.title_id = t.title_id\n",
    "    ) as subquery\n",
    "\n",
    "group by Author_ID\n",
    "order by Total_Profits desc\n",
    "limit 3 "
   ]
  },
  {
   "cell_type": "markdown",
   "metadata": {},
   "source": [
    "## Challenge 2"
   ]
  },
  {
   "cell_type": "markdown",
   "metadata": {},
   "source": [
    "Create a table named most_profiting_authors to hold the data about the most profiting authors. The table should have 2 columns:\n",
    "\n",
    "- au_id - Author ID\n",
    "- profits - The profits of the author aggregating the advances and royalties"
   ]
  },
  {
   "cell_type": "code",
   "execution_count": 37,
   "metadata": {},
   "outputs": [
    {
     "name": "stdout",
     "output_type": "stream",
     "text": [
      " * sqlite:///../../20-lab-sql-select/publications.db\n",
      "Done.\n"
     ]
    },
    {
     "data": {
      "text/plain": [
       "[]"
      ]
     },
     "execution_count": 37,
     "metadata": {},
     "output_type": "execute_result"
    }
   ],
   "source": [
    "%%sql\n",
    "create table most_profiting_authors as\n",
    "\n",
    "select Author_ID,\n",
    "       round(sum(subquery.Royalty+subquery.Advance),2) as 'Profits'\n",
    "      \n",
    "from (select t.title_id as 'Title_ID',\n",
    "             t.title as 'Title',\n",
    "             a.au_id as 'Author_ID',\n",
    "             t.price * s.qty * t.royalty / 100 * ta.royaltyper / 100 as 'Royalty',\n",
    "             t.advance as 'Advance'            \n",
    "      \n",
    "    from authors as a join titleauthor as ta on a.au_id = ta.au_id\n",
    "                      join titles as t on ta.title_id = t.title_id\n",
    "                      join sales as s on s.title_id = t.title_id\n",
    "    ) as subquery\n",
    "\n",
    "group by Author_ID\n",
    "order by Profits desc"
   ]
  },
  {
   "cell_type": "code",
   "execution_count": 38,
   "metadata": {},
   "outputs": [
    {
     "name": "stdout",
     "output_type": "stream",
     "text": [
      " * sqlite:///../../20-lab-sql-select/publications.db\n",
      "Done.\n"
     ]
    },
    {
     "data": {
      "text/html": [
       "<table>\n",
       "    <tr>\n",
       "        <th>Author_ID</th>\n",
       "        <th>Profits</th>\n",
       "    </tr>\n",
       "    <tr>\n",
       "        <td>899-46-2035</td>\n",
       "        <td>39178.13</td>\n",
       "    </tr>\n",
       "    <tr>\n",
       "        <td>722-51-5454</td>\n",
       "        <td>30021.53</td>\n",
       "    </tr>\n",
       "    <tr>\n",
       "        <td>213-46-8915</td>\n",
       "        <td>20162.11</td>\n",
       "    </tr>\n",
       "    <tr>\n",
       "        <td>998-72-3567</td>\n",
       "        <td>15187.96</td>\n",
       "    </tr>\n",
       "    <tr>\n",
       "        <td>267-41-2394</td>\n",
       "        <td>13020.94</td>\n",
       "    </tr>\n",
       "    <tr>\n",
       "        <td>724-80-9391</td>\n",
       "        <td>12028.72</td>\n",
       "    </tr>\n",
       "    <tr>\n",
       "        <td>409-56-7008</td>\n",
       "        <td>10017.99</td>\n",
       "    </tr>\n",
       "    <tr>\n",
       "        <td>427-17-2319</td>\n",
       "        <td>8050.0</td>\n",
       "    </tr>\n",
       "    <tr>\n",
       "        <td>846-92-7186</td>\n",
       "        <td>8050.0</td>\n",
       "    </tr>\n",
       "    <tr>\n",
       "        <td>672-71-3249</td>\n",
       "        <td>8011.99</td>\n",
       "    </tr>\n",
       "    <tr>\n",
       "        <td>472-27-2349</td>\n",
       "        <td>8008.99</td>\n",
       "    </tr>\n",
       "    <tr>\n",
       "        <td>238-95-7766</td>\n",
       "        <td>7110.16</td>\n",
       "    </tr>\n",
       "    <tr>\n",
       "        <td>807-91-6654</td>\n",
       "        <td>7083.8</td>\n",
       "    </tr>\n",
       "    <tr>\n",
       "        <td>756-30-7391</td>\n",
       "        <td>7032.39</td>\n",
       "    </tr>\n",
       "    <tr>\n",
       "        <td>274-80-9391</td>\n",
       "        <td>5029.99</td>\n",
       "    </tr>\n",
       "    <tr>\n",
       "        <td>648-92-1872</td>\n",
       "        <td>4033.46</td>\n",
       "    </tr>\n",
       "    <tr>\n",
       "        <td>486-29-1786</td>\n",
       "        <td>4019.98</td>\n",
       "    </tr>\n",
       "    <tr>\n",
       "        <td>172-32-1176</td>\n",
       "        <td>2029.99</td>\n",
       "    </tr>\n",
       "    <tr>\n",
       "        <td>712-45-1867</td>\n",
       "        <td>23.99</td>\n",
       "    </tr>\n",
       "</table>"
      ],
      "text/plain": [
       "[('899-46-2035', 39178.13),\n",
       " ('722-51-5454', 30021.53),\n",
       " ('213-46-8915', 20162.11),\n",
       " ('998-72-3567', 15187.96),\n",
       " ('267-41-2394', 13020.94),\n",
       " ('724-80-9391', 12028.72),\n",
       " ('409-56-7008', 10017.99),\n",
       " ('427-17-2319', 8050.0),\n",
       " ('846-92-7186', 8050.0),\n",
       " ('672-71-3249', 8011.99),\n",
       " ('472-27-2349', 8008.99),\n",
       " ('238-95-7766', 7110.16),\n",
       " ('807-91-6654', 7083.8),\n",
       " ('756-30-7391', 7032.39),\n",
       " ('274-80-9391', 5029.99),\n",
       " ('648-92-1872', 4033.46),\n",
       " ('486-29-1786', 4019.98),\n",
       " ('172-32-1176', 2029.99),\n",
       " ('712-45-1867', 23.99)]"
      ]
     },
     "execution_count": 38,
     "metadata": {},
     "output_type": "execute_result"
    }
   ],
   "source": [
    "%%sql\n",
    "select *\n",
    "from most_profiting_authors"
   ]
  },
  {
   "cell_type": "code",
   "execution_count": null,
   "metadata": {},
   "outputs": [],
   "source": []
  }
 ],
 "metadata": {
  "kernelspec": {
   "display_name": "Python 3",
   "language": "python",
   "name": "python3"
  },
  "language_info": {
   "codemirror_mode": {
    "name": "ipython",
    "version": 3
   },
   "file_extension": ".py",
   "mimetype": "text/x-python",
   "name": "python",
   "nbconvert_exporter": "python",
   "pygments_lexer": "ipython3",
   "version": "3.7.4"
  }
 },
 "nbformat": 4,
 "nbformat_minor": 4
}
