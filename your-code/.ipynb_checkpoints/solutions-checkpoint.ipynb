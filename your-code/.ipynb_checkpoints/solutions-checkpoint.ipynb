{
 "cells": [
  {
   "cell_type": "markdown",
   "metadata": {},
   "source": [
    "# Xabi López, project 21 SQL"
   ]
  },
  {
   "cell_type": "code",
   "execution_count": 1,
   "metadata": {},
   "outputs": [],
   "source": [
    "%load_ext sql"
   ]
  },
  {
   "cell_type": "code",
   "execution_count": 2,
   "metadata": {},
   "outputs": [
    {
     "data": {
      "text/plain": [
       "'Connected: @../../lab-sql-select/publications.db'"
      ]
     },
     "execution_count": 2,
     "metadata": {},
     "output_type": "execute_result"
    }
   ],
   "source": [
    "%sql sqlite:///../../lab-sql-select/publications.db"
   ]
  },
  {
   "cell_type": "markdown",
   "metadata": {},
   "source": [
    "## Challenge 1 - Most Profiting Authors"
   ]
  },
  {
   "cell_type": "markdown",
   "metadata": {},
   "source": [
    "Step 1: Calculate the royalties of each sales for each author"
   ]
  },
  {
   "cell_type": "code",
   "execution_count": 29,
   "metadata": {},
   "outputs": [
    {
     "name": "stdout",
     "output_type": "stream",
     "text": [
      " * sqlite:///../../lab-sql-select/publications.db\n",
      "Done.\n"
     ]
    },
    {
     "data": {
      "text/html": [
       "<table>\n",
       "    <thead>\n",
       "        <tr>\n",
       "            <th>Title_ID</th>\n",
       "            <th>Author_ID</th>\n",
       "            <th>Royalty</th>\n",
       "        </tr>\n",
       "    </thead>\n",
       "    <tbody>\n",
       "        <tr>\n",
       "            <td>PS3333</td>\n",
       "            <td>172-32-1176</td>\n",
       "            <td>30.0</td>\n",
       "        </tr>\n",
       "        <tr>\n",
       "            <td>BU1032</td>\n",
       "            <td>213-46-8915</td>\n",
       "            <td>4.0</td>\n",
       "        </tr>\n",
       "        <tr>\n",
       "            <td>BU1032</td>\n",
       "            <td>213-46-8915</td>\n",
       "            <td>8.0</td>\n",
       "        </tr>\n",
       "        <tr>\n",
       "            <td>BU2075</td>\n",
       "            <td>213-46-8915</td>\n",
       "            <td>25.0</td>\n",
       "        </tr>\n",
       "        <tr>\n",
       "            <td>PC1035</td>\n",
       "            <td>238-95-7766</td>\n",
       "            <td>110.0</td>\n",
       "        </tr>\n",
       "    </tbody>\n",
       "</table>"
      ],
      "text/plain": [
       "[('PS3333', '172-32-1176', 30.0),\n",
       " ('BU1032', '213-46-8915', 4.0),\n",
       " ('BU1032', '213-46-8915', 8.0),\n",
       " ('BU2075', '213-46-8915', 25.0),\n",
       " ('PC1035', '238-95-7766', 110.0)]"
      ]
     },
     "execution_count": 29,
     "metadata": {},
     "output_type": "execute_result"
    }
   ],
   "source": [
    "%%sql\n",
    "select ta.title_id as Title_ID, aut.au_id as Author_ID, round(tit.price * sal.qty * tit.royalty / 100 * ta.royaltyper / 100) as Royalty\n",
    "from authors aut inner join titleauthor ta on ta.au_id = aut.au_id\n",
    "                 inner join sales sal on sal.title_id = ta.title_id\n",
    "                 inner join titles tit on tit.title_id = ta.title_id\n",
    "limit 5"
   ]
  },
  {
   "cell_type": "markdown",
   "metadata": {},
   "source": [
    "Step 2: Aggregate the total royalties for each title for each author"
   ]
  },
  {
   "cell_type": "code",
   "execution_count": 30,
   "metadata": {},
   "outputs": [
    {
     "name": "stdout",
     "output_type": "stream",
     "text": [
      " * sqlite:///../../lab-sql-select/publications.db\n",
      "Done.\n"
     ]
    },
    {
     "data": {
      "text/html": [
       "<table>\n",
       "    <thead>\n",
       "        <tr>\n",
       "            <th>Title_ID</th>\n",
       "            <th>Author_ID</th>\n",
       "            <th>Royalty</th>\n",
       "        </tr>\n",
       "    </thead>\n",
       "    <tbody>\n",
       "        <tr>\n",
       "            <td>PS3333</td>\n",
       "            <td>172-32-1176</td>\n",
       "            <td>30.0</td>\n",
       "        </tr>\n",
       "        <tr>\n",
       "            <td>BU1032</td>\n",
       "            <td>213-46-8915</td>\n",
       "            <td>12.0</td>\n",
       "        </tr>\n",
       "        <tr>\n",
       "            <td>BU2075</td>\n",
       "            <td>213-46-8915</td>\n",
       "            <td>25.0</td>\n",
       "        </tr>\n",
       "        <tr>\n",
       "            <td>PC1035</td>\n",
       "            <td>238-95-7766</td>\n",
       "            <td>110.0</td>\n",
       "        </tr>\n",
       "        <tr>\n",
       "            <td>BU1111</td>\n",
       "            <td>267-41-2394</td>\n",
       "            <td>12.0</td>\n",
       "        </tr>\n",
       "    </tbody>\n",
       "</table>"
      ],
      "text/plain": [
       "[('PS3333', '172-32-1176', 30.0),\n",
       " ('BU1032', '213-46-8915', 12.0),\n",
       " ('BU2075', '213-46-8915', 25.0),\n",
       " ('PC1035', '238-95-7766', 110.0),\n",
       " ('BU1111', '267-41-2394', 12.0)]"
      ]
     },
     "execution_count": 30,
     "metadata": {},
     "output_type": "execute_result"
    }
   ],
   "source": [
    "%%sql\n",
    "select ta.title_id as Title_ID, aut.au_id as Author_ID, round(sum(tit.price * sal.qty * tit.royalty / 100 * ta.royaltyper / 100)) as Royalty\n",
    "from authors aut inner join titleauthor ta on ta.au_id = aut.au_id\n",
    "                 inner join sales sal on sal.title_id = ta.title_id\n",
    "                 inner join titles tit on tit.title_id = ta.title_id\n",
    "group by ta.title_id, aut.au_id\n",
    "limit 5"
   ]
  },
  {
   "cell_type": "markdown",
   "metadata": {},
   "source": [
    "Step 3: Calculate the total profits of each author"
   ]
  },
  {
   "cell_type": "code",
   "execution_count": 31,
   "metadata": {},
   "outputs": [
    {
     "name": "stdout",
     "output_type": "stream",
     "text": [
      " * sqlite:///../../lab-sql-select/publications.db\n",
      "Done.\n"
     ]
    },
    {
     "data": {
      "text/html": [
       "<table>\n",
       "    <thead>\n",
       "        <tr>\n",
       "            <th>Title_ID</th>\n",
       "            <th>Author_ID</th>\n",
       "            <th>Royalty</th>\n",
       "            <th>Advance</th>\n",
       "        </tr>\n",
       "    </thead>\n",
       "    <tbody>\n",
       "        <tr>\n",
       "            <td>PS3333</td>\n",
       "            <td>172-32-1176</td>\n",
       "            <td>30.0</td>\n",
       "            <td>2000</td>\n",
       "        </tr>\n",
       "        <tr>\n",
       "            <td>BU1032</td>\n",
       "            <td>213-46-8915</td>\n",
       "            <td>12.0</td>\n",
       "            <td>5000</td>\n",
       "        </tr>\n",
       "        <tr>\n",
       "            <td>BU2075</td>\n",
       "            <td>213-46-8915</td>\n",
       "            <td>25.0</td>\n",
       "            <td>10125</td>\n",
       "        </tr>\n",
       "        <tr>\n",
       "            <td>PC1035</td>\n",
       "            <td>238-95-7766</td>\n",
       "            <td>110.0</td>\n",
       "            <td>7000</td>\n",
       "        </tr>\n",
       "        <tr>\n",
       "            <td>BU1111</td>\n",
       "            <td>267-41-2394</td>\n",
       "            <td>12.0</td>\n",
       "            <td>5000</td>\n",
       "        </tr>\n",
       "    </tbody>\n",
       "</table>"
      ],
      "text/plain": [
       "[('PS3333', '172-32-1176', 30.0, 2000),\n",
       " ('BU1032', '213-46-8915', 12.0, 5000),\n",
       " ('BU2075', '213-46-8915', 25.0, 10125),\n",
       " ('PC1035', '238-95-7766', 110.0, 7000),\n",
       " ('BU1111', '267-41-2394', 12.0, 5000)]"
      ]
     },
     "execution_count": 31,
     "metadata": {},
     "output_type": "execute_result"
    }
   ],
   "source": [
    "%%sql\n",
    "select ta.title_id as Title_ID, aut.au_id as Author_ID, round(sum(tit.price * sal.qty * tit.royalty / 100 * ta.royaltyper / 100)) as Royalty, tit.advance as Advance\n",
    "from authors aut inner join titleauthor ta on ta.au_id = aut.au_id\n",
    "                 inner join sales sal on sal.title_id = ta.title_id\n",
    "                 inner join titles tit on tit.title_id = ta.title_id\n",
    "group by ta.title_id, aut.au_id\n",
    "limit 5"
   ]
  },
  {
   "cell_type": "code",
   "execution_count": 27,
   "metadata": {},
   "outputs": [
    {
     "name": "stdout",
     "output_type": "stream",
     "text": [
      " * sqlite:///../../lab-sql-select/publications.db\n",
      "Done.\n"
     ]
    },
    {
     "data": {
      "text/html": [
       "<table>\n",
       "    <thead>\n",
       "        <tr>\n",
       "            <th>Author_ID</th>\n",
       "            <th>Profit</th>\n",
       "        </tr>\n",
       "    </thead>\n",
       "    <tbody>\n",
       "        <tr>\n",
       "            <td>722-51-5454</td>\n",
       "            <td>15022.0</td>\n",
       "        </tr>\n",
       "        <tr>\n",
       "            <td>899-46-2035</td>\n",
       "            <td>15007.0</td>\n",
       "        </tr>\n",
       "        <tr>\n",
       "            <td>213-46-8915</td>\n",
       "            <td>10150.0</td>\n",
       "        </tr>\n",
       "    </tbody>\n",
       "</table>"
      ],
      "text/plain": [
       "[('722-51-5454', 15022.0), ('899-46-2035', 15007.0), ('213-46-8915', 10150.0)]"
      ]
     },
     "execution_count": 27,
     "metadata": {},
     "output_type": "execute_result"
    }
   ],
   "source": [
    "%%sql\n",
    "select Author_ID, Royalty + Advance as Profit \n",
    "\n",
    "from (select ta.title_id as Title_ID, aut.au_id as Author_ID, round(sum(tit.price * sal.qty * tit.royalty / 100 * ta.royaltyper / 100)) as Royalty, tit.advance as Advance\n",
    "from authors aut inner join titleauthor ta on ta.au_id = aut.au_id\n",
    "                 inner join sales sal on sal.title_id = ta.title_id\n",
    "                 inner join titles tit on tit.title_id = ta.title_id\n",
    "group by ta.title_id, aut.au_id)\n",
    "\n",
    "order by Profit desc\n",
    "limit 3"
   ]
  },
  {
   "cell_type": "markdown",
   "metadata": {},
   "source": [
    "## Challenge 2"
   ]
  },
  {
   "cell_type": "code",
   "execution_count": 34,
   "metadata": {},
   "outputs": [],
   "source": [
    "import pandas as pd"
   ]
  },
  {
   "cell_type": "code",
   "execution_count": 32,
   "metadata": {},
   "outputs": [],
   "source": [
    "db_url = 'sqlite:///../../lab-sql-select/publications.db'"
   ]
  },
  {
   "cell_type": "code",
   "execution_count": 37,
   "metadata": {},
   "outputs": [],
   "source": [
    "query = '''\n",
    "select Author_ID, Royalty + Advance as Profit \n",
    "\n",
    "from (select ta.title_id as Title_ID, aut.au_id as Author_ID, round(sum(tit.price * sal.qty * tit.royalty / 100 * ta.royaltyper / 100)) as Royalty, tit.advance as Advance\n",
    "from authors aut inner join titleauthor ta on ta.au_id = aut.au_id\n",
    "                 inner join sales sal on sal.title_id = ta.title_id\n",
    "                 inner join titles tit on tit.title_id = ta.title_id\n",
    "group by ta.title_id, aut.au_id)\n",
    "\n",
    "order by Profit desc\n",
    "'''"
   ]
  },
  {
   "cell_type": "code",
   "execution_count": 39,
   "metadata": {},
   "outputs": [
    {
     "data": {
      "text/html": [
       "<div>\n",
       "<style scoped>\n",
       "    .dataframe tbody tr th:only-of-type {\n",
       "        vertical-align: middle;\n",
       "    }\n",
       "\n",
       "    .dataframe tbody tr th {\n",
       "        vertical-align: top;\n",
       "    }\n",
       "\n",
       "    .dataframe thead th {\n",
       "        text-align: right;\n",
       "    }\n",
       "</style>\n",
       "<table border=\"1\" class=\"dataframe\">\n",
       "  <thead>\n",
       "    <tr style=\"text-align: right;\">\n",
       "      <th></th>\n",
       "      <th>Author_ID</th>\n",
       "      <th>Profit</th>\n",
       "    </tr>\n",
       "  </thead>\n",
       "  <tbody>\n",
       "    <tr>\n",
       "      <th>0</th>\n",
       "      <td>722-51-5454</td>\n",
       "      <td>15022.0</td>\n",
       "    </tr>\n",
       "    <tr>\n",
       "      <th>1</th>\n",
       "      <td>899-46-2035</td>\n",
       "      <td>15007.0</td>\n",
       "    </tr>\n",
       "    <tr>\n",
       "      <th>2</th>\n",
       "      <td>213-46-8915</td>\n",
       "      <td>10150.0</td>\n",
       "    </tr>\n",
       "  </tbody>\n",
       "</table>\n",
       "</div>"
      ],
      "text/plain": [
       "     Author_ID   Profit\n",
       "0  722-51-5454  15022.0\n",
       "1  899-46-2035  15007.0\n",
       "2  213-46-8915  10150.0"
      ]
     },
     "execution_count": 39,
     "metadata": {},
     "output_type": "execute_result"
    }
   ],
   "source": [
    "df = pd.read_sql(query, db_url)\n",
    "df.head(3)"
   ]
  },
  {
   "cell_type": "code",
   "execution_count": 40,
   "metadata": {},
   "outputs": [],
   "source": [
    "df.to_sql('most_profiting_authors',db_url,if_exists='replace',index=False)"
   ]
  },
  {
   "cell_type": "code",
   "execution_count": 41,
   "metadata": {},
   "outputs": [
    {
     "name": "stdout",
     "output_type": "stream",
     "text": [
      " * sqlite:///../../lab-sql-select/publications.db\n",
      "Done.\n"
     ]
    },
    {
     "data": {
      "text/html": [
       "<table>\n",
       "    <thead>\n",
       "        <tr>\n",
       "            <th>Author_ID</th>\n",
       "            <th>Profit</th>\n",
       "        </tr>\n",
       "    </thead>\n",
       "    <tbody>\n",
       "        <tr>\n",
       "            <td>722-51-5454</td>\n",
       "            <td>15022.0</td>\n",
       "        </tr>\n",
       "        <tr>\n",
       "            <td>899-46-2035</td>\n",
       "            <td>15007.0</td>\n",
       "        </tr>\n",
       "        <tr>\n",
       "            <td>213-46-8915</td>\n",
       "            <td>10150.0</td>\n",
       "        </tr>\n",
       "        <tr>\n",
       "            <td>427-17-2319</td>\n",
       "            <td>8050.0</td>\n",
       "        </tr>\n",
       "        <tr>\n",
       "            <td>846-92-7186</td>\n",
       "            <td>8050.0</td>\n",
       "        </tr>\n",
       "        <tr>\n",
       "            <td>672-71-3249</td>\n",
       "            <td>8012.0</td>\n",
       "        </tr>\n",
       "        <tr>\n",
       "            <td>267-41-2394</td>\n",
       "            <td>8009.0</td>\n",
       "        </tr>\n",
       "        <tr>\n",
       "            <td>472-27-2349</td>\n",
       "            <td>8009.0</td>\n",
       "        </tr>\n",
       "        <tr>\n",
       "            <td>238-95-7766</td>\n",
       "            <td>7110.0</td>\n",
       "        </tr>\n",
       "        <tr>\n",
       "            <td>807-91-6654</td>\n",
       "            <td>7084.0</td>\n",
       "        </tr>\n",
       "        <tr>\n",
       "            <td>756-30-7391</td>\n",
       "            <td>7032.0</td>\n",
       "        </tr>\n",
       "        <tr>\n",
       "            <td>724-80-9391</td>\n",
       "            <td>7011.0</td>\n",
       "        </tr>\n",
       "        <tr>\n",
       "            <td>998-72-3567</td>\n",
       "            <td>6017.0</td>\n",
       "        </tr>\n",
       "        <tr>\n",
       "            <td>274-80-9391</td>\n",
       "            <td>5030.0</td>\n",
       "        </tr>\n",
       "        <tr>\n",
       "            <td>409-56-7008</td>\n",
       "            <td>5018.0</td>\n",
       "        </tr>\n",
       "        <tr>\n",
       "            <td>724-80-9391</td>\n",
       "            <td>5018.0</td>\n",
       "        </tr>\n",
       "        <tr>\n",
       "            <td>213-46-8915</td>\n",
       "            <td>5012.0</td>\n",
       "        </tr>\n",
       "        <tr>\n",
       "            <td>267-41-2394</td>\n",
       "            <td>5012.0</td>\n",
       "        </tr>\n",
       "        <tr>\n",
       "            <td>648-92-1872</td>\n",
       "            <td>4033.0</td>\n",
       "        </tr>\n",
       "        <tr>\n",
       "            <td>486-29-1786</td>\n",
       "            <td>4020.0</td>\n",
       "        </tr>\n",
       "        <tr>\n",
       "            <td>899-46-2035</td>\n",
       "            <td>2346.0</td>\n",
       "        </tr>\n",
       "        <tr>\n",
       "            <td>998-72-3567</td>\n",
       "            <td>2346.0</td>\n",
       "        </tr>\n",
       "        <tr>\n",
       "            <td>172-32-1176</td>\n",
       "            <td>2030.0</td>\n",
       "        </tr>\n",
       "        <tr>\n",
       "            <td>712-45-1867</td>\n",
       "            <td>24.0</td>\n",
       "        </tr>\n",
       "    </tbody>\n",
       "</table>"
      ],
      "text/plain": [
       "[('722-51-5454', 15022.0),\n",
       " ('899-46-2035', 15007.0),\n",
       " ('213-46-8915', 10150.0),\n",
       " ('427-17-2319', 8050.0),\n",
       " ('846-92-7186', 8050.0),\n",
       " ('672-71-3249', 8012.0),\n",
       " ('267-41-2394', 8009.0),\n",
       " ('472-27-2349', 8009.0),\n",
       " ('238-95-7766', 7110.0),\n",
       " ('807-91-6654', 7084.0),\n",
       " ('756-30-7391', 7032.0),\n",
       " ('724-80-9391', 7011.0),\n",
       " ('998-72-3567', 6017.0),\n",
       " ('274-80-9391', 5030.0),\n",
       " ('409-56-7008', 5018.0),\n",
       " ('724-80-9391', 5018.0),\n",
       " ('213-46-8915', 5012.0),\n",
       " ('267-41-2394', 5012.0),\n",
       " ('648-92-1872', 4033.0),\n",
       " ('486-29-1786', 4020.0),\n",
       " ('899-46-2035', 2346.0),\n",
       " ('998-72-3567', 2346.0),\n",
       " ('172-32-1176', 2030.0),\n",
       " ('712-45-1867', 24.0)]"
      ]
     },
     "execution_count": 41,
     "metadata": {},
     "output_type": "execute_result"
    }
   ],
   "source": [
    "%%sql\n",
    "select *\n",
    "from most_profiting_authors"
   ]
  },
  {
   "cell_type": "code",
   "execution_count": null,
   "metadata": {},
   "outputs": [],
   "source": []
  }
 ],
 "metadata": {
  "kernelspec": {
   "display_name": "Python 3",
   "language": "python",
   "name": "python3"
  },
  "language_info": {
   "codemirror_mode": {
    "name": "ipython",
    "version": 3
   },
   "file_extension": ".py",
   "mimetype": "text/x-python",
   "name": "python",
   "nbconvert_exporter": "python",
   "pygments_lexer": "ipython3",
   "version": "3.8.5"
  },
  "toc": {
   "base_numbering": 1,
   "nav_menu": {},
   "number_sections": true,
   "sideBar": true,
   "skip_h1_title": false,
   "title_cell": "Table of Contents",
   "title_sidebar": "Contents",
   "toc_cell": false,
   "toc_position": {},
   "toc_section_display": true,
   "toc_window_display": false
  },
  "varInspector": {
   "cols": {
    "lenName": 16,
    "lenType": 16,
    "lenVar": 40
   },
   "kernels_config": {
    "python": {
     "delete_cmd_postfix": "",
     "delete_cmd_prefix": "del ",
     "library": "var_list.py",
     "varRefreshCmd": "print(var_dic_list())"
    },
    "r": {
     "delete_cmd_postfix": ") ",
     "delete_cmd_prefix": "rm(",
     "library": "var_list.r",
     "varRefreshCmd": "cat(var_dic_list()) "
    }
   },
   "types_to_exclude": [
    "module",
    "function",
    "builtin_function_or_method",
    "instance",
    "_Feature"
   ],
   "window_display": false
  }
 },
 "nbformat": 4,
 "nbformat_minor": 4
}
