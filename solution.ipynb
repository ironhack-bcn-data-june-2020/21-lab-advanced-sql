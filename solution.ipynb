{
 "cells": [
  {
   "cell_type": "code",
   "execution_count": 1,
   "metadata": {},
   "outputs": [],
   "source": [
    "%load_ext sql"
   ]
  },
  {
   "cell_type": "code",
   "execution_count": 2,
   "metadata": {},
   "outputs": [
    {
     "data": {
      "text/plain": [
       "'Connected: @/Users//samue//Desktop//Bootcamp//lab-sql-select//publications.db'"
      ]
     },
     "execution_count": 2,
     "metadata": {},
     "output_type": "execute_result"
    }
   ],
   "source": [
    "%sql sqlite:////Users//samue//Desktop//Bootcamp//lab-sql-select//publications.db"
   ]
  },
  {
   "cell_type": "code",
   "execution_count": 3,
   "metadata": {},
   "outputs": [],
   "source": [
    "# CHALLENGE 1"
   ]
  },
  {
   "cell_type": "code",
   "execution_count": 8,
   "metadata": {},
   "outputs": [
    {
     "name": "stdout",
     "output_type": "stream",
     "text": [
      " * sqlite:////Users//samue//Desktop//Bootcamp//lab-sql-select//publications.db\n",
      "Done.\n",
      "Done.\n",
      "Done.\n"
     ]
    },
    {
     "data": {
      "text/html": [
       "<table>\n",
       "    <thead>\n",
       "        <tr>\n",
       "            <th>AUTHOR ID</th>\n",
       "            <th>LAST NAME</th>\n",
       "            <th>FIRST NAME</th>\n",
       "            <th>PROFITS</th>\n",
       "        </tr>\n",
       "    </thead>\n",
       "    <tbody>\n",
       "        <tr>\n",
       "            <td>899-46-2035</td>\n",
       "            <td>Ringer</td>\n",
       "            <td>Anne</td>\n",
       "            <td>17353.131999999998</td>\n",
       "        </tr>\n",
       "        <tr>\n",
       "            <td>213-46-8915</td>\n",
       "            <td>Green</td>\n",
       "            <td>Marjorie</td>\n",
       "            <td>15162.11</td>\n",
       "        </tr>\n",
       "        <tr>\n",
       "            <td>722-51-5454</td>\n",
       "            <td>DeFrance</td>\n",
       "            <td>Michel</td>\n",
       "            <td>15021.528</td>\n",
       "        </tr>\n",
       "    </tbody>\n",
       "</table>"
      ],
      "text/plain": [
       "[('899-46-2035', 'Ringer', 'Anne', 17353.131999999998),\n",
       " ('213-46-8915', 'Green', 'Marjorie', 15162.11),\n",
       " ('722-51-5454', 'DeFrance', 'Michel', 15021.528)]"
      ]
     },
     "execution_count": 8,
     "metadata": {},
     "output_type": "execute_result"
    }
   ],
   "source": [
    "%%sql\n",
    "select t.title_id, t.price, t.advance, t.royalty, s.qty, a.au_id, ta.royaltyper, (t.price * s.qty * t.royalty * ta.royaltyper / 10000) as ROYALTIES\n",
    "from titles t\n",
    "inner join sales s on s.title_id = t.title_id\n",
    "inner join titleauthor ta on ta.title_id = s.title_id\n",
    "inner join authors a on a.au_id = ta.au_id\n",
    "order by t.title_id, a.au_id;\n",
    "\n",
    "select title_id, au_id, au_lname, au_fname, advance, sum(ROYALTIES) as ROYALTIES from \n",
    "(\n",
    "\tselect t.title_id, t.price, t.advance, t.royalty, s.qty, a.au_id, au_lname, au_fname, ta.royaltyper, (t.price * s.qty * t.royalty * ta.royaltyper / 10000) as ROYALTIES\n",
    "\tfrom titles t\n",
    "\tinner join sales s on s.title_id = t.title_id\n",
    "\tinner join titleauthor ta on ta.title_id = s.title_id\n",
    "\tinner join authors a on a.au_id = ta.au_id\n",
    ") as tmp\n",
    "group by au_id, title_id\n",
    "order by ROYALTIES desc;\n",
    "\n",
    "select au_id as \"AUTHOR ID\", au_lname as \"LAST NAME\", au_fname as \"FIRST NAME\", sum(advance + ROYALTIES) as PROFITS from \n",
    "(\n",
    "\tselect title_id, au_id, au_lname, au_fname, advance, sum(ROYALTIES) as ROYALTIES from (\n",
    "\t\tselect t.title_id, t.price, t.advance, t.royalty, s.qty, a.au_id, au_lname, au_fname, ta.royaltyper, (t.price * s.qty * t.royalty * ta.royaltyper / 10000) as ROYALTIES\n",
    "\t\tfrom titles t\n",
    "\t\tinner join sales s on s.title_id = t.title_id\n",
    "\t\tinner join titleauthor ta on ta.title_id = s.title_id\n",
    "\t\tinner join authors a on a.au_id = ta.au_id\n",
    "\t) as tmp\n",
    "\tgroup by au_id, title_id\n",
    ") as tmp2\n",
    "group by au_id\n",
    "order by PROFITS desc\n",
    "limit 3"
   ]
  },
  {
   "cell_type": "code",
   "execution_count": 9,
   "metadata": {},
   "outputs": [],
   "source": [
    "# CHALLENGE 2"
   ]
  },
  {
   "cell_type": "code",
   "execution_count": null,
   "metadata": {},
   "outputs": [],
   "source": []
  }
 ],
 "metadata": {
  "kernelspec": {
   "display_name": "Python 3",
   "language": "python",
   "name": "python3"
  },
  "language_info": {
   "codemirror_mode": {
    "name": "ipython",
    "version": 3
   },
   "file_extension": ".py",
   "mimetype": "text/x-python",
   "name": "python",
   "nbconvert_exporter": "python",
   "pygments_lexer": "ipython3",
   "version": "3.8.5"
  },
  "toc": {
   "base_numbering": 1,
   "nav_menu": {},
   "number_sections": true,
   "sideBar": true,
   "skip_h1_title": false,
   "title_cell": "Table of Contents",
   "title_sidebar": "Contents",
   "toc_cell": false,
   "toc_position": {},
   "toc_section_display": true,
   "toc_window_display": false
  },
  "varInspector": {
   "cols": {
    "lenName": 16,
    "lenType": 16,
    "lenVar": 40
   },
   "kernels_config": {
    "python": {
     "delete_cmd_postfix": "",
     "delete_cmd_prefix": "del ",
     "library": "var_list.py",
     "varRefreshCmd": "print(var_dic_list())"
    },
    "r": {
     "delete_cmd_postfix": ") ",
     "delete_cmd_prefix": "rm(",
     "library": "var_list.r",
     "varRefreshCmd": "cat(var_dic_list()) "
    }
   },
   "types_to_exclude": [
    "module",
    "function",
    "builtin_function_or_method",
    "instance",
    "_Feature"
   ],
   "window_display": false
  }
 },
 "nbformat": 4,
 "nbformat_minor": 4
}
