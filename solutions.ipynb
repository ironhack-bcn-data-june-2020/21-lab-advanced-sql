{
 "cells": [
  {
   "cell_type": "markdown",
   "id": "characteristic-passage",
   "metadata": {},
   "source": [
    "# Challenge 1"
   ]
  },
  {
   "cell_type": "markdown",
   "id": "julian-active",
   "metadata": {},
   "source": [
    "Who are the top 3 most profiting authors?"
   ]
  },
  {
   "cell_type": "code",
   "execution_count": 1,
   "id": "vulnerable-modern",
   "metadata": {},
   "outputs": [],
   "source": [
    "import pandas as pd"
   ]
  },
  {
   "cell_type": "code",
   "execution_count": 2,
   "id": "willing-district",
   "metadata": {},
   "outputs": [],
   "source": [
    "%load_ext sql"
   ]
  },
  {
   "cell_type": "code",
   "execution_count": 3,
   "id": "suitable-romania",
   "metadata": {},
   "outputs": [],
   "source": [
    "%sql sqlite:///C:\\\\Users\\\\Júlia\\\\Documents\\\\Ironhack\\\\1_modulo_1\\\\Labs\\\\20-lab-sql-select\\\\publications.db"
   ]
  },
  {
   "cell_type": "markdown",
   "id": "banner-trick",
   "metadata": {},
   "source": [
    "## Step 1: Calculate the royalties of each sales for each author"
   ]
  },
  {
   "cell_type": "markdown",
   "id": "center-tuition",
   "metadata": {},
   "source": [
    "Write a SELECT query to obtain the following output:\n",
    "\n",
    "- Title ID\n",
    "- Author ID\n",
    "- Royalty of each sale for each author\n",
    "\n",
    "The formula is:\n",
    "sales_royalty = titles.price * sales.qty * titles.royalty / 100 * titleauthor.royaltyper / 100\n",
    "Note that titles.royalty and titleauthor.royaltyper are divided by 100 respectively because they are percentage numbers instead of floats.\n",
    "\n",
    "In the output of this step, each title may appear more than once for each author. This is because a title can have more than one sales."
   ]
  },
  {
   "cell_type": "code",
   "execution_count": 4,
   "id": "promotional-summary",
   "metadata": {},
   "outputs": [
    {
     "name": "stdout",
     "output_type": "stream",
     "text": [
      " * sqlite:///C:\\\\Users\\\\Júlia\\\\Documents\\\\Ironhack\\\\1_modulo_1\\\\Labs\\\\20-lab-sql-select\\\\publications.db\n",
      "Done.\n"
     ]
    },
    {
     "data": {
      "text/html": [
       "<table>\n",
       "    <tr>\n",
       "        <th>title_id</th>\n",
       "        <th>au_id</th>\n",
       "        <th>sales_royalty</th>\n",
       "    </tr>\n",
       "    <tr>\n",
       "        <td>PS3333</td>\n",
       "        <td>172-32-1176</td>\n",
       "        <td>29.984999999999996</td>\n",
       "    </tr>\n",
       "    <tr>\n",
       "        <td>BU1032</td>\n",
       "        <td>213-46-8915</td>\n",
       "        <td>3.9979999999999993</td>\n",
       "    </tr>\n",
       "    <tr>\n",
       "        <td>BU1032</td>\n",
       "        <td>213-46-8915</td>\n",
       "        <td>7.995999999999999</td>\n",
       "    </tr>\n",
       "    <tr>\n",
       "        <td>BU2075</td>\n",
       "        <td>213-46-8915</td>\n",
       "        <td>25.116000000000003</td>\n",
       "    </tr>\n",
       "    <tr>\n",
       "        <td>PC1035</td>\n",
       "        <td>238-95-7766</td>\n",
       "        <td>110.16</td>\n",
       "    </tr>\n",
       "    <tr>\n",
       "        <td>BU1111</td>\n",
       "        <td>267-41-2394</td>\n",
       "        <td>11.95</td>\n",
       "    </tr>\n",
       "    <tr>\n",
       "        <td>TC7777</td>\n",
       "        <td>267-41-2394</td>\n",
       "        <td>8.994</td>\n",
       "    </tr>\n",
       "    <tr>\n",
       "        <td>BU7832</td>\n",
       "        <td>274-80-9391</td>\n",
       "        <td>29.984999999999996</td>\n",
       "    </tr>\n",
       "    <tr>\n",
       "        <td>BU1032</td>\n",
       "        <td>409-56-7008</td>\n",
       "        <td>5.996999999999999</td>\n",
       "    </tr>\n",
       "    <tr>\n",
       "        <td>BU1032</td>\n",
       "        <td>409-56-7008</td>\n",
       "        <td>11.993999999999998</td>\n",
       "    </tr>\n",
       "    <tr>\n",
       "        <td>PC8888</td>\n",
       "        <td>427-17-2319</td>\n",
       "        <td>50</td>\n",
       "    </tr>\n",
       "    <tr>\n",
       "        <td>TC7777</td>\n",
       "        <td>472-27-2349</td>\n",
       "        <td>8.994</td>\n",
       "    </tr>\n",
       "    <tr>\n",
       "        <td>PS7777</td>\n",
       "        <td>486-29-1786</td>\n",
       "        <td>19.975</td>\n",
       "    </tr>\n",
       "    <tr>\n",
       "        <td>TC4203</td>\n",
       "        <td>648-92-1872</td>\n",
       "        <td>33.46</td>\n",
       "    </tr>\n",
       "    <tr>\n",
       "        <td>TC7777</td>\n",
       "        <td>672-71-3249</td>\n",
       "        <td>11.992</td>\n",
       "    </tr>\n",
       "    <tr>\n",
       "        <td>MC2222</td>\n",
       "        <td>712-45-1867</td>\n",
       "        <td>23.987999999999996</td>\n",
       "    </tr>\n",
       "    <tr>\n",
       "        <td>MC3021</td>\n",
       "        <td>722-51-5454</td>\n",
       "        <td>13.455</td>\n",
       "    </tr>\n",
       "    <tr>\n",
       "        <td>MC3021</td>\n",
       "        <td>722-51-5454</td>\n",
       "        <td>8.073</td>\n",
       "    </tr>\n",
       "    <tr>\n",
       "        <td>BU1111</td>\n",
       "        <td>724-80-9391</td>\n",
       "        <td>17.925</td>\n",
       "    </tr>\n",
       "    <tr>\n",
       "        <td>PS1372</td>\n",
       "        <td>724-80-9391</td>\n",
       "        <td>10.795</td>\n",
       "    </tr>\n",
       "    <tr>\n",
       "        <td>PS1372</td>\n",
       "        <td>756-30-7391</td>\n",
       "        <td>32.385</td>\n",
       "    </tr>\n",
       "    <tr>\n",
       "        <td>TC3218</td>\n",
       "        <td>807-91-6654</td>\n",
       "        <td>83.8</td>\n",
       "    </tr>\n",
       "    <tr>\n",
       "        <td>PC8888</td>\n",
       "        <td>846-92-7186</td>\n",
       "        <td>50</td>\n",
       "    </tr>\n",
       "    <tr>\n",
       "        <td>MC3021</td>\n",
       "        <td>899-46-2035</td>\n",
       "        <td>4.485</td>\n",
       "    </tr>\n",
       "    <tr>\n",
       "        <td>MC3021</td>\n",
       "        <td>899-46-2035</td>\n",
       "        <td>2.6910000000000003</td>\n",
       "    </tr>\n",
       "    <tr>\n",
       "        <td>PS2091</td>\n",
       "        <td>899-46-2035</td>\n",
       "        <td>1.9709999999999996</td>\n",
       "    </tr>\n",
       "    <tr>\n",
       "        <td>PS2091</td>\n",
       "        <td>899-46-2035</td>\n",
       "        <td>49.275</td>\n",
       "    </tr>\n",
       "    <tr>\n",
       "        <td>PS2091</td>\n",
       "        <td>899-46-2035</td>\n",
       "        <td>6.57</td>\n",
       "    </tr>\n",
       "    <tr>\n",
       "        <td>PS2091</td>\n",
       "        <td>899-46-2035</td>\n",
       "        <td>13.14</td>\n",
       "    </tr>\n",
       "    <tr>\n",
       "        <td>PS2091</td>\n",
       "        <td>998-72-3567</td>\n",
       "        <td>1.9709999999999996</td>\n",
       "    </tr>\n",
       "    <tr>\n",
       "        <td>PS2091</td>\n",
       "        <td>998-72-3567</td>\n",
       "        <td>49.275</td>\n",
       "    </tr>\n",
       "    <tr>\n",
       "        <td>PS2091</td>\n",
       "        <td>998-72-3567</td>\n",
       "        <td>6.57</td>\n",
       "    </tr>\n",
       "    <tr>\n",
       "        <td>PS2091</td>\n",
       "        <td>998-72-3567</td>\n",
       "        <td>13.14</td>\n",
       "    </tr>\n",
       "    <tr>\n",
       "        <td>PS2106</td>\n",
       "        <td>998-72-3567</td>\n",
       "        <td>17</td>\n",
       "    </tr>\n",
       "</table>"
      ],
      "text/plain": [
       "[('PS3333', '172-32-1176', 29.984999999999996),\n",
       " ('BU1032', '213-46-8915', 3.9979999999999993),\n",
       " ('BU1032', '213-46-8915', 7.995999999999999),\n",
       " ('BU2075', '213-46-8915', 25.116000000000003),\n",
       " ('PC1035', '238-95-7766', 110.16),\n",
       " ('BU1111', '267-41-2394', 11.95),\n",
       " ('TC7777', '267-41-2394', 8.994),\n",
       " ('BU7832', '274-80-9391', 29.984999999999996),\n",
       " ('BU1032', '409-56-7008', 5.996999999999999),\n",
       " ('BU1032', '409-56-7008', 11.993999999999998),\n",
       " ('PC8888', '427-17-2319', 50),\n",
       " ('TC7777', '472-27-2349', 8.994),\n",
       " ('PS7777', '486-29-1786', 19.975),\n",
       " ('TC4203', '648-92-1872', 33.46),\n",
       " ('TC7777', '672-71-3249', 11.992),\n",
       " ('MC2222', '712-45-1867', 23.987999999999996),\n",
       " ('MC3021', '722-51-5454', 13.455),\n",
       " ('MC3021', '722-51-5454', 8.073),\n",
       " ('BU1111', '724-80-9391', 17.925),\n",
       " ('PS1372', '724-80-9391', 10.795),\n",
       " ('PS1372', '756-30-7391', 32.385),\n",
       " ('TC3218', '807-91-6654', 83.8),\n",
       " ('PC8888', '846-92-7186', 50),\n",
       " ('MC3021', '899-46-2035', 4.485),\n",
       " ('MC3021', '899-46-2035', 2.6910000000000003),\n",
       " ('PS2091', '899-46-2035', 1.9709999999999996),\n",
       " ('PS2091', '899-46-2035', 49.275),\n",
       " ('PS2091', '899-46-2035', 6.57),\n",
       " ('PS2091', '899-46-2035', 13.14),\n",
       " ('PS2091', '998-72-3567', 1.9709999999999996),\n",
       " ('PS2091', '998-72-3567', 49.275),\n",
       " ('PS2091', '998-72-3567', 6.57),\n",
       " ('PS2091', '998-72-3567', 13.14),\n",
       " ('PS2106', '998-72-3567', 17)]"
      ]
     },
     "execution_count": 4,
     "metadata": {},
     "output_type": "execute_result"
    }
   ],
   "source": [
    "%%sql \n",
    "select  t.title_id, ta.au_id, (t.price * s.qty * t.royalty / 100 * ta.royaltyper / 100) as sales_royalty\n",
    "from titles t inner join titleauthor ta on t.title_id = ta.title_id\n",
    "inner join sales s on s.title_id = t.title_id"
   ]
  },
  {
   "cell_type": "markdown",
   "id": "prepared-palestine",
   "metadata": {},
   "source": [
    "## Step 2: Aggregate the total royalties for each title for each author"
   ]
  },
  {
   "cell_type": "markdown",
   "id": "sensitive-mattress",
   "metadata": {},
   "source": [
    "Using the output from Step 1, write a query to obtain the following output:\n",
    "\n",
    "- Title ID\n",
    "- Author ID\n",
    "- Aggregated royalties of each title for each author\n",
    "\n",
    "Hint: use the SUM subquery and group by both au_id and title_id\n",
    "\n",
    "In the output of this step, each title should appear only once for each author."
   ]
  },
  {
   "cell_type": "code",
   "execution_count": 5,
   "id": "backed-navigation",
   "metadata": {},
   "outputs": [
    {
     "name": "stdout",
     "output_type": "stream",
     "text": [
      " * sqlite:///C:\\\\Users\\\\Júlia\\\\Documents\\\\Ironhack\\\\1_modulo_1\\\\Labs\\\\20-lab-sql-select\\\\publications.db\n",
      "Done.\n"
     ]
    },
    {
     "data": {
      "text/html": [
       "<table>\n",
       "    <tr>\n",
       "        <th>title_id</th>\n",
       "        <th>au_id</th>\n",
       "        <th>total_sales_royalty</th>\n",
       "    </tr>\n",
       "    <tr>\n",
       "        <td>BU1032</td>\n",
       "        <td>213-46-8915</td>\n",
       "        <td>11.993999999999998</td>\n",
       "    </tr>\n",
       "    <tr>\n",
       "        <td>BU1032</td>\n",
       "        <td>409-56-7008</td>\n",
       "        <td>17.990999999999996</td>\n",
       "    </tr>\n",
       "    <tr>\n",
       "        <td>BU1111</td>\n",
       "        <td>267-41-2394</td>\n",
       "        <td>11.95</td>\n",
       "    </tr>\n",
       "    <tr>\n",
       "        <td>BU1111</td>\n",
       "        <td>724-80-9391</td>\n",
       "        <td>17.925</td>\n",
       "    </tr>\n",
       "    <tr>\n",
       "        <td>BU2075</td>\n",
       "        <td>213-46-8915</td>\n",
       "        <td>25.116000000000003</td>\n",
       "    </tr>\n",
       "    <tr>\n",
       "        <td>BU7832</td>\n",
       "        <td>274-80-9391</td>\n",
       "        <td>29.984999999999996</td>\n",
       "    </tr>\n",
       "    <tr>\n",
       "        <td>MC2222</td>\n",
       "        <td>712-45-1867</td>\n",
       "        <td>23.987999999999996</td>\n",
       "    </tr>\n",
       "    <tr>\n",
       "        <td>MC3021</td>\n",
       "        <td>722-51-5454</td>\n",
       "        <td>21.528</td>\n",
       "    </tr>\n",
       "    <tr>\n",
       "        <td>MC3021</td>\n",
       "        <td>899-46-2035</td>\n",
       "        <td>7.176</td>\n",
       "    </tr>\n",
       "    <tr>\n",
       "        <td>PC1035</td>\n",
       "        <td>238-95-7766</td>\n",
       "        <td>110.16</td>\n",
       "    </tr>\n",
       "    <tr>\n",
       "        <td>PC8888</td>\n",
       "        <td>427-17-2319</td>\n",
       "        <td>50</td>\n",
       "    </tr>\n",
       "    <tr>\n",
       "        <td>PC8888</td>\n",
       "        <td>846-92-7186</td>\n",
       "        <td>50</td>\n",
       "    </tr>\n",
       "    <tr>\n",
       "        <td>PS1372</td>\n",
       "        <td>724-80-9391</td>\n",
       "        <td>10.795</td>\n",
       "    </tr>\n",
       "    <tr>\n",
       "        <td>PS1372</td>\n",
       "        <td>756-30-7391</td>\n",
       "        <td>32.385</td>\n",
       "    </tr>\n",
       "    <tr>\n",
       "        <td>PS2091</td>\n",
       "        <td>899-46-2035</td>\n",
       "        <td>70.956</td>\n",
       "    </tr>\n",
       "    <tr>\n",
       "        <td>PS2091</td>\n",
       "        <td>998-72-3567</td>\n",
       "        <td>70.956</td>\n",
       "    </tr>\n",
       "    <tr>\n",
       "        <td>PS2106</td>\n",
       "        <td>998-72-3567</td>\n",
       "        <td>17</td>\n",
       "    </tr>\n",
       "    <tr>\n",
       "        <td>PS3333</td>\n",
       "        <td>172-32-1176</td>\n",
       "        <td>29.984999999999996</td>\n",
       "    </tr>\n",
       "    <tr>\n",
       "        <td>PS7777</td>\n",
       "        <td>486-29-1786</td>\n",
       "        <td>19.975</td>\n",
       "    </tr>\n",
       "    <tr>\n",
       "        <td>TC3218</td>\n",
       "        <td>807-91-6654</td>\n",
       "        <td>83.8</td>\n",
       "    </tr>\n",
       "    <tr>\n",
       "        <td>TC4203</td>\n",
       "        <td>648-92-1872</td>\n",
       "        <td>33.46</td>\n",
       "    </tr>\n",
       "    <tr>\n",
       "        <td>TC7777</td>\n",
       "        <td>267-41-2394</td>\n",
       "        <td>8.994</td>\n",
       "    </tr>\n",
       "    <tr>\n",
       "        <td>TC7777</td>\n",
       "        <td>472-27-2349</td>\n",
       "        <td>8.994</td>\n",
       "    </tr>\n",
       "    <tr>\n",
       "        <td>TC7777</td>\n",
       "        <td>672-71-3249</td>\n",
       "        <td>11.992</td>\n",
       "    </tr>\n",
       "</table>"
      ],
      "text/plain": [
       "[('BU1032', '213-46-8915', 11.993999999999998),\n",
       " ('BU1032', '409-56-7008', 17.990999999999996),\n",
       " ('BU1111', '267-41-2394', 11.95),\n",
       " ('BU1111', '724-80-9391', 17.925),\n",
       " ('BU2075', '213-46-8915', 25.116000000000003),\n",
       " ('BU7832', '274-80-9391', 29.984999999999996),\n",
       " ('MC2222', '712-45-1867', 23.987999999999996),\n",
       " ('MC3021', '722-51-5454', 21.528),\n",
       " ('MC3021', '899-46-2035', 7.176),\n",
       " ('PC1035', '238-95-7766', 110.16),\n",
       " ('PC8888', '427-17-2319', 50),\n",
       " ('PC8888', '846-92-7186', 50),\n",
       " ('PS1372', '724-80-9391', 10.795),\n",
       " ('PS1372', '756-30-7391', 32.385),\n",
       " ('PS2091', '899-46-2035', 70.956),\n",
       " ('PS2091', '998-72-3567', 70.956),\n",
       " ('PS2106', '998-72-3567', 17),\n",
       " ('PS3333', '172-32-1176', 29.984999999999996),\n",
       " ('PS7777', '486-29-1786', 19.975),\n",
       " ('TC3218', '807-91-6654', 83.8),\n",
       " ('TC4203', '648-92-1872', 33.46),\n",
       " ('TC7777', '267-41-2394', 8.994),\n",
       " ('TC7777', '472-27-2349', 8.994),\n",
       " ('TC7777', '672-71-3249', 11.992)]"
      ]
     },
     "execution_count": 5,
     "metadata": {},
     "output_type": "execute_result"
    }
   ],
   "source": [
    "%%sql \n",
    "select t.title_id, ta.au_id, sum(t.price * s.qty * t.royalty / 100 * ta.royaltyper / 100) as total_sales_royalty\n",
    "from titles t inner join titleauthor ta on t.title_id = ta.title_id\n",
    "inner join sales s on s.title_id = t.title_id\n",
    "group by t.title_id, ta.au_id"
   ]
  },
  {
   "cell_type": "markdown",
   "id": "minor-category",
   "metadata": {},
   "source": [
    "## Step 3: Calculate the total profits of each author"
   ]
  },
  {
   "cell_type": "markdown",
   "id": "professional-table",
   "metadata": {},
   "source": [
    "Now that each title has exactly one row for each author where the advance and royalties are available, we are ready to obtain the eventual output. Using the output from Step 2, write a query to obtain the following output:\n",
    "\n",
    "- Author ID\n",
    "- Profits of each author by aggregating the advance and total royalties of each title\n",
    "\n",
    "Sort the output based on a total profits from high to low, and limit the number of rows to 3."
   ]
  },
  {
   "cell_type": "code",
   "execution_count": 6,
   "id": "disciplinary-chancellor",
   "metadata": {},
   "outputs": [
    {
     "name": "stdout",
     "output_type": "stream",
     "text": [
      " * sqlite:///C:\\\\Users\\\\Júlia\\\\Documents\\\\Ironhack\\\\1_modulo_1\\\\Labs\\\\20-lab-sql-select\\\\publications.db\n",
      "Done.\n"
     ]
    },
    {
     "data": {
      "text/html": [
       "<table>\n",
       "    <tr>\n",
       "        <th>au_id</th>\n",
       "        <th>profits</th>\n",
       "    </tr>\n",
       "    <tr>\n",
       "        <td>722-51-5454</td>\n",
       "        <td>15021.528</td>\n",
       "    </tr>\n",
       "    <tr>\n",
       "        <td>899-46-2035</td>\n",
       "        <td>15007.176</td>\n",
       "    </tr>\n",
       "    <tr>\n",
       "        <td>213-46-8915</td>\n",
       "        <td>10150.116</td>\n",
       "    </tr>\n",
       "</table>"
      ],
      "text/plain": [
       "[('722-51-5454', 15021.528),\n",
       " ('899-46-2035', 15007.176),\n",
       " ('213-46-8915', 10150.116)]"
      ]
     },
     "execution_count": 6,
     "metadata": {},
     "output_type": "execute_result"
    }
   ],
   "source": [
    "%%sql\n",
    "with tabla_auxiliar as\n",
    "(select t.title_id, ta.au_id, sum(t.price * s.qty * t.royalty / 100 * ta.royaltyper / 100) as total_sales_royalty\n",
    "from titles t inner join titleauthor ta on t.title_id = ta.title_id\n",
    "inner join sales s on s.title_id = t.title_id\n",
    "group by t.title_id, ta.au_id)\n",
    "\n",
    "select au_id, (total_sales_royalty + t.advance) as profits\n",
    "from tabla_auxiliar aux inner join titles t on aux.title_id = t.title_id\n",
    "order by profits desc\n",
    "limit 3"
   ]
  },
  {
   "cell_type": "markdown",
   "id": "express-smooth",
   "metadata": {},
   "source": [
    "# Challenge 2"
   ]
  },
  {
   "cell_type": "markdown",
   "id": "turned-grove",
   "metadata": {},
   "source": [
    "Elevating from your solution in Challenge 1, create a table named most_profiting_authors to hold the data about the most profiting authors. The table should have 2 columns:\n",
    "\n",
    "- au_id - Author ID\n",
    "- profits - The profits of the author aggregating the advances and royalties"
   ]
  },
  {
   "cell_type": "code",
   "execution_count": 7,
   "id": "satellite-complex",
   "metadata": {},
   "outputs": [
    {
     "name": "stdout",
     "output_type": "stream",
     "text": [
      " * sqlite:///C:\\\\Users\\\\Júlia\\\\Documents\\\\Ironhack\\\\1_modulo_1\\\\Labs\\\\20-lab-sql-select\\\\publications.db\n",
      "Done.\n"
     ]
    },
    {
     "ename": "ResourceClosedError",
     "evalue": "This result object does not return rows. It has been closed automatically.",
     "output_type": "error",
     "traceback": [
      "\u001b[1;31m---------------------------------------------------------------------------\u001b[0m",
      "\u001b[1;31mResourceClosedError\u001b[0m                       Traceback (most recent call last)",
      "\u001b[1;32m<ipython-input-7-0ff640129f1e>\u001b[0m in \u001b[0;36m<module>\u001b[1;34m\u001b[0m\n\u001b[1;32m----> 1\u001b[1;33m \u001b[0mget_ipython\u001b[0m\u001b[1;33m(\u001b[0m\u001b[1;33m)\u001b[0m\u001b[1;33m.\u001b[0m\u001b[0mrun_cell_magic\u001b[0m\u001b[1;33m(\u001b[0m\u001b[1;34m'sql'\u001b[0m\u001b[1;33m,\u001b[0m \u001b[1;34m''\u001b[0m\u001b[1;33m,\u001b[0m \u001b[1;34m'CREATE TABLE most_profiting_authors (\\n  au_id VARCHAR(11) PRIMARY KEY,\\n  profits DECIMAL NOT NULL\\n)\\n'\u001b[0m\u001b[1;33m)\u001b[0m\u001b[1;33m\u001b[0m\u001b[1;33m\u001b[0m\u001b[0m\n\u001b[0m",
      "\u001b[1;32mc:\\users\\júlia\\appdata\\local\\programs\\python\\python39\\lib\\site-packages\\IPython\\core\\interactiveshell.py\u001b[0m in \u001b[0;36mrun_cell_magic\u001b[1;34m(self, magic_name, line, cell)\u001b[0m\n\u001b[0;32m   2380\u001b[0m             \u001b[1;32mwith\u001b[0m \u001b[0mself\u001b[0m\u001b[1;33m.\u001b[0m\u001b[0mbuiltin_trap\u001b[0m\u001b[1;33m:\u001b[0m\u001b[1;33m\u001b[0m\u001b[1;33m\u001b[0m\u001b[0m\n\u001b[0;32m   2381\u001b[0m                 \u001b[0margs\u001b[0m \u001b[1;33m=\u001b[0m \u001b[1;33m(\u001b[0m\u001b[0mmagic_arg_s\u001b[0m\u001b[1;33m,\u001b[0m \u001b[0mcell\u001b[0m\u001b[1;33m)\u001b[0m\u001b[1;33m\u001b[0m\u001b[1;33m\u001b[0m\u001b[0m\n\u001b[1;32m-> 2382\u001b[1;33m                 \u001b[0mresult\u001b[0m \u001b[1;33m=\u001b[0m \u001b[0mfn\u001b[0m\u001b[1;33m(\u001b[0m\u001b[1;33m*\u001b[0m\u001b[0margs\u001b[0m\u001b[1;33m,\u001b[0m \u001b[1;33m**\u001b[0m\u001b[0mkwargs\u001b[0m\u001b[1;33m)\u001b[0m\u001b[1;33m\u001b[0m\u001b[1;33m\u001b[0m\u001b[0m\n\u001b[0m\u001b[0;32m   2383\u001b[0m             \u001b[1;32mreturn\u001b[0m \u001b[0mresult\u001b[0m\u001b[1;33m\u001b[0m\u001b[1;33m\u001b[0m\u001b[0m\n\u001b[0;32m   2384\u001b[0m \u001b[1;33m\u001b[0m\u001b[0m\n",
      "\u001b[1;32m<decorator-gen-119>\u001b[0m in \u001b[0;36mexecute\u001b[1;34m(self, line, cell, local_ns)\u001b[0m\n",
      "\u001b[1;32mc:\\users\\júlia\\appdata\\local\\programs\\python\\python39\\lib\\site-packages\\IPython\\core\\magic.py\u001b[0m in \u001b[0;36m<lambda>\u001b[1;34m(f, *a, **k)\u001b[0m\n\u001b[0;32m    185\u001b[0m     \u001b[1;31m# but it's overkill for just that one bit of state.\u001b[0m\u001b[1;33m\u001b[0m\u001b[1;33m\u001b[0m\u001b[1;33m\u001b[0m\u001b[0m\n\u001b[0;32m    186\u001b[0m     \u001b[1;32mdef\u001b[0m \u001b[0mmagic_deco\u001b[0m\u001b[1;33m(\u001b[0m\u001b[0marg\u001b[0m\u001b[1;33m)\u001b[0m\u001b[1;33m:\u001b[0m\u001b[1;33m\u001b[0m\u001b[1;33m\u001b[0m\u001b[0m\n\u001b[1;32m--> 187\u001b[1;33m         \u001b[0mcall\u001b[0m \u001b[1;33m=\u001b[0m \u001b[1;32mlambda\u001b[0m \u001b[0mf\u001b[0m\u001b[1;33m,\u001b[0m \u001b[1;33m*\u001b[0m\u001b[0ma\u001b[0m\u001b[1;33m,\u001b[0m \u001b[1;33m**\u001b[0m\u001b[0mk\u001b[0m\u001b[1;33m:\u001b[0m \u001b[0mf\u001b[0m\u001b[1;33m(\u001b[0m\u001b[1;33m*\u001b[0m\u001b[0ma\u001b[0m\u001b[1;33m,\u001b[0m \u001b[1;33m**\u001b[0m\u001b[0mk\u001b[0m\u001b[1;33m)\u001b[0m\u001b[1;33m\u001b[0m\u001b[1;33m\u001b[0m\u001b[0m\n\u001b[0m\u001b[0;32m    188\u001b[0m \u001b[1;33m\u001b[0m\u001b[0m\n\u001b[0;32m    189\u001b[0m         \u001b[1;32mif\u001b[0m \u001b[0mcallable\u001b[0m\u001b[1;33m(\u001b[0m\u001b[0marg\u001b[0m\u001b[1;33m)\u001b[0m\u001b[1;33m:\u001b[0m\u001b[1;33m\u001b[0m\u001b[1;33m\u001b[0m\u001b[0m\n",
      "\u001b[1;32m<decorator-gen-118>\u001b[0m in \u001b[0;36mexecute\u001b[1;34m(self, line, cell, local_ns)\u001b[0m\n",
      "\u001b[1;32mc:\\users\\júlia\\appdata\\local\\programs\\python\\python39\\lib\\site-packages\\IPython\\core\\magic.py\u001b[0m in \u001b[0;36m<lambda>\u001b[1;34m(f, *a, **k)\u001b[0m\n\u001b[0;32m    185\u001b[0m     \u001b[1;31m# but it's overkill for just that one bit of state.\u001b[0m\u001b[1;33m\u001b[0m\u001b[1;33m\u001b[0m\u001b[1;33m\u001b[0m\u001b[0m\n\u001b[0;32m    186\u001b[0m     \u001b[1;32mdef\u001b[0m \u001b[0mmagic_deco\u001b[0m\u001b[1;33m(\u001b[0m\u001b[0marg\u001b[0m\u001b[1;33m)\u001b[0m\u001b[1;33m:\u001b[0m\u001b[1;33m\u001b[0m\u001b[1;33m\u001b[0m\u001b[0m\n\u001b[1;32m--> 187\u001b[1;33m         \u001b[0mcall\u001b[0m \u001b[1;33m=\u001b[0m \u001b[1;32mlambda\u001b[0m \u001b[0mf\u001b[0m\u001b[1;33m,\u001b[0m \u001b[1;33m*\u001b[0m\u001b[0ma\u001b[0m\u001b[1;33m,\u001b[0m \u001b[1;33m**\u001b[0m\u001b[0mk\u001b[0m\u001b[1;33m:\u001b[0m \u001b[0mf\u001b[0m\u001b[1;33m(\u001b[0m\u001b[1;33m*\u001b[0m\u001b[0ma\u001b[0m\u001b[1;33m,\u001b[0m \u001b[1;33m**\u001b[0m\u001b[0mk\u001b[0m\u001b[1;33m)\u001b[0m\u001b[1;33m\u001b[0m\u001b[1;33m\u001b[0m\u001b[0m\n\u001b[0m\u001b[0;32m    188\u001b[0m \u001b[1;33m\u001b[0m\u001b[0m\n\u001b[0;32m    189\u001b[0m         \u001b[1;32mif\u001b[0m \u001b[0mcallable\u001b[0m\u001b[1;33m(\u001b[0m\u001b[0marg\u001b[0m\u001b[1;33m)\u001b[0m\u001b[1;33m:\u001b[0m\u001b[1;33m\u001b[0m\u001b[1;33m\u001b[0m\u001b[0m\n",
      "\u001b[1;32mc:\\users\\júlia\\appdata\\local\\programs\\python\\python39\\lib\\site-packages\\sql\\magic.py\u001b[0m in \u001b[0;36mexecute\u001b[1;34m(self, line, cell, local_ns)\u001b[0m\n\u001b[0;32m    215\u001b[0m \u001b[1;33m\u001b[0m\u001b[0m\n\u001b[0;32m    216\u001b[0m         \u001b[1;32mtry\u001b[0m\u001b[1;33m:\u001b[0m\u001b[1;33m\u001b[0m\u001b[1;33m\u001b[0m\u001b[0m\n\u001b[1;32m--> 217\u001b[1;33m             \u001b[0mresult\u001b[0m \u001b[1;33m=\u001b[0m \u001b[0msql\u001b[0m\u001b[1;33m.\u001b[0m\u001b[0mrun\u001b[0m\u001b[1;33m.\u001b[0m\u001b[0mrun\u001b[0m\u001b[1;33m(\u001b[0m\u001b[0mconn\u001b[0m\u001b[1;33m,\u001b[0m \u001b[0mparsed\u001b[0m\u001b[1;33m[\u001b[0m\u001b[1;34m\"sql\"\u001b[0m\u001b[1;33m]\u001b[0m\u001b[1;33m,\u001b[0m \u001b[0mself\u001b[0m\u001b[1;33m,\u001b[0m \u001b[0muser_ns\u001b[0m\u001b[1;33m)\u001b[0m\u001b[1;33m\u001b[0m\u001b[1;33m\u001b[0m\u001b[0m\n\u001b[0m\u001b[0;32m    218\u001b[0m \u001b[1;33m\u001b[0m\u001b[0m\n\u001b[0;32m    219\u001b[0m             if (\n",
      "\u001b[1;32mc:\\users\\júlia\\appdata\\local\\programs\\python\\python39\\lib\\site-packages\\sql\\run.py\u001b[0m in \u001b[0;36mrun\u001b[1;34m(conn, sql, config, user_namespace)\u001b[0m\n\u001b[0;32m    369\u001b[0m             \u001b[1;32mif\u001b[0m \u001b[0mresult\u001b[0m \u001b[1;32mand\u001b[0m \u001b[0mconfig\u001b[0m\u001b[1;33m.\u001b[0m\u001b[0mfeedback\u001b[0m\u001b[1;33m:\u001b[0m\u001b[1;33m\u001b[0m\u001b[1;33m\u001b[0m\u001b[0m\n\u001b[0;32m    370\u001b[0m                 \u001b[0mprint\u001b[0m\u001b[1;33m(\u001b[0m\u001b[0minterpret_rowcount\u001b[0m\u001b[1;33m(\u001b[0m\u001b[0mresult\u001b[0m\u001b[1;33m.\u001b[0m\u001b[0mrowcount\u001b[0m\u001b[1;33m)\u001b[0m\u001b[1;33m)\u001b[0m\u001b[1;33m\u001b[0m\u001b[1;33m\u001b[0m\u001b[0m\n\u001b[1;32m--> 371\u001b[1;33m         \u001b[0mresultset\u001b[0m \u001b[1;33m=\u001b[0m \u001b[0mResultSet\u001b[0m\u001b[1;33m(\u001b[0m\u001b[0mresult\u001b[0m\u001b[1;33m,\u001b[0m \u001b[0mstatement\u001b[0m\u001b[1;33m,\u001b[0m \u001b[0mconfig\u001b[0m\u001b[1;33m)\u001b[0m\u001b[1;33m\u001b[0m\u001b[1;33m\u001b[0m\u001b[0m\n\u001b[0m\u001b[0;32m    372\u001b[0m         \u001b[1;32mif\u001b[0m \u001b[0mconfig\u001b[0m\u001b[1;33m.\u001b[0m\u001b[0mautopandas\u001b[0m\u001b[1;33m:\u001b[0m\u001b[1;33m\u001b[0m\u001b[1;33m\u001b[0m\u001b[0m\n\u001b[0;32m    373\u001b[0m             \u001b[1;32mreturn\u001b[0m \u001b[0mresultset\u001b[0m\u001b[1;33m.\u001b[0m\u001b[0mDataFrame\u001b[0m\u001b[1;33m(\u001b[0m\u001b[1;33m)\u001b[0m\u001b[1;33m\u001b[0m\u001b[1;33m\u001b[0m\u001b[0m\n",
      "\u001b[1;32mc:\\users\\júlia\\appdata\\local\\programs\\python\\python39\\lib\\site-packages\\sql\\run.py\u001b[0m in \u001b[0;36m__init__\u001b[1;34m(self, sqlaproxy, sql, config)\u001b[0m\n\u001b[0;32m    105\u001b[0m \u001b[1;33m\u001b[0m\u001b[0m\n\u001b[0;32m    106\u001b[0m     \u001b[1;32mdef\u001b[0m \u001b[0m__init__\u001b[0m\u001b[1;33m(\u001b[0m\u001b[0mself\u001b[0m\u001b[1;33m,\u001b[0m \u001b[0msqlaproxy\u001b[0m\u001b[1;33m,\u001b[0m \u001b[0msql\u001b[0m\u001b[1;33m,\u001b[0m \u001b[0mconfig\u001b[0m\u001b[1;33m)\u001b[0m\u001b[1;33m:\u001b[0m\u001b[1;33m\u001b[0m\u001b[1;33m\u001b[0m\u001b[0m\n\u001b[1;32m--> 107\u001b[1;33m         \u001b[0mself\u001b[0m\u001b[1;33m.\u001b[0m\u001b[0mkeys\u001b[0m \u001b[1;33m=\u001b[0m \u001b[0msqlaproxy\u001b[0m\u001b[1;33m.\u001b[0m\u001b[0mkeys\u001b[0m\u001b[1;33m(\u001b[0m\u001b[1;33m)\u001b[0m\u001b[1;33m\u001b[0m\u001b[1;33m\u001b[0m\u001b[0m\n\u001b[0m\u001b[0;32m    108\u001b[0m         \u001b[0mself\u001b[0m\u001b[1;33m.\u001b[0m\u001b[0msql\u001b[0m \u001b[1;33m=\u001b[0m \u001b[0msql\u001b[0m\u001b[1;33m\u001b[0m\u001b[1;33m\u001b[0m\u001b[0m\n\u001b[0;32m    109\u001b[0m         \u001b[0mself\u001b[0m\u001b[1;33m.\u001b[0m\u001b[0mconfig\u001b[0m \u001b[1;33m=\u001b[0m \u001b[0mconfig\u001b[0m\u001b[1;33m\u001b[0m\u001b[1;33m\u001b[0m\u001b[0m\n",
      "\u001b[1;32mc:\\users\\júlia\\appdata\\local\\programs\\python\\python39\\lib\\site-packages\\sqlalchemy\\engine\\result.py\u001b[0m in \u001b[0;36mkeys\u001b[1;34m(self)\u001b[0m\n\u001b[0;32m    698\u001b[0m \u001b[1;33m\u001b[0m\u001b[0m\n\u001b[0;32m    699\u001b[0m         \"\"\"\n\u001b[1;32m--> 700\u001b[1;33m         \u001b[1;32mreturn\u001b[0m \u001b[0mself\u001b[0m\u001b[1;33m.\u001b[0m\u001b[0m_metadata\u001b[0m\u001b[1;33m.\u001b[0m\u001b[0mkeys\u001b[0m\u001b[1;33m\u001b[0m\u001b[1;33m\u001b[0m\u001b[0m\n\u001b[0m\u001b[0;32m    701\u001b[0m \u001b[1;33m\u001b[0m\u001b[0m\n\u001b[0;32m    702\u001b[0m \u001b[1;33m\u001b[0m\u001b[0m\n",
      "\u001b[1;32mc:\\users\\júlia\\appdata\\local\\programs\\python\\python39\\lib\\site-packages\\sqlalchemy\\engine\\cursor.py\u001b[0m in \u001b[0;36mkeys\u001b[1;34m(self)\u001b[0m\n\u001b[0;32m   1199\u001b[0m     \u001b[1;33m@\u001b[0m\u001b[0mproperty\u001b[0m\u001b[1;33m\u001b[0m\u001b[1;33m\u001b[0m\u001b[0m\n\u001b[0;32m   1200\u001b[0m     \u001b[1;32mdef\u001b[0m \u001b[0mkeys\u001b[0m\u001b[1;33m(\u001b[0m\u001b[0mself\u001b[0m\u001b[1;33m)\u001b[0m\u001b[1;33m:\u001b[0m\u001b[1;33m\u001b[0m\u001b[1;33m\u001b[0m\u001b[0m\n\u001b[1;32m-> 1201\u001b[1;33m         \u001b[0mself\u001b[0m\u001b[1;33m.\u001b[0m\u001b[0m_we_dont_return_rows\u001b[0m\u001b[1;33m(\u001b[0m\u001b[1;33m)\u001b[0m\u001b[1;33m\u001b[0m\u001b[1;33m\u001b[0m\u001b[0m\n\u001b[0m\u001b[0;32m   1202\u001b[0m \u001b[1;33m\u001b[0m\u001b[0m\n\u001b[0;32m   1203\u001b[0m \u001b[1;33m\u001b[0m\u001b[0m\n",
      "\u001b[1;32mc:\\users\\júlia\\appdata\\local\\programs\\python\\python39\\lib\\site-packages\\sqlalchemy\\engine\\cursor.py\u001b[0m in \u001b[0;36m_we_dont_return_rows\u001b[1;34m(self, err)\u001b[0m\n\u001b[0;32m   1176\u001b[0m \u001b[1;33m\u001b[0m\u001b[0m\n\u001b[0;32m   1177\u001b[0m     \u001b[1;32mdef\u001b[0m \u001b[0m_we_dont_return_rows\u001b[0m\u001b[1;33m(\u001b[0m\u001b[0mself\u001b[0m\u001b[1;33m,\u001b[0m \u001b[0merr\u001b[0m\u001b[1;33m=\u001b[0m\u001b[1;32mNone\u001b[0m\u001b[1;33m)\u001b[0m\u001b[1;33m:\u001b[0m\u001b[1;33m\u001b[0m\u001b[1;33m\u001b[0m\u001b[0m\n\u001b[1;32m-> 1178\u001b[1;33m         util.raise_(\n\u001b[0m\u001b[0;32m   1179\u001b[0m             exc.ResourceClosedError(\n\u001b[0;32m   1180\u001b[0m                 \u001b[1;34m\"This result object does not return rows. \"\u001b[0m\u001b[1;33m\u001b[0m\u001b[1;33m\u001b[0m\u001b[0m\n",
      "\u001b[1;32mc:\\users\\júlia\\appdata\\local\\programs\\python\\python39\\lib\\site-packages\\sqlalchemy\\util\\compat.py\u001b[0m in \u001b[0;36mraise_\u001b[1;34m(***failed resolving arguments***)\u001b[0m\n\u001b[0;32m    209\u001b[0m \u001b[1;33m\u001b[0m\u001b[0m\n\u001b[0;32m    210\u001b[0m         \u001b[1;32mtry\u001b[0m\u001b[1;33m:\u001b[0m\u001b[1;33m\u001b[0m\u001b[1;33m\u001b[0m\u001b[0m\n\u001b[1;32m--> 211\u001b[1;33m             \u001b[1;32mraise\u001b[0m \u001b[0mexception\u001b[0m\u001b[1;33m\u001b[0m\u001b[1;33m\u001b[0m\u001b[0m\n\u001b[0m\u001b[0;32m    212\u001b[0m         \u001b[1;32mfinally\u001b[0m\u001b[1;33m:\u001b[0m\u001b[1;33m\u001b[0m\u001b[1;33m\u001b[0m\u001b[0m\n\u001b[0;32m    213\u001b[0m             \u001b[1;31m# credit to\u001b[0m\u001b[1;33m\u001b[0m\u001b[1;33m\u001b[0m\u001b[1;33m\u001b[0m\u001b[0m\n",
      "\u001b[1;31mResourceClosedError\u001b[0m: This result object does not return rows. It has been closed automatically."
     ]
    }
   ],
   "source": [
    "%%sql\n",
    "CREATE TABLE most_profiting_authors (\n",
    "  au_id VARCHAR(11) PRIMARY KEY,\n",
    "  profits DECIMAL NOT NULL\n",
    ")"
   ]
  },
  {
   "cell_type": "code",
   "execution_count": 8,
   "id": "suited-champagne",
   "metadata": {},
   "outputs": [
    {
     "name": "stdout",
     "output_type": "stream",
     "text": [
      " * sqlite:///C:\\\\Users\\\\Júlia\\\\Documents\\\\Ironhack\\\\1_modulo_1\\\\Labs\\\\20-lab-sql-select\\\\publications.db\n",
      "Done.\n"
     ]
    },
    {
     "ename": "ResourceClosedError",
     "evalue": "This result object does not return rows. It has been closed automatically.",
     "output_type": "error",
     "traceback": [
      "\u001b[1;31m---------------------------------------------------------------------------\u001b[0m",
      "\u001b[1;31mResourceClosedError\u001b[0m                       Traceback (most recent call last)",
      "\u001b[1;32m<ipython-input-8-a0722995e974>\u001b[0m in \u001b[0;36m<module>\u001b[1;34m\u001b[0m\n\u001b[1;32m----> 1\u001b[1;33m \u001b[0mget_ipython\u001b[0m\u001b[1;33m(\u001b[0m\u001b[1;33m)\u001b[0m\u001b[1;33m.\u001b[0m\u001b[0mrun_cell_magic\u001b[0m\u001b[1;33m(\u001b[0m\u001b[1;34m'sql'\u001b[0m\u001b[1;33m,\u001b[0m \u001b[1;34m''\u001b[0m\u001b[1;33m,\u001b[0m \u001b[1;34m'with tabla_auxiliar2 as \\n(with tabla_auxiliar as\\n(select t.title_id, ta.au_id, sum(t.price * s.qty * t.royalty / 100 * ta.royaltyper / 100) as total_sales_royalty\\nfrom titles t inner join titleauthor ta on t.title_id = ta.title_id\\ninner join sales s on s.title_id = t.title_id\\ngroup by t.title_id, ta.au_id)\\n\\nselect au_id, (total_sales_royalty + t.advance) as profits\\nfrom tabla_auxiliar aux inner join titles t on aux.title_id = t.title_id\\norder by profits desc\\nlimit 3)\\n\\ninsert into most_profiting_authors (au_id, profits)\\nselect au_id, profits from tabla_auxiliar2\\n'\u001b[0m\u001b[1;33m)\u001b[0m\u001b[1;33m\u001b[0m\u001b[1;33m\u001b[0m\u001b[0m\n\u001b[0m",
      "\u001b[1;32mc:\\users\\júlia\\appdata\\local\\programs\\python\\python39\\lib\\site-packages\\IPython\\core\\interactiveshell.py\u001b[0m in \u001b[0;36mrun_cell_magic\u001b[1;34m(self, magic_name, line, cell)\u001b[0m\n\u001b[0;32m   2380\u001b[0m             \u001b[1;32mwith\u001b[0m \u001b[0mself\u001b[0m\u001b[1;33m.\u001b[0m\u001b[0mbuiltin_trap\u001b[0m\u001b[1;33m:\u001b[0m\u001b[1;33m\u001b[0m\u001b[1;33m\u001b[0m\u001b[0m\n\u001b[0;32m   2381\u001b[0m                 \u001b[0margs\u001b[0m \u001b[1;33m=\u001b[0m \u001b[1;33m(\u001b[0m\u001b[0mmagic_arg_s\u001b[0m\u001b[1;33m,\u001b[0m \u001b[0mcell\u001b[0m\u001b[1;33m)\u001b[0m\u001b[1;33m\u001b[0m\u001b[1;33m\u001b[0m\u001b[0m\n\u001b[1;32m-> 2382\u001b[1;33m                 \u001b[0mresult\u001b[0m \u001b[1;33m=\u001b[0m \u001b[0mfn\u001b[0m\u001b[1;33m(\u001b[0m\u001b[1;33m*\u001b[0m\u001b[0margs\u001b[0m\u001b[1;33m,\u001b[0m \u001b[1;33m**\u001b[0m\u001b[0mkwargs\u001b[0m\u001b[1;33m)\u001b[0m\u001b[1;33m\u001b[0m\u001b[1;33m\u001b[0m\u001b[0m\n\u001b[0m\u001b[0;32m   2383\u001b[0m             \u001b[1;32mreturn\u001b[0m \u001b[0mresult\u001b[0m\u001b[1;33m\u001b[0m\u001b[1;33m\u001b[0m\u001b[0m\n\u001b[0;32m   2384\u001b[0m \u001b[1;33m\u001b[0m\u001b[0m\n",
      "\u001b[1;32m<decorator-gen-119>\u001b[0m in \u001b[0;36mexecute\u001b[1;34m(self, line, cell, local_ns)\u001b[0m\n",
      "\u001b[1;32mc:\\users\\júlia\\appdata\\local\\programs\\python\\python39\\lib\\site-packages\\IPython\\core\\magic.py\u001b[0m in \u001b[0;36m<lambda>\u001b[1;34m(f, *a, **k)\u001b[0m\n\u001b[0;32m    185\u001b[0m     \u001b[1;31m# but it's overkill for just that one bit of state.\u001b[0m\u001b[1;33m\u001b[0m\u001b[1;33m\u001b[0m\u001b[1;33m\u001b[0m\u001b[0m\n\u001b[0;32m    186\u001b[0m     \u001b[1;32mdef\u001b[0m \u001b[0mmagic_deco\u001b[0m\u001b[1;33m(\u001b[0m\u001b[0marg\u001b[0m\u001b[1;33m)\u001b[0m\u001b[1;33m:\u001b[0m\u001b[1;33m\u001b[0m\u001b[1;33m\u001b[0m\u001b[0m\n\u001b[1;32m--> 187\u001b[1;33m         \u001b[0mcall\u001b[0m \u001b[1;33m=\u001b[0m \u001b[1;32mlambda\u001b[0m \u001b[0mf\u001b[0m\u001b[1;33m,\u001b[0m \u001b[1;33m*\u001b[0m\u001b[0ma\u001b[0m\u001b[1;33m,\u001b[0m \u001b[1;33m**\u001b[0m\u001b[0mk\u001b[0m\u001b[1;33m:\u001b[0m \u001b[0mf\u001b[0m\u001b[1;33m(\u001b[0m\u001b[1;33m*\u001b[0m\u001b[0ma\u001b[0m\u001b[1;33m,\u001b[0m \u001b[1;33m**\u001b[0m\u001b[0mk\u001b[0m\u001b[1;33m)\u001b[0m\u001b[1;33m\u001b[0m\u001b[1;33m\u001b[0m\u001b[0m\n\u001b[0m\u001b[0;32m    188\u001b[0m \u001b[1;33m\u001b[0m\u001b[0m\n\u001b[0;32m    189\u001b[0m         \u001b[1;32mif\u001b[0m \u001b[0mcallable\u001b[0m\u001b[1;33m(\u001b[0m\u001b[0marg\u001b[0m\u001b[1;33m)\u001b[0m\u001b[1;33m:\u001b[0m\u001b[1;33m\u001b[0m\u001b[1;33m\u001b[0m\u001b[0m\n",
      "\u001b[1;32m<decorator-gen-118>\u001b[0m in \u001b[0;36mexecute\u001b[1;34m(self, line, cell, local_ns)\u001b[0m\n",
      "\u001b[1;32mc:\\users\\júlia\\appdata\\local\\programs\\python\\python39\\lib\\site-packages\\IPython\\core\\magic.py\u001b[0m in \u001b[0;36m<lambda>\u001b[1;34m(f, *a, **k)\u001b[0m\n\u001b[0;32m    185\u001b[0m     \u001b[1;31m# but it's overkill for just that one bit of state.\u001b[0m\u001b[1;33m\u001b[0m\u001b[1;33m\u001b[0m\u001b[1;33m\u001b[0m\u001b[0m\n\u001b[0;32m    186\u001b[0m     \u001b[1;32mdef\u001b[0m \u001b[0mmagic_deco\u001b[0m\u001b[1;33m(\u001b[0m\u001b[0marg\u001b[0m\u001b[1;33m)\u001b[0m\u001b[1;33m:\u001b[0m\u001b[1;33m\u001b[0m\u001b[1;33m\u001b[0m\u001b[0m\n\u001b[1;32m--> 187\u001b[1;33m         \u001b[0mcall\u001b[0m \u001b[1;33m=\u001b[0m \u001b[1;32mlambda\u001b[0m \u001b[0mf\u001b[0m\u001b[1;33m,\u001b[0m \u001b[1;33m*\u001b[0m\u001b[0ma\u001b[0m\u001b[1;33m,\u001b[0m \u001b[1;33m**\u001b[0m\u001b[0mk\u001b[0m\u001b[1;33m:\u001b[0m \u001b[0mf\u001b[0m\u001b[1;33m(\u001b[0m\u001b[1;33m*\u001b[0m\u001b[0ma\u001b[0m\u001b[1;33m,\u001b[0m \u001b[1;33m**\u001b[0m\u001b[0mk\u001b[0m\u001b[1;33m)\u001b[0m\u001b[1;33m\u001b[0m\u001b[1;33m\u001b[0m\u001b[0m\n\u001b[0m\u001b[0;32m    188\u001b[0m \u001b[1;33m\u001b[0m\u001b[0m\n\u001b[0;32m    189\u001b[0m         \u001b[1;32mif\u001b[0m \u001b[0mcallable\u001b[0m\u001b[1;33m(\u001b[0m\u001b[0marg\u001b[0m\u001b[1;33m)\u001b[0m\u001b[1;33m:\u001b[0m\u001b[1;33m\u001b[0m\u001b[1;33m\u001b[0m\u001b[0m\n",
      "\u001b[1;32mc:\\users\\júlia\\appdata\\local\\programs\\python\\python39\\lib\\site-packages\\sql\\magic.py\u001b[0m in \u001b[0;36mexecute\u001b[1;34m(self, line, cell, local_ns)\u001b[0m\n\u001b[0;32m    215\u001b[0m \u001b[1;33m\u001b[0m\u001b[0m\n\u001b[0;32m    216\u001b[0m         \u001b[1;32mtry\u001b[0m\u001b[1;33m:\u001b[0m\u001b[1;33m\u001b[0m\u001b[1;33m\u001b[0m\u001b[0m\n\u001b[1;32m--> 217\u001b[1;33m             \u001b[0mresult\u001b[0m \u001b[1;33m=\u001b[0m \u001b[0msql\u001b[0m\u001b[1;33m.\u001b[0m\u001b[0mrun\u001b[0m\u001b[1;33m.\u001b[0m\u001b[0mrun\u001b[0m\u001b[1;33m(\u001b[0m\u001b[0mconn\u001b[0m\u001b[1;33m,\u001b[0m \u001b[0mparsed\u001b[0m\u001b[1;33m[\u001b[0m\u001b[1;34m\"sql\"\u001b[0m\u001b[1;33m]\u001b[0m\u001b[1;33m,\u001b[0m \u001b[0mself\u001b[0m\u001b[1;33m,\u001b[0m \u001b[0muser_ns\u001b[0m\u001b[1;33m)\u001b[0m\u001b[1;33m\u001b[0m\u001b[1;33m\u001b[0m\u001b[0m\n\u001b[0m\u001b[0;32m    218\u001b[0m \u001b[1;33m\u001b[0m\u001b[0m\n\u001b[0;32m    219\u001b[0m             if (\n",
      "\u001b[1;32mc:\\users\\júlia\\appdata\\local\\programs\\python\\python39\\lib\\site-packages\\sql\\run.py\u001b[0m in \u001b[0;36mrun\u001b[1;34m(conn, sql, config, user_namespace)\u001b[0m\n\u001b[0;32m    369\u001b[0m             \u001b[1;32mif\u001b[0m \u001b[0mresult\u001b[0m \u001b[1;32mand\u001b[0m \u001b[0mconfig\u001b[0m\u001b[1;33m.\u001b[0m\u001b[0mfeedback\u001b[0m\u001b[1;33m:\u001b[0m\u001b[1;33m\u001b[0m\u001b[1;33m\u001b[0m\u001b[0m\n\u001b[0;32m    370\u001b[0m                 \u001b[0mprint\u001b[0m\u001b[1;33m(\u001b[0m\u001b[0minterpret_rowcount\u001b[0m\u001b[1;33m(\u001b[0m\u001b[0mresult\u001b[0m\u001b[1;33m.\u001b[0m\u001b[0mrowcount\u001b[0m\u001b[1;33m)\u001b[0m\u001b[1;33m)\u001b[0m\u001b[1;33m\u001b[0m\u001b[1;33m\u001b[0m\u001b[0m\n\u001b[1;32m--> 371\u001b[1;33m         \u001b[0mresultset\u001b[0m \u001b[1;33m=\u001b[0m \u001b[0mResultSet\u001b[0m\u001b[1;33m(\u001b[0m\u001b[0mresult\u001b[0m\u001b[1;33m,\u001b[0m \u001b[0mstatement\u001b[0m\u001b[1;33m,\u001b[0m \u001b[0mconfig\u001b[0m\u001b[1;33m)\u001b[0m\u001b[1;33m\u001b[0m\u001b[1;33m\u001b[0m\u001b[0m\n\u001b[0m\u001b[0;32m    372\u001b[0m         \u001b[1;32mif\u001b[0m \u001b[0mconfig\u001b[0m\u001b[1;33m.\u001b[0m\u001b[0mautopandas\u001b[0m\u001b[1;33m:\u001b[0m\u001b[1;33m\u001b[0m\u001b[1;33m\u001b[0m\u001b[0m\n\u001b[0;32m    373\u001b[0m             \u001b[1;32mreturn\u001b[0m \u001b[0mresultset\u001b[0m\u001b[1;33m.\u001b[0m\u001b[0mDataFrame\u001b[0m\u001b[1;33m(\u001b[0m\u001b[1;33m)\u001b[0m\u001b[1;33m\u001b[0m\u001b[1;33m\u001b[0m\u001b[0m\n",
      "\u001b[1;32mc:\\users\\júlia\\appdata\\local\\programs\\python\\python39\\lib\\site-packages\\sql\\run.py\u001b[0m in \u001b[0;36m__init__\u001b[1;34m(self, sqlaproxy, sql, config)\u001b[0m\n\u001b[0;32m    105\u001b[0m \u001b[1;33m\u001b[0m\u001b[0m\n\u001b[0;32m    106\u001b[0m     \u001b[1;32mdef\u001b[0m \u001b[0m__init__\u001b[0m\u001b[1;33m(\u001b[0m\u001b[0mself\u001b[0m\u001b[1;33m,\u001b[0m \u001b[0msqlaproxy\u001b[0m\u001b[1;33m,\u001b[0m \u001b[0msql\u001b[0m\u001b[1;33m,\u001b[0m \u001b[0mconfig\u001b[0m\u001b[1;33m)\u001b[0m\u001b[1;33m:\u001b[0m\u001b[1;33m\u001b[0m\u001b[1;33m\u001b[0m\u001b[0m\n\u001b[1;32m--> 107\u001b[1;33m         \u001b[0mself\u001b[0m\u001b[1;33m.\u001b[0m\u001b[0mkeys\u001b[0m \u001b[1;33m=\u001b[0m \u001b[0msqlaproxy\u001b[0m\u001b[1;33m.\u001b[0m\u001b[0mkeys\u001b[0m\u001b[1;33m(\u001b[0m\u001b[1;33m)\u001b[0m\u001b[1;33m\u001b[0m\u001b[1;33m\u001b[0m\u001b[0m\n\u001b[0m\u001b[0;32m    108\u001b[0m         \u001b[0mself\u001b[0m\u001b[1;33m.\u001b[0m\u001b[0msql\u001b[0m \u001b[1;33m=\u001b[0m \u001b[0msql\u001b[0m\u001b[1;33m\u001b[0m\u001b[1;33m\u001b[0m\u001b[0m\n\u001b[0;32m    109\u001b[0m         \u001b[0mself\u001b[0m\u001b[1;33m.\u001b[0m\u001b[0mconfig\u001b[0m \u001b[1;33m=\u001b[0m \u001b[0mconfig\u001b[0m\u001b[1;33m\u001b[0m\u001b[1;33m\u001b[0m\u001b[0m\n",
      "\u001b[1;32mc:\\users\\júlia\\appdata\\local\\programs\\python\\python39\\lib\\site-packages\\sqlalchemy\\engine\\result.py\u001b[0m in \u001b[0;36mkeys\u001b[1;34m(self)\u001b[0m\n\u001b[0;32m    698\u001b[0m \u001b[1;33m\u001b[0m\u001b[0m\n\u001b[0;32m    699\u001b[0m         \"\"\"\n\u001b[1;32m--> 700\u001b[1;33m         \u001b[1;32mreturn\u001b[0m \u001b[0mself\u001b[0m\u001b[1;33m.\u001b[0m\u001b[0m_metadata\u001b[0m\u001b[1;33m.\u001b[0m\u001b[0mkeys\u001b[0m\u001b[1;33m\u001b[0m\u001b[1;33m\u001b[0m\u001b[0m\n\u001b[0m\u001b[0;32m    701\u001b[0m \u001b[1;33m\u001b[0m\u001b[0m\n\u001b[0;32m    702\u001b[0m \u001b[1;33m\u001b[0m\u001b[0m\n",
      "\u001b[1;32mc:\\users\\júlia\\appdata\\local\\programs\\python\\python39\\lib\\site-packages\\sqlalchemy\\engine\\cursor.py\u001b[0m in \u001b[0;36mkeys\u001b[1;34m(self)\u001b[0m\n\u001b[0;32m   1199\u001b[0m     \u001b[1;33m@\u001b[0m\u001b[0mproperty\u001b[0m\u001b[1;33m\u001b[0m\u001b[1;33m\u001b[0m\u001b[0m\n\u001b[0;32m   1200\u001b[0m     \u001b[1;32mdef\u001b[0m \u001b[0mkeys\u001b[0m\u001b[1;33m(\u001b[0m\u001b[0mself\u001b[0m\u001b[1;33m)\u001b[0m\u001b[1;33m:\u001b[0m\u001b[1;33m\u001b[0m\u001b[1;33m\u001b[0m\u001b[0m\n\u001b[1;32m-> 1201\u001b[1;33m         \u001b[0mself\u001b[0m\u001b[1;33m.\u001b[0m\u001b[0m_we_dont_return_rows\u001b[0m\u001b[1;33m(\u001b[0m\u001b[1;33m)\u001b[0m\u001b[1;33m\u001b[0m\u001b[1;33m\u001b[0m\u001b[0m\n\u001b[0m\u001b[0;32m   1202\u001b[0m \u001b[1;33m\u001b[0m\u001b[0m\n\u001b[0;32m   1203\u001b[0m \u001b[1;33m\u001b[0m\u001b[0m\n",
      "\u001b[1;32mc:\\users\\júlia\\appdata\\local\\programs\\python\\python39\\lib\\site-packages\\sqlalchemy\\engine\\cursor.py\u001b[0m in \u001b[0;36m_we_dont_return_rows\u001b[1;34m(self, err)\u001b[0m\n\u001b[0;32m   1176\u001b[0m \u001b[1;33m\u001b[0m\u001b[0m\n\u001b[0;32m   1177\u001b[0m     \u001b[1;32mdef\u001b[0m \u001b[0m_we_dont_return_rows\u001b[0m\u001b[1;33m(\u001b[0m\u001b[0mself\u001b[0m\u001b[1;33m,\u001b[0m \u001b[0merr\u001b[0m\u001b[1;33m=\u001b[0m\u001b[1;32mNone\u001b[0m\u001b[1;33m)\u001b[0m\u001b[1;33m:\u001b[0m\u001b[1;33m\u001b[0m\u001b[1;33m\u001b[0m\u001b[0m\n\u001b[1;32m-> 1178\u001b[1;33m         util.raise_(\n\u001b[0m\u001b[0;32m   1179\u001b[0m             exc.ResourceClosedError(\n\u001b[0;32m   1180\u001b[0m                 \u001b[1;34m\"This result object does not return rows. \"\u001b[0m\u001b[1;33m\u001b[0m\u001b[1;33m\u001b[0m\u001b[0m\n",
      "\u001b[1;32mc:\\users\\júlia\\appdata\\local\\programs\\python\\python39\\lib\\site-packages\\sqlalchemy\\util\\compat.py\u001b[0m in \u001b[0;36mraise_\u001b[1;34m(***failed resolving arguments***)\u001b[0m\n\u001b[0;32m    209\u001b[0m \u001b[1;33m\u001b[0m\u001b[0m\n\u001b[0;32m    210\u001b[0m         \u001b[1;32mtry\u001b[0m\u001b[1;33m:\u001b[0m\u001b[1;33m\u001b[0m\u001b[1;33m\u001b[0m\u001b[0m\n\u001b[1;32m--> 211\u001b[1;33m             \u001b[1;32mraise\u001b[0m \u001b[0mexception\u001b[0m\u001b[1;33m\u001b[0m\u001b[1;33m\u001b[0m\u001b[0m\n\u001b[0m\u001b[0;32m    212\u001b[0m         \u001b[1;32mfinally\u001b[0m\u001b[1;33m:\u001b[0m\u001b[1;33m\u001b[0m\u001b[1;33m\u001b[0m\u001b[0m\n\u001b[0;32m    213\u001b[0m             \u001b[1;31m# credit to\u001b[0m\u001b[1;33m\u001b[0m\u001b[1;33m\u001b[0m\u001b[1;33m\u001b[0m\u001b[0m\n",
      "\u001b[1;31mResourceClosedError\u001b[0m: This result object does not return rows. It has been closed automatically."
     ]
    }
   ],
   "source": [
    "%%sql\n",
    "with tabla_auxiliar2 as \n",
    "(with tabla_auxiliar as\n",
    "(select t.title_id, ta.au_id, sum(t.price * s.qty * t.royalty / 100 * ta.royaltyper / 100) as total_sales_royalty\n",
    "from titles t inner join titleauthor ta on t.title_id = ta.title_id\n",
    "inner join sales s on s.title_id = t.title_id\n",
    "group by t.title_id, ta.au_id)\n",
    "\n",
    "select au_id, (total_sales_royalty + t.advance) as profits\n",
    "from tabla_auxiliar aux inner join titles t on aux.title_id = t.title_id\n",
    "order by profits desc\n",
    "limit 3)\n",
    "\n",
    "insert into most_profiting_authors (au_id, profits)\n",
    "select au_id, profits from tabla_auxiliar2"
   ]
  },
  {
   "cell_type": "code",
   "execution_count": 9,
   "id": "hourly-therapy",
   "metadata": {},
   "outputs": [
    {
     "name": "stdout",
     "output_type": "stream",
     "text": [
      " * sqlite:///C:\\\\Users\\\\Júlia\\\\Documents\\\\Ironhack\\\\1_modulo_1\\\\Labs\\\\20-lab-sql-select\\\\publications.db\n",
      "Done.\n"
     ]
    },
    {
     "data": {
      "text/html": [
       "<table>\n",
       "    <tr>\n",
       "        <th>au_id</th>\n",
       "        <th>profits</th>\n",
       "    </tr>\n",
       "    <tr>\n",
       "        <td>722-51-5454</td>\n",
       "        <td>15021.528</td>\n",
       "    </tr>\n",
       "    <tr>\n",
       "        <td>899-46-2035</td>\n",
       "        <td>15007.176</td>\n",
       "    </tr>\n",
       "    <tr>\n",
       "        <td>213-46-8915</td>\n",
       "        <td>10150.116</td>\n",
       "    </tr>\n",
       "</table>"
      ],
      "text/plain": [
       "[('722-51-5454', 15021.528),\n",
       " ('899-46-2035', 15007.176),\n",
       " ('213-46-8915', 10150.116)]"
      ]
     },
     "execution_count": 9,
     "metadata": {},
     "output_type": "execute_result"
    }
   ],
   "source": [
    "%%sql\n",
    "select * from most_profiting_authors"
   ]
  },
  {
   "cell_type": "code",
   "execution_count": null,
   "id": "constitutional-whole",
   "metadata": {},
   "outputs": [],
   "source": [
    "# dudas: por qué me saltan errores ResourceClosedError? Por qué no puedo hacerlo con este código?: "
   ]
  },
  {
   "cell_type": "code",
   "execution_count": 12,
   "id": "facial-arbor",
   "metadata": {},
   "outputs": [
    {
     "name": "stdout",
     "output_type": "stream",
     "text": [
      " * sqlite:///C:\\\\Users\\\\Júlia\\\\Documents\\\\Ironhack\\\\1_modulo_1\\\\Labs\\\\20-lab-sql-select\\\\publications.db\n",
      "(sqlite3.OperationalError) near \"create\": syntax error\n",
      "[SQL: with tabla_auxiliar2 as (with tabla_auxiliar as\n",
      "(select t.title_id, ta.au_id, sum(t.price * s.qty * t.royalty / 100 * ta.royaltyper / 100) as total_sales_royalty\n",
      "from titles t inner join titleauthor ta on t.title_id = ta.title_id\n",
      "inner join sales s on s.title_id = t.title_id\n",
      "group by t.title_id, ta.au_id)\n",
      "\n",
      "select au_id, (total_sales_royalty + t.advance) as profits\n",
      "from tabla_auxiliar aux inner join titles t on aux.title_id = t.title_id\n",
      "order by profits desc\n",
      "limit 3)\n",
      "\n",
      "create table most_profiting_authors2 as\n",
      "select * from tabla_auxiliar2]\n",
      "(Background on this error at: http://sqlalche.me/e/14/e3q8)\n"
     ]
    }
   ],
   "source": [
    "%%sql\n",
    "\n",
    "with tabla_auxiliar2 as \n",
    "(with tabla_auxiliar as\n",
    "(select t.title_id, ta.au_id, sum(t.price * s.qty * t.royalty / 100 * ta.royaltyper / 100) as total_sales_royalty\n",
    "from titles t inner join titleauthor ta on t.title_id = ta.title_id\n",
    "inner join sales s on s.title_id = t.title_id\n",
    "group by t.title_id, ta.au_id)\n",
    "\n",
    "select au_id, (total_sales_royalty + t.advance) as profits\n",
    "from tabla_auxiliar aux inner join titles t on aux.title_id = t.title_id\n",
    "order by profits desc\n",
    "limit 3)\n",
    "\n",
    "create table most_profiting_authors2 as\n",
    "select * from tabla_auxiliar2"
   ]
  },
  {
   "cell_type": "code",
   "execution_count": 14,
   "id": "possible-sydney",
   "metadata": {},
   "outputs": [],
   "source": [
    "# no es un problema de la query, porque funciona con select: "
   ]
  },
  {
   "cell_type": "code",
   "execution_count": 13,
   "id": "sitting-patch",
   "metadata": {},
   "outputs": [
    {
     "name": "stdout",
     "output_type": "stream",
     "text": [
      " * sqlite:///C:\\\\Users\\\\Júlia\\\\Documents\\\\Ironhack\\\\1_modulo_1\\\\Labs\\\\20-lab-sql-select\\\\publications.db\n",
      "Done.\n"
     ]
    },
    {
     "data": {
      "text/html": [
       "<table>\n",
       "    <tr>\n",
       "        <th>au_id</th>\n",
       "        <th>profits</th>\n",
       "    </tr>\n",
       "    <tr>\n",
       "        <td>722-51-5454</td>\n",
       "        <td>15021.528</td>\n",
       "    </tr>\n",
       "    <tr>\n",
       "        <td>899-46-2035</td>\n",
       "        <td>15007.176</td>\n",
       "    </tr>\n",
       "    <tr>\n",
       "        <td>213-46-8915</td>\n",
       "        <td>10150.116</td>\n",
       "    </tr>\n",
       "</table>"
      ],
      "text/plain": [
       "[('722-51-5454', 15021.528),\n",
       " ('899-46-2035', 15007.176),\n",
       " ('213-46-8915', 10150.116)]"
      ]
     },
     "execution_count": 13,
     "metadata": {},
     "output_type": "execute_result"
    }
   ],
   "source": [
    "%%sql\n",
    "with tabla_auxiliar2 as \n",
    "(with tabla_auxiliar as\n",
    "(select t.title_id, ta.au_id, sum(t.price * s.qty * t.royalty / 100 * ta.royaltyper / 100) as total_sales_royalty\n",
    "from titles t inner join titleauthor ta on t.title_id = ta.title_id\n",
    "inner join sales s on s.title_id = t.title_id\n",
    "group by t.title_id, ta.au_id)\n",
    "\n",
    "select au_id, (total_sales_royalty + t.advance) as profits\n",
    "from tabla_auxiliar aux inner join titles t on aux.title_id = t.title_id\n",
    "order by profits desc\n",
    "limit 3)\n",
    "\n",
    "select * from tabla_auxiliar2"
   ]
  }
 ],
 "metadata": {
  "kernelspec": {
   "display_name": "Python 3",
   "language": "python",
   "name": "python3"
  },
  "language_info": {
   "codemirror_mode": {
    "name": "ipython",
    "version": 3
   },
   "file_extension": ".py",
   "mimetype": "text/x-python",
   "name": "python",
   "nbconvert_exporter": "python",
   "pygments_lexer": "ipython3",
   "version": "3.9.1"
  },
  "toc": {
   "base_numbering": 1,
   "nav_menu": {},
   "number_sections": true,
   "sideBar": true,
   "skip_h1_title": false,
   "title_cell": "Table of Contents",
   "title_sidebar": "Contents",
   "toc_cell": false,
   "toc_position": {},
   "toc_section_display": true,
   "toc_window_display": false
  },
  "varInspector": {
   "cols": {
    "lenName": 16,
    "lenType": 16,
    "lenVar": 40
   },
   "kernels_config": {
    "python": {
     "delete_cmd_postfix": "",
     "delete_cmd_prefix": "del ",
     "library": "var_list.py",
     "varRefreshCmd": "print(var_dic_list())"
    },
    "r": {
     "delete_cmd_postfix": ") ",
     "delete_cmd_prefix": "rm(",
     "library": "var_list.r",
     "varRefreshCmd": "cat(var_dic_list()) "
    }
   },
   "types_to_exclude": [
    "module",
    "function",
    "builtin_function_or_method",
    "instance",
    "_Feature"
   ],
   "window_display": false
  }
 },
 "nbformat": 4,
 "nbformat_minor": 5
}
