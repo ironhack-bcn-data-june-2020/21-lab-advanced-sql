{
 "metadata": {
  "language_info": {
   "codemirror_mode": {
    "name": "ipython",
    "version": 3
   },
   "file_extension": ".py",
   "mimetype": "text/x-python",
   "name": "python",
   "nbconvert_exporter": "python",
   "pygments_lexer": "ipython3",
   "version": "3.8.3-final"
  },
  "orig_nbformat": 2,
  "kernelspec": {
   "name": "python383jvsc74a57bd05f23c331dcc0e959a18d97d72b32723b8e8fefc4a029dc171226f15b89161c30",
   "display_name": "Python 3.8.3 32-bit (conda)"
  }
 },
 "nbformat": 4,
 "nbformat_minor": 2,
 "cells": [
  {
   "source": [
    "# LAB 21_ADVANCED SQL"
   ],
   "cell_type": "markdown",
   "metadata": {}
  },
  {
   "source": [
    "## Challenge 1 - Most Profiting Authors"
   ],
   "cell_type": "markdown",
   "metadata": {}
  },
  {
   "source": [
    "In this challenge let's have a close look at the bonus challenge of the previous SQL SELECT lab -- who are the top 3 most profiting authors? Even if you have solved or think you have solved that problem in the previous lab, please still complete this challenge because the step-by-step guidances are helpful to train your problem-solving thinking."
   ],
   "cell_type": "markdown",
   "metadata": {}
  },
  {
   "cell_type": "code",
   "execution_count": 4,
   "metadata": {},
   "outputs": [],
   "source": [
    "# Import pandas and define the location and access (sqlite) of the database\n",
    "\n",
    "import pandas as pd\n",
    "db_url = 'sqlite:///publications.db'"
   ]
  },
  {
   "source": [
    "## Step 1: Calculate the royalties of each sales for each author"
   ],
   "cell_type": "markdown",
   "metadata": {}
  },
  {
   "source": [
    "Write a SELECT query to obtain the following output:\n",
    "\n",
    "- Title ID\n",
    "- Author ID\n",
    "- Royalty of each sale for each author\n",
    "\n",
    "The formula is:\n",
    "\n",
    "sales_royalty = titles.price * sales.qty * titles.royalty / 100 * titleauthor.royaltyper / 100\n",
    "\n",
    "Note that titles.royalty and titleauthor.royaltyper are divided by 100 respectively because they are percentage numbers instead of floats."
   ],
   "cell_type": "markdown",
   "metadata": {}
  },
  {
   "cell_type": "code",
   "execution_count": 5,
   "metadata": {},
   "outputs": [],
   "source": [
    "# Select interested items\n",
    "# Calculate the royalties per title by suming the royalties (prices * qty * royaltyper * royalty)\n",
    "query = '''\n",
    "SELECT a.au_id as AUTHOR_ID, a.au_lname as LAST_NAME, a.au_fname as FIRST_NAME, t.title as TITLE, t.price * s.qty * ta.royaltyper / 100 * t.royalty / 100 as TOTAL_ROY\n",
    "FROM sales s INNER JOIN titles t on t.title_id = s.title_id INNER JOIN titleauthor ta on t.title_id = ta.title_id\n",
    "INNER JOIN authors a on a.au_id = ta.au_id\n",
    "ORDER BY AUTHOR_ID\n",
    "'''"
   ]
  },
  {
   "cell_type": "code",
   "execution_count": 6,
   "metadata": {},
   "outputs": [
    {
     "output_type": "execute_result",
     "data": {
      "text/plain": [
       "      AUTHOR_ID       LAST_NAME FIRST_NAME  \\\n",
       "0   172-32-1176           White    Johnson   \n",
       "1   213-46-8915           Green   Marjorie   \n",
       "2   213-46-8915           Green   Marjorie   \n",
       "3   213-46-8915           Green   Marjorie   \n",
       "4   238-95-7766          Carson     Cheryl   \n",
       "5   267-41-2394         O'Leary    Michael   \n",
       "6   267-41-2394         O'Leary    Michael   \n",
       "7   274-80-9391        Straight       Dean   \n",
       "8   409-56-7008          Bennet    Abraham   \n",
       "9   409-56-7008          Bennet    Abraham   \n",
       "10  427-17-2319            Dull        Ann   \n",
       "11  472-27-2349      Gringlesby       Burt   \n",
       "12  486-29-1786        Locksley   Charlene   \n",
       "13  648-92-1872  Blotchet-Halls   Reginald   \n",
       "14  672-71-3249        Yokomoto      Akiko   \n",
       "15  712-45-1867    del Castillo      Innes   \n",
       "16  722-51-5454        DeFrance     Michel   \n",
       "17  722-51-5454        DeFrance     Michel   \n",
       "18  724-80-9391      MacFeather    Stearns   \n",
       "19  724-80-9391      MacFeather    Stearns   \n",
       "20  756-30-7391          Karsen      Livia   \n",
       "21  807-91-6654        Panteley     Sylvia   \n",
       "22  846-92-7186          Hunter     Sheryl   \n",
       "23  899-46-2035          Ringer       Anne   \n",
       "24  899-46-2035          Ringer       Anne   \n",
       "25  899-46-2035          Ringer       Anne   \n",
       "26  899-46-2035          Ringer       Anne   \n",
       "27  899-46-2035          Ringer       Anne   \n",
       "28  899-46-2035          Ringer       Anne   \n",
       "29  998-72-3567          Ringer     Albert   \n",
       "30  998-72-3567          Ringer     Albert   \n",
       "31  998-72-3567          Ringer     Albert   \n",
       "32  998-72-3567          Ringer     Albert   \n",
       "33  998-72-3567          Ringer     Albert   \n",
       "\n",
       "                                                TITLE  TOTAL_ROY  \n",
       "0       Prolonged Data Deprivation: Four Case Studies     29.985  \n",
       "1                 The Busy Executive's Database Guide      3.998  \n",
       "2                 The Busy Executive's Database Guide      7.996  \n",
       "3                     You Can Combat Computer Stress!     25.116  \n",
       "4                            But Is It User Friendly?    110.160  \n",
       "5   Cooking with Computers: Surreptitious Balance ...     11.950  \n",
       "6                                      Sushi, Anyone?      8.994  \n",
       "7                       Straight Talk About Computers     29.985  \n",
       "8                 The Busy Executive's Database Guide      5.997  \n",
       "9                 The Busy Executive's Database Guide     11.994  \n",
       "10                          Secrets of Silicon Valley     50.000  \n",
       "11                                     Sushi, Anyone?      8.994  \n",
       "12                Emotional Security: A New Algorithm     19.975  \n",
       "13          Fifty Years in Buckingham Palace Kitchens     33.460  \n",
       "14                                     Sushi, Anyone?     11.992  \n",
       "15                  Silicon Valley Gastronomic Treats     23.988  \n",
       "16                              The Gourmet Microwave     13.455  \n",
       "17                              The Gourmet Microwave      8.073  \n",
       "18  Cooking with Computers: Surreptitious Balance ...     17.925  \n",
       "19  Computer Phobic AND Non-Phobic Individuals: Be...     10.795  \n",
       "20  Computer Phobic AND Non-Phobic Individuals: Be...     32.385  \n",
       "21  Onions, Leeks, and Garlic: Cooking Secrets of ...     83.800  \n",
       "22                          Secrets of Silicon Valley     50.000  \n",
       "23                              The Gourmet Microwave      4.485  \n",
       "24                              The Gourmet Microwave      2.691  \n",
       "25                                Is Anger the Enemy?      1.971  \n",
       "26                                Is Anger the Enemy?     49.275  \n",
       "27                                Is Anger the Enemy?      6.570  \n",
       "28                                Is Anger the Enemy?     13.140  \n",
       "29                                Is Anger the Enemy?      1.971  \n",
       "30                                Is Anger the Enemy?     49.275  \n",
       "31                                Is Anger the Enemy?      6.570  \n",
       "32                                Is Anger the Enemy?     13.140  \n",
       "33                                  Life Without Fear     17.000  "
      ],
      "text/html": "<div>\n<style scoped>\n    .dataframe tbody tr th:only-of-type {\n        vertical-align: middle;\n    }\n\n    .dataframe tbody tr th {\n        vertical-align: top;\n    }\n\n    .dataframe thead th {\n        text-align: right;\n    }\n</style>\n<table border=\"1\" class=\"dataframe\">\n  <thead>\n    <tr style=\"text-align: right;\">\n      <th></th>\n      <th>AUTHOR_ID</th>\n      <th>LAST_NAME</th>\n      <th>FIRST_NAME</th>\n      <th>TITLE</th>\n      <th>TOTAL_ROY</th>\n    </tr>\n  </thead>\n  <tbody>\n    <tr>\n      <th>0</th>\n      <td>172-32-1176</td>\n      <td>White</td>\n      <td>Johnson</td>\n      <td>Prolonged Data Deprivation: Four Case Studies</td>\n      <td>29.985</td>\n    </tr>\n    <tr>\n      <th>1</th>\n      <td>213-46-8915</td>\n      <td>Green</td>\n      <td>Marjorie</td>\n      <td>The Busy Executive's Database Guide</td>\n      <td>3.998</td>\n    </tr>\n    <tr>\n      <th>2</th>\n      <td>213-46-8915</td>\n      <td>Green</td>\n      <td>Marjorie</td>\n      <td>The Busy Executive's Database Guide</td>\n      <td>7.996</td>\n    </tr>\n    <tr>\n      <th>3</th>\n      <td>213-46-8915</td>\n      <td>Green</td>\n      <td>Marjorie</td>\n      <td>You Can Combat Computer Stress!</td>\n      <td>25.116</td>\n    </tr>\n    <tr>\n      <th>4</th>\n      <td>238-95-7766</td>\n      <td>Carson</td>\n      <td>Cheryl</td>\n      <td>But Is It User Friendly?</td>\n      <td>110.160</td>\n    </tr>\n    <tr>\n      <th>5</th>\n      <td>267-41-2394</td>\n      <td>O'Leary</td>\n      <td>Michael</td>\n      <td>Cooking with Computers: Surreptitious Balance ...</td>\n      <td>11.950</td>\n    </tr>\n    <tr>\n      <th>6</th>\n      <td>267-41-2394</td>\n      <td>O'Leary</td>\n      <td>Michael</td>\n      <td>Sushi, Anyone?</td>\n      <td>8.994</td>\n    </tr>\n    <tr>\n      <th>7</th>\n      <td>274-80-9391</td>\n      <td>Straight</td>\n      <td>Dean</td>\n      <td>Straight Talk About Computers</td>\n      <td>29.985</td>\n    </tr>\n    <tr>\n      <th>8</th>\n      <td>409-56-7008</td>\n      <td>Bennet</td>\n      <td>Abraham</td>\n      <td>The Busy Executive's Database Guide</td>\n      <td>5.997</td>\n    </tr>\n    <tr>\n      <th>9</th>\n      <td>409-56-7008</td>\n      <td>Bennet</td>\n      <td>Abraham</td>\n      <td>The Busy Executive's Database Guide</td>\n      <td>11.994</td>\n    </tr>\n    <tr>\n      <th>10</th>\n      <td>427-17-2319</td>\n      <td>Dull</td>\n      <td>Ann</td>\n      <td>Secrets of Silicon Valley</td>\n      <td>50.000</td>\n    </tr>\n    <tr>\n      <th>11</th>\n      <td>472-27-2349</td>\n      <td>Gringlesby</td>\n      <td>Burt</td>\n      <td>Sushi, Anyone?</td>\n      <td>8.994</td>\n    </tr>\n    <tr>\n      <th>12</th>\n      <td>486-29-1786</td>\n      <td>Locksley</td>\n      <td>Charlene</td>\n      <td>Emotional Security: A New Algorithm</td>\n      <td>19.975</td>\n    </tr>\n    <tr>\n      <th>13</th>\n      <td>648-92-1872</td>\n      <td>Blotchet-Halls</td>\n      <td>Reginald</td>\n      <td>Fifty Years in Buckingham Palace Kitchens</td>\n      <td>33.460</td>\n    </tr>\n    <tr>\n      <th>14</th>\n      <td>672-71-3249</td>\n      <td>Yokomoto</td>\n      <td>Akiko</td>\n      <td>Sushi, Anyone?</td>\n      <td>11.992</td>\n    </tr>\n    <tr>\n      <th>15</th>\n      <td>712-45-1867</td>\n      <td>del Castillo</td>\n      <td>Innes</td>\n      <td>Silicon Valley Gastronomic Treats</td>\n      <td>23.988</td>\n    </tr>\n    <tr>\n      <th>16</th>\n      <td>722-51-5454</td>\n      <td>DeFrance</td>\n      <td>Michel</td>\n      <td>The Gourmet Microwave</td>\n      <td>13.455</td>\n    </tr>\n    <tr>\n      <th>17</th>\n      <td>722-51-5454</td>\n      <td>DeFrance</td>\n      <td>Michel</td>\n      <td>The Gourmet Microwave</td>\n      <td>8.073</td>\n    </tr>\n    <tr>\n      <th>18</th>\n      <td>724-80-9391</td>\n      <td>MacFeather</td>\n      <td>Stearns</td>\n      <td>Cooking with Computers: Surreptitious Balance ...</td>\n      <td>17.925</td>\n    </tr>\n    <tr>\n      <th>19</th>\n      <td>724-80-9391</td>\n      <td>MacFeather</td>\n      <td>Stearns</td>\n      <td>Computer Phobic AND Non-Phobic Individuals: Be...</td>\n      <td>10.795</td>\n    </tr>\n    <tr>\n      <th>20</th>\n      <td>756-30-7391</td>\n      <td>Karsen</td>\n      <td>Livia</td>\n      <td>Computer Phobic AND Non-Phobic Individuals: Be...</td>\n      <td>32.385</td>\n    </tr>\n    <tr>\n      <th>21</th>\n      <td>807-91-6654</td>\n      <td>Panteley</td>\n      <td>Sylvia</td>\n      <td>Onions, Leeks, and Garlic: Cooking Secrets of ...</td>\n      <td>83.800</td>\n    </tr>\n    <tr>\n      <th>22</th>\n      <td>846-92-7186</td>\n      <td>Hunter</td>\n      <td>Sheryl</td>\n      <td>Secrets of Silicon Valley</td>\n      <td>50.000</td>\n    </tr>\n    <tr>\n      <th>23</th>\n      <td>899-46-2035</td>\n      <td>Ringer</td>\n      <td>Anne</td>\n      <td>The Gourmet Microwave</td>\n      <td>4.485</td>\n    </tr>\n    <tr>\n      <th>24</th>\n      <td>899-46-2035</td>\n      <td>Ringer</td>\n      <td>Anne</td>\n      <td>The Gourmet Microwave</td>\n      <td>2.691</td>\n    </tr>\n    <tr>\n      <th>25</th>\n      <td>899-46-2035</td>\n      <td>Ringer</td>\n      <td>Anne</td>\n      <td>Is Anger the Enemy?</td>\n      <td>1.971</td>\n    </tr>\n    <tr>\n      <th>26</th>\n      <td>899-46-2035</td>\n      <td>Ringer</td>\n      <td>Anne</td>\n      <td>Is Anger the Enemy?</td>\n      <td>49.275</td>\n    </tr>\n    <tr>\n      <th>27</th>\n      <td>899-46-2035</td>\n      <td>Ringer</td>\n      <td>Anne</td>\n      <td>Is Anger the Enemy?</td>\n      <td>6.570</td>\n    </tr>\n    <tr>\n      <th>28</th>\n      <td>899-46-2035</td>\n      <td>Ringer</td>\n      <td>Anne</td>\n      <td>Is Anger the Enemy?</td>\n      <td>13.140</td>\n    </tr>\n    <tr>\n      <th>29</th>\n      <td>998-72-3567</td>\n      <td>Ringer</td>\n      <td>Albert</td>\n      <td>Is Anger the Enemy?</td>\n      <td>1.971</td>\n    </tr>\n    <tr>\n      <th>30</th>\n      <td>998-72-3567</td>\n      <td>Ringer</td>\n      <td>Albert</td>\n      <td>Is Anger the Enemy?</td>\n      <td>49.275</td>\n    </tr>\n    <tr>\n      <th>31</th>\n      <td>998-72-3567</td>\n      <td>Ringer</td>\n      <td>Albert</td>\n      <td>Is Anger the Enemy?</td>\n      <td>6.570</td>\n    </tr>\n    <tr>\n      <th>32</th>\n      <td>998-72-3567</td>\n      <td>Ringer</td>\n      <td>Albert</td>\n      <td>Is Anger the Enemy?</td>\n      <td>13.140</td>\n    </tr>\n    <tr>\n      <th>33</th>\n      <td>998-72-3567</td>\n      <td>Ringer</td>\n      <td>Albert</td>\n      <td>Life Without Fear</td>\n      <td>17.000</td>\n    </tr>\n  </tbody>\n</table>\n</div>"
     },
     "metadata": {},
     "execution_count": 6
    }
   ],
   "source": [
    "# Call the query from the data base with pandas\n",
    "\n",
    "df = pd.read_sql(query, db_url)\n",
    "df"
   ]
  },
  {
   "source": [
    "## Step 2: Aggregate the total royalties for each title for each author"
   ],
   "cell_type": "markdown",
   "metadata": {}
  },
  {
   "source": [
    "Using the output from Step 1, write a query to obtain the following output:\n",
    "\n",
    "- Title ID\n",
    "- Author ID\n",
    "- Aggregated royalties of each title for each author"
   ],
   "cell_type": "markdown",
   "metadata": {}
  },
  {
   "cell_type": "code",
   "execution_count": 9,
   "metadata": {},
   "outputs": [],
   "source": [
    "# From previous query, add a Group by author and title and Sum the royalty to get the royalties per book\n",
    "query2 = '''\n",
    "SELECT a.au_id as AUTHOR_ID, a.au_lname as LAST_NAME, a.au_fname as FIRST_NAME, t.title as TITLE, sum(t.price * s.qty * ta.royaltyper / 100 * t.royalty / 100) as TOTAL_ROY\n",
    "FROM sales s INNER JOIN titles t on t.title_id = s.title_id INNER JOIN titleauthor ta on t.title_id = ta.title_id\n",
    "INNER JOIN authors a on a.au_id = ta.au_id\n",
    "GROUP BY AUTHOR_ID, LAST_NAME,FIRST_NAME, TITLE\n",
    "ORDER BY AUTHOR_ID\n",
    "'''"
   ]
  },
  {
   "cell_type": "code",
   "execution_count": 10,
   "metadata": {},
   "outputs": [
    {
     "output_type": "execute_result",
     "data": {
      "text/plain": [
       "      AUTHOR_ID       LAST_NAME FIRST_NAME  \\\n",
       "0   172-32-1176           White    Johnson   \n",
       "1   213-46-8915           Green   Marjorie   \n",
       "2   213-46-8915           Green   Marjorie   \n",
       "3   238-95-7766          Carson     Cheryl   \n",
       "4   267-41-2394         O'Leary    Michael   \n",
       "5   267-41-2394         O'Leary    Michael   \n",
       "6   274-80-9391        Straight       Dean   \n",
       "7   409-56-7008          Bennet    Abraham   \n",
       "8   427-17-2319            Dull        Ann   \n",
       "9   472-27-2349      Gringlesby       Burt   \n",
       "10  486-29-1786        Locksley   Charlene   \n",
       "11  648-92-1872  Blotchet-Halls   Reginald   \n",
       "12  672-71-3249        Yokomoto      Akiko   \n",
       "13  712-45-1867    del Castillo      Innes   \n",
       "14  722-51-5454        DeFrance     Michel   \n",
       "15  724-80-9391      MacFeather    Stearns   \n",
       "16  724-80-9391      MacFeather    Stearns   \n",
       "17  756-30-7391          Karsen      Livia   \n",
       "18  807-91-6654        Panteley     Sylvia   \n",
       "19  846-92-7186          Hunter     Sheryl   \n",
       "20  899-46-2035          Ringer       Anne   \n",
       "21  899-46-2035          Ringer       Anne   \n",
       "22  998-72-3567          Ringer     Albert   \n",
       "23  998-72-3567          Ringer     Albert   \n",
       "\n",
       "                                                TITLE  TOTAL_ROY  \n",
       "0       Prolonged Data Deprivation: Four Case Studies     29.985  \n",
       "1                 The Busy Executive's Database Guide     11.994  \n",
       "2                     You Can Combat Computer Stress!     25.116  \n",
       "3                            But Is It User Friendly?    110.160  \n",
       "4   Cooking with Computers: Surreptitious Balance ...     11.950  \n",
       "5                                      Sushi, Anyone?      8.994  \n",
       "6                       Straight Talk About Computers     29.985  \n",
       "7                 The Busy Executive's Database Guide     17.991  \n",
       "8                           Secrets of Silicon Valley     50.000  \n",
       "9                                      Sushi, Anyone?      8.994  \n",
       "10                Emotional Security: A New Algorithm     19.975  \n",
       "11          Fifty Years in Buckingham Palace Kitchens     33.460  \n",
       "12                                     Sushi, Anyone?     11.992  \n",
       "13                  Silicon Valley Gastronomic Treats     23.988  \n",
       "14                              The Gourmet Microwave     21.528  \n",
       "15  Computer Phobic AND Non-Phobic Individuals: Be...     10.795  \n",
       "16  Cooking with Computers: Surreptitious Balance ...     17.925  \n",
       "17  Computer Phobic AND Non-Phobic Individuals: Be...     32.385  \n",
       "18  Onions, Leeks, and Garlic: Cooking Secrets of ...     83.800  \n",
       "19                          Secrets of Silicon Valley     50.000  \n",
       "20                                Is Anger the Enemy?     70.956  \n",
       "21                              The Gourmet Microwave      7.176  \n",
       "22                                Is Anger the Enemy?     70.956  \n",
       "23                                  Life Without Fear     17.000  "
      ],
      "text/html": "<div>\n<style scoped>\n    .dataframe tbody tr th:only-of-type {\n        vertical-align: middle;\n    }\n\n    .dataframe tbody tr th {\n        vertical-align: top;\n    }\n\n    .dataframe thead th {\n        text-align: right;\n    }\n</style>\n<table border=\"1\" class=\"dataframe\">\n  <thead>\n    <tr style=\"text-align: right;\">\n      <th></th>\n      <th>AUTHOR_ID</th>\n      <th>LAST_NAME</th>\n      <th>FIRST_NAME</th>\n      <th>TITLE</th>\n      <th>TOTAL_ROY</th>\n    </tr>\n  </thead>\n  <tbody>\n    <tr>\n      <th>0</th>\n      <td>172-32-1176</td>\n      <td>White</td>\n      <td>Johnson</td>\n      <td>Prolonged Data Deprivation: Four Case Studies</td>\n      <td>29.985</td>\n    </tr>\n    <tr>\n      <th>1</th>\n      <td>213-46-8915</td>\n      <td>Green</td>\n      <td>Marjorie</td>\n      <td>The Busy Executive's Database Guide</td>\n      <td>11.994</td>\n    </tr>\n    <tr>\n      <th>2</th>\n      <td>213-46-8915</td>\n      <td>Green</td>\n      <td>Marjorie</td>\n      <td>You Can Combat Computer Stress!</td>\n      <td>25.116</td>\n    </tr>\n    <tr>\n      <th>3</th>\n      <td>238-95-7766</td>\n      <td>Carson</td>\n      <td>Cheryl</td>\n      <td>But Is It User Friendly?</td>\n      <td>110.160</td>\n    </tr>\n    <tr>\n      <th>4</th>\n      <td>267-41-2394</td>\n      <td>O'Leary</td>\n      <td>Michael</td>\n      <td>Cooking with Computers: Surreptitious Balance ...</td>\n      <td>11.950</td>\n    </tr>\n    <tr>\n      <th>5</th>\n      <td>267-41-2394</td>\n      <td>O'Leary</td>\n      <td>Michael</td>\n      <td>Sushi, Anyone?</td>\n      <td>8.994</td>\n    </tr>\n    <tr>\n      <th>6</th>\n      <td>274-80-9391</td>\n      <td>Straight</td>\n      <td>Dean</td>\n      <td>Straight Talk About Computers</td>\n      <td>29.985</td>\n    </tr>\n    <tr>\n      <th>7</th>\n      <td>409-56-7008</td>\n      <td>Bennet</td>\n      <td>Abraham</td>\n      <td>The Busy Executive's Database Guide</td>\n      <td>17.991</td>\n    </tr>\n    <tr>\n      <th>8</th>\n      <td>427-17-2319</td>\n      <td>Dull</td>\n      <td>Ann</td>\n      <td>Secrets of Silicon Valley</td>\n      <td>50.000</td>\n    </tr>\n    <tr>\n      <th>9</th>\n      <td>472-27-2349</td>\n      <td>Gringlesby</td>\n      <td>Burt</td>\n      <td>Sushi, Anyone?</td>\n      <td>8.994</td>\n    </tr>\n    <tr>\n      <th>10</th>\n      <td>486-29-1786</td>\n      <td>Locksley</td>\n      <td>Charlene</td>\n      <td>Emotional Security: A New Algorithm</td>\n      <td>19.975</td>\n    </tr>\n    <tr>\n      <th>11</th>\n      <td>648-92-1872</td>\n      <td>Blotchet-Halls</td>\n      <td>Reginald</td>\n      <td>Fifty Years in Buckingham Palace Kitchens</td>\n      <td>33.460</td>\n    </tr>\n    <tr>\n      <th>12</th>\n      <td>672-71-3249</td>\n      <td>Yokomoto</td>\n      <td>Akiko</td>\n      <td>Sushi, Anyone?</td>\n      <td>11.992</td>\n    </tr>\n    <tr>\n      <th>13</th>\n      <td>712-45-1867</td>\n      <td>del Castillo</td>\n      <td>Innes</td>\n      <td>Silicon Valley Gastronomic Treats</td>\n      <td>23.988</td>\n    </tr>\n    <tr>\n      <th>14</th>\n      <td>722-51-5454</td>\n      <td>DeFrance</td>\n      <td>Michel</td>\n      <td>The Gourmet Microwave</td>\n      <td>21.528</td>\n    </tr>\n    <tr>\n      <th>15</th>\n      <td>724-80-9391</td>\n      <td>MacFeather</td>\n      <td>Stearns</td>\n      <td>Computer Phobic AND Non-Phobic Individuals: Be...</td>\n      <td>10.795</td>\n    </tr>\n    <tr>\n      <th>16</th>\n      <td>724-80-9391</td>\n      <td>MacFeather</td>\n      <td>Stearns</td>\n      <td>Cooking with Computers: Surreptitious Balance ...</td>\n      <td>17.925</td>\n    </tr>\n    <tr>\n      <th>17</th>\n      <td>756-30-7391</td>\n      <td>Karsen</td>\n      <td>Livia</td>\n      <td>Computer Phobic AND Non-Phobic Individuals: Be...</td>\n      <td>32.385</td>\n    </tr>\n    <tr>\n      <th>18</th>\n      <td>807-91-6654</td>\n      <td>Panteley</td>\n      <td>Sylvia</td>\n      <td>Onions, Leeks, and Garlic: Cooking Secrets of ...</td>\n      <td>83.800</td>\n    </tr>\n    <tr>\n      <th>19</th>\n      <td>846-92-7186</td>\n      <td>Hunter</td>\n      <td>Sheryl</td>\n      <td>Secrets of Silicon Valley</td>\n      <td>50.000</td>\n    </tr>\n    <tr>\n      <th>20</th>\n      <td>899-46-2035</td>\n      <td>Ringer</td>\n      <td>Anne</td>\n      <td>Is Anger the Enemy?</td>\n      <td>70.956</td>\n    </tr>\n    <tr>\n      <th>21</th>\n      <td>899-46-2035</td>\n      <td>Ringer</td>\n      <td>Anne</td>\n      <td>The Gourmet Microwave</td>\n      <td>7.176</td>\n    </tr>\n    <tr>\n      <th>22</th>\n      <td>998-72-3567</td>\n      <td>Ringer</td>\n      <td>Albert</td>\n      <td>Is Anger the Enemy?</td>\n      <td>70.956</td>\n    </tr>\n    <tr>\n      <th>23</th>\n      <td>998-72-3567</td>\n      <td>Ringer</td>\n      <td>Albert</td>\n      <td>Life Without Fear</td>\n      <td>17.000</td>\n    </tr>\n  </tbody>\n</table>\n</div>"
     },
     "metadata": {},
     "execution_count": 10
    }
   ],
   "source": [
    "# Call the query from the data base with pandas\n",
    "\n",
    "df2 = pd.read_sql(query2, db_url)\n",
    "df2"
   ]
  },
  {
   "source": [
    "## Step 3: Calculate the total profits of each author"
   ],
   "cell_type": "markdown",
   "metadata": {}
  },
  {
   "source": [
    "Now that each title has exactly one row for each author where the advance and royalties are available, we are ready to obtain the eventual output. Using the output from Step 2, write a query to obtain the following output:\n",
    "\n",
    "- Author ID\n",
    "- Profits of each author by aggregating the advance and total royalties of each title\n",
    "\n",
    "Sort the output based on a total profits from high to low, and limit the number of rows to 3."
   ],
   "cell_type": "markdown",
   "metadata": {}
  },
  {
   "cell_type": "code",
   "execution_count": 11,
   "metadata": {},
   "outputs": [],
   "source": [
    "# From previous query, add the advance quantity per book\n",
    "# Create a sub query to Group by author (so the authors that have more than one group are grouped) and sum royalties and advanced earnings\n",
    "query3 = '''\n",
    "with profit_authors as\n",
    "(SELECT a.au_id as AUTHOR_ID, a.au_lname as LAST_NAME, a.au_fname as FIRST_NAME, t.title as TITLE, t.advance * ta.royaltyper / 100\n",
    "as TOTAL_ADV, sum(t.price * s.qty * ta.royaltyper / 100 * t.royalty / 100) as TOTAL_ROY\n",
    "FROM sales s INNER JOIN titles t on t.title_id = s.title_id INNER JOIN titleauthor ta on t.title_id = ta.title_id\n",
    "INNER JOIN authors a on a.au_id = ta.au_id\n",
    "GROUP BY AUTHOR_ID, LAST_NAME,FIRST_NAME, TITLE, TOTAL_ADV\n",
    "ORDER BY t.title)\n",
    "SELECT AUTHOR_ID, LAST_NAME, FIRST_NAME, ROUND(SUM(TOTAL_ADV + TOTAL_ROY),1) as BENEFIT\n",
    "FROM profit_authors\n",
    "GROUP BY AUTHOR_ID\n",
    "ORDER BY BENEFIT DESC\n",
    "LIMIT 3\n",
    "'''"
   ]
  },
  {
   "cell_type": "code",
   "execution_count": 12,
   "metadata": {},
   "outputs": [
    {
     "output_type": "execute_result",
     "data": {
      "text/plain": [
       "     AUTHOR_ID LAST_NAME FIRST_NAME  BENEFIT\n",
       "0  213-46-8915     Green   Marjorie  12162.1\n",
       "1  722-51-5454  DeFrance     Michel  11271.5\n",
       "2  998-72-3567    Ringer     Albert   7225.0"
      ],
      "text/html": "<div>\n<style scoped>\n    .dataframe tbody tr th:only-of-type {\n        vertical-align: middle;\n    }\n\n    .dataframe tbody tr th {\n        vertical-align: top;\n    }\n\n    .dataframe thead th {\n        text-align: right;\n    }\n</style>\n<table border=\"1\" class=\"dataframe\">\n  <thead>\n    <tr style=\"text-align: right;\">\n      <th></th>\n      <th>AUTHOR_ID</th>\n      <th>LAST_NAME</th>\n      <th>FIRST_NAME</th>\n      <th>BENEFIT</th>\n    </tr>\n  </thead>\n  <tbody>\n    <tr>\n      <th>0</th>\n      <td>213-46-8915</td>\n      <td>Green</td>\n      <td>Marjorie</td>\n      <td>12162.1</td>\n    </tr>\n    <tr>\n      <th>1</th>\n      <td>722-51-5454</td>\n      <td>DeFrance</td>\n      <td>Michel</td>\n      <td>11271.5</td>\n    </tr>\n    <tr>\n      <th>2</th>\n      <td>998-72-3567</td>\n      <td>Ringer</td>\n      <td>Albert</td>\n      <td>7225.0</td>\n    </tr>\n  </tbody>\n</table>\n</div>"
     },
     "metadata": {},
     "execution_count": 12
    }
   ],
   "source": [
    "# Call the query from the data base with pandas\n",
    "\n",
    "df3 = pd.read_sql(query3, db_url)\n",
    "df3"
   ]
  },
  {
   "source": [
    "## Challenge 2 - Create a new table"
   ],
   "cell_type": "markdown",
   "metadata": {}
  },
  {
   "source": [
    "Elevating from your solution in Challenge 1 , create a table named most_profiting_authors to hold the data about the most profiting authors. The table should have 2 columns:\n",
    "\n",
    "- au_id - Author ID\n",
    "- profits - The profits of the author aggregating the advances and royalties"
   ],
   "cell_type": "markdown",
   "metadata": {}
  },
  {
   "cell_type": "code",
   "execution_count": 19,
   "metadata": {},
   "outputs": [
    {
     "output_type": "error",
     "ename": "ResourceClosedError",
     "evalue": "This result object does not return rows. It has been closed automatically.",
     "traceback": [
      "\u001b[1;31m---------------------------------------------------------------------------\u001b[0m",
      "\u001b[1;31mResourceClosedError\u001b[0m                       Traceback (most recent call last)",
      "\u001b[1;32m<ipython-input-19-5a7912ae1741>\u001b[0m in \u001b[0;36m<module>\u001b[1;34m\u001b[0m\n\u001b[0;32m      7\u001b[0m )\n\u001b[0;32m      8\u001b[0m '''\n\u001b[1;32m----> 9\u001b[1;33m \u001b[0mpd\u001b[0m\u001b[1;33m.\u001b[0m\u001b[0mread_sql\u001b[0m\u001b[1;33m(\u001b[0m\u001b[0mquery4\u001b[0m\u001b[1;33m,\u001b[0m \u001b[0mdb_url\u001b[0m\u001b[1;33m)\u001b[0m\u001b[1;33m\u001b[0m\u001b[1;33m\u001b[0m\u001b[0m\n\u001b[0m",
      "\u001b[1;32m~\\anaconda3\\lib\\site-packages\\pandas\\io\\sql.py\u001b[0m in \u001b[0;36mread_sql\u001b[1;34m(sql, con, index_col, coerce_float, params, parse_dates, columns, chunksize)\u001b[0m\n\u001b[0;32m    508\u001b[0m         )\n\u001b[0;32m    509\u001b[0m     \u001b[1;32melse\u001b[0m\u001b[1;33m:\u001b[0m\u001b[1;33m\u001b[0m\u001b[1;33m\u001b[0m\u001b[0m\n\u001b[1;32m--> 510\u001b[1;33m         return pandas_sql.read_query(\n\u001b[0m\u001b[0;32m    511\u001b[0m             \u001b[0msql\u001b[0m\u001b[1;33m,\u001b[0m\u001b[1;33m\u001b[0m\u001b[1;33m\u001b[0m\u001b[0m\n\u001b[0;32m    512\u001b[0m             \u001b[0mindex_col\u001b[0m\u001b[1;33m=\u001b[0m\u001b[0mindex_col\u001b[0m\u001b[1;33m,\u001b[0m\u001b[1;33m\u001b[0m\u001b[1;33m\u001b[0m\u001b[0m\n",
      "\u001b[1;32m~\\anaconda3\\lib\\site-packages\\pandas\\io\\sql.py\u001b[0m in \u001b[0;36mread_query\u001b[1;34m(self, sql, index_col, coerce_float, parse_dates, params, chunksize)\u001b[0m\n\u001b[0;32m   1293\u001b[0m \u001b[1;33m\u001b[0m\u001b[0m\n\u001b[0;32m   1294\u001b[0m         \u001b[0mresult\u001b[0m \u001b[1;33m=\u001b[0m \u001b[0mself\u001b[0m\u001b[1;33m.\u001b[0m\u001b[0mexecute\u001b[0m\u001b[1;33m(\u001b[0m\u001b[1;33m*\u001b[0m\u001b[0margs\u001b[0m\u001b[1;33m)\u001b[0m\u001b[1;33m\u001b[0m\u001b[1;33m\u001b[0m\u001b[0m\n\u001b[1;32m-> 1295\u001b[1;33m         \u001b[0mcolumns\u001b[0m \u001b[1;33m=\u001b[0m \u001b[0mresult\u001b[0m\u001b[1;33m.\u001b[0m\u001b[0mkeys\u001b[0m\u001b[1;33m(\u001b[0m\u001b[1;33m)\u001b[0m\u001b[1;33m\u001b[0m\u001b[1;33m\u001b[0m\u001b[0m\n\u001b[0m\u001b[0;32m   1296\u001b[0m \u001b[1;33m\u001b[0m\u001b[0m\n\u001b[0;32m   1297\u001b[0m         \u001b[1;32mif\u001b[0m \u001b[0mchunksize\u001b[0m \u001b[1;32mis\u001b[0m \u001b[1;32mnot\u001b[0m \u001b[1;32mNone\u001b[0m\u001b[1;33m:\u001b[0m\u001b[1;33m\u001b[0m\u001b[1;33m\u001b[0m\u001b[0m\n",
      "\u001b[1;32m~\\anaconda3\\lib\\site-packages\\sqlalchemy\\engine\\result.py\u001b[0m in \u001b[0;36mkeys\u001b[1;34m(self)\u001b[0m\n\u001b[0;32m    698\u001b[0m \u001b[1;33m\u001b[0m\u001b[0m\n\u001b[0;32m    699\u001b[0m         \"\"\"\n\u001b[1;32m--> 700\u001b[1;33m         \u001b[1;32mreturn\u001b[0m \u001b[0mself\u001b[0m\u001b[1;33m.\u001b[0m\u001b[0m_metadata\u001b[0m\u001b[1;33m.\u001b[0m\u001b[0mkeys\u001b[0m\u001b[1;33m\u001b[0m\u001b[1;33m\u001b[0m\u001b[0m\n\u001b[0m\u001b[0;32m    701\u001b[0m \u001b[1;33m\u001b[0m\u001b[0m\n\u001b[0;32m    702\u001b[0m \u001b[1;33m\u001b[0m\u001b[0m\n",
      "\u001b[1;32m~\\anaconda3\\lib\\site-packages\\sqlalchemy\\engine\\cursor.py\u001b[0m in \u001b[0;36mkeys\u001b[1;34m(self)\u001b[0m\n\u001b[0;32m   1199\u001b[0m     \u001b[1;33m@\u001b[0m\u001b[0mproperty\u001b[0m\u001b[1;33m\u001b[0m\u001b[1;33m\u001b[0m\u001b[0m\n\u001b[0;32m   1200\u001b[0m     \u001b[1;32mdef\u001b[0m \u001b[0mkeys\u001b[0m\u001b[1;33m(\u001b[0m\u001b[0mself\u001b[0m\u001b[1;33m)\u001b[0m\u001b[1;33m:\u001b[0m\u001b[1;33m\u001b[0m\u001b[1;33m\u001b[0m\u001b[0m\n\u001b[1;32m-> 1201\u001b[1;33m         \u001b[0mself\u001b[0m\u001b[1;33m.\u001b[0m\u001b[0m_we_dont_return_rows\u001b[0m\u001b[1;33m(\u001b[0m\u001b[1;33m)\u001b[0m\u001b[1;33m\u001b[0m\u001b[1;33m\u001b[0m\u001b[0m\n\u001b[0m\u001b[0;32m   1202\u001b[0m \u001b[1;33m\u001b[0m\u001b[0m\n\u001b[0;32m   1203\u001b[0m \u001b[1;33m\u001b[0m\u001b[0m\n",
      "\u001b[1;32m~\\anaconda3\\lib\\site-packages\\sqlalchemy\\engine\\cursor.py\u001b[0m in \u001b[0;36m_we_dont_return_rows\u001b[1;34m(self, err)\u001b[0m\n\u001b[0;32m   1176\u001b[0m \u001b[1;33m\u001b[0m\u001b[0m\n\u001b[0;32m   1177\u001b[0m     \u001b[1;32mdef\u001b[0m \u001b[0m_we_dont_return_rows\u001b[0m\u001b[1;33m(\u001b[0m\u001b[0mself\u001b[0m\u001b[1;33m,\u001b[0m \u001b[0merr\u001b[0m\u001b[1;33m=\u001b[0m\u001b[1;32mNone\u001b[0m\u001b[1;33m)\u001b[0m\u001b[1;33m:\u001b[0m\u001b[1;33m\u001b[0m\u001b[1;33m\u001b[0m\u001b[0m\n\u001b[1;32m-> 1178\u001b[1;33m         util.raise_(\n\u001b[0m\u001b[0;32m   1179\u001b[0m             exc.ResourceClosedError(\n\u001b[0;32m   1180\u001b[0m                 \u001b[1;34m\"This result object does not return rows. \"\u001b[0m\u001b[1;33m\u001b[0m\u001b[1;33m\u001b[0m\u001b[0m\n",
      "\u001b[1;32m~\\anaconda3\\lib\\site-packages\\sqlalchemy\\util\\compat.py\u001b[0m in \u001b[0;36mraise_\u001b[1;34m(***failed resolving arguments***)\u001b[0m\n\u001b[0;32m    209\u001b[0m \u001b[1;33m\u001b[0m\u001b[0m\n\u001b[0;32m    210\u001b[0m         \u001b[1;32mtry\u001b[0m\u001b[1;33m:\u001b[0m\u001b[1;33m\u001b[0m\u001b[1;33m\u001b[0m\u001b[0m\n\u001b[1;32m--> 211\u001b[1;33m             \u001b[1;32mraise\u001b[0m \u001b[0mexception\u001b[0m\u001b[1;33m\u001b[0m\u001b[1;33m\u001b[0m\u001b[0m\n\u001b[0m\u001b[0;32m    212\u001b[0m         \u001b[1;32mfinally\u001b[0m\u001b[1;33m:\u001b[0m\u001b[1;33m\u001b[0m\u001b[1;33m\u001b[0m\u001b[0m\n\u001b[0;32m    213\u001b[0m             \u001b[1;31m# credit to\u001b[0m\u001b[1;33m\u001b[0m\u001b[1;33m\u001b[0m\u001b[1;33m\u001b[0m\u001b[0m\n",
      "\u001b[1;31mResourceClosedError\u001b[0m: This result object does not return rows. It has been closed automatically."
     ]
    }
   ],
   "source": [
    "# Create table most_profiting_authors\n",
    "query4 ='''\n",
    "CREATE TABLE \"most_profiting_authors\"(\n",
    "\"au_id\"\tvarchar(11) NOT NULL, \n",
    "\"profits\" decimal(19, 4) DEFAULT NULL,\n",
    "CONSTRAINT \"titleauthor_ibfk_7\" FOREIGN KEY(\"au_id\") REFERENCES \"authors\"(\"au_id\") ON DELETE CASCADE ON UPDATE CASCADE\n",
    ")\n",
    "'''\n",
    "pd.read_sql(query4, db_url)"
   ]
  },
  {
   "cell_type": "code",
   "execution_count": 21,
   "metadata": {},
   "outputs": [
    {
     "output_type": "error",
     "ename": "ResourceClosedError",
     "evalue": "This result object does not return rows. It has been closed automatically.",
     "traceback": [
      "\u001b[1;31m---------------------------------------------------------------------------\u001b[0m",
      "\u001b[1;31mResourceClosedError\u001b[0m                       Traceback (most recent call last)",
      "\u001b[1;32m<ipython-input-21-6897a26f7ec0>\u001b[0m in \u001b[0;36m<module>\u001b[1;34m\u001b[0m\n\u001b[0;32m     15\u001b[0m \u001b[0mLIMIT\u001b[0m \u001b[1;36m3\u001b[0m\u001b[1;33m\u001b[0m\u001b[1;33m\u001b[0m\u001b[0m\n\u001b[0;32m     16\u001b[0m '''\n\u001b[1;32m---> 17\u001b[1;33m \u001b[0mpd\u001b[0m\u001b[1;33m.\u001b[0m\u001b[0mread_sql\u001b[0m\u001b[1;33m(\u001b[0m\u001b[0mquery5\u001b[0m\u001b[1;33m,\u001b[0m \u001b[0mdb_url\u001b[0m\u001b[1;33m)\u001b[0m\u001b[1;33m\u001b[0m\u001b[1;33m\u001b[0m\u001b[0m\n\u001b[0m",
      "\u001b[1;32m~\\anaconda3\\lib\\site-packages\\pandas\\io\\sql.py\u001b[0m in \u001b[0;36mread_sql\u001b[1;34m(sql, con, index_col, coerce_float, params, parse_dates, columns, chunksize)\u001b[0m\n\u001b[0;32m    508\u001b[0m         )\n\u001b[0;32m    509\u001b[0m     \u001b[1;32melse\u001b[0m\u001b[1;33m:\u001b[0m\u001b[1;33m\u001b[0m\u001b[1;33m\u001b[0m\u001b[0m\n\u001b[1;32m--> 510\u001b[1;33m         return pandas_sql.read_query(\n\u001b[0m\u001b[0;32m    511\u001b[0m             \u001b[0msql\u001b[0m\u001b[1;33m,\u001b[0m\u001b[1;33m\u001b[0m\u001b[1;33m\u001b[0m\u001b[0m\n\u001b[0;32m    512\u001b[0m             \u001b[0mindex_col\u001b[0m\u001b[1;33m=\u001b[0m\u001b[0mindex_col\u001b[0m\u001b[1;33m,\u001b[0m\u001b[1;33m\u001b[0m\u001b[1;33m\u001b[0m\u001b[0m\n",
      "\u001b[1;32m~\\anaconda3\\lib\\site-packages\\pandas\\io\\sql.py\u001b[0m in \u001b[0;36mread_query\u001b[1;34m(self, sql, index_col, coerce_float, parse_dates, params, chunksize)\u001b[0m\n\u001b[0;32m   1293\u001b[0m \u001b[1;33m\u001b[0m\u001b[0m\n\u001b[0;32m   1294\u001b[0m         \u001b[0mresult\u001b[0m \u001b[1;33m=\u001b[0m \u001b[0mself\u001b[0m\u001b[1;33m.\u001b[0m\u001b[0mexecute\u001b[0m\u001b[1;33m(\u001b[0m\u001b[1;33m*\u001b[0m\u001b[0margs\u001b[0m\u001b[1;33m)\u001b[0m\u001b[1;33m\u001b[0m\u001b[1;33m\u001b[0m\u001b[0m\n\u001b[1;32m-> 1295\u001b[1;33m         \u001b[0mcolumns\u001b[0m \u001b[1;33m=\u001b[0m \u001b[0mresult\u001b[0m\u001b[1;33m.\u001b[0m\u001b[0mkeys\u001b[0m\u001b[1;33m(\u001b[0m\u001b[1;33m)\u001b[0m\u001b[1;33m\u001b[0m\u001b[1;33m\u001b[0m\u001b[0m\n\u001b[0m\u001b[0;32m   1296\u001b[0m \u001b[1;33m\u001b[0m\u001b[0m\n\u001b[0;32m   1297\u001b[0m         \u001b[1;32mif\u001b[0m \u001b[0mchunksize\u001b[0m \u001b[1;32mis\u001b[0m \u001b[1;32mnot\u001b[0m \u001b[1;32mNone\u001b[0m\u001b[1;33m:\u001b[0m\u001b[1;33m\u001b[0m\u001b[1;33m\u001b[0m\u001b[0m\n",
      "\u001b[1;32m~\\anaconda3\\lib\\site-packages\\sqlalchemy\\engine\\result.py\u001b[0m in \u001b[0;36mkeys\u001b[1;34m(self)\u001b[0m\n\u001b[0;32m    698\u001b[0m \u001b[1;33m\u001b[0m\u001b[0m\n\u001b[0;32m    699\u001b[0m         \"\"\"\n\u001b[1;32m--> 700\u001b[1;33m         \u001b[1;32mreturn\u001b[0m \u001b[0mself\u001b[0m\u001b[1;33m.\u001b[0m\u001b[0m_metadata\u001b[0m\u001b[1;33m.\u001b[0m\u001b[0mkeys\u001b[0m\u001b[1;33m\u001b[0m\u001b[1;33m\u001b[0m\u001b[0m\n\u001b[0m\u001b[0;32m    701\u001b[0m \u001b[1;33m\u001b[0m\u001b[0m\n\u001b[0;32m    702\u001b[0m \u001b[1;33m\u001b[0m\u001b[0m\n",
      "\u001b[1;32m~\\anaconda3\\lib\\site-packages\\sqlalchemy\\engine\\cursor.py\u001b[0m in \u001b[0;36mkeys\u001b[1;34m(self)\u001b[0m\n\u001b[0;32m   1199\u001b[0m     \u001b[1;33m@\u001b[0m\u001b[0mproperty\u001b[0m\u001b[1;33m\u001b[0m\u001b[1;33m\u001b[0m\u001b[0m\n\u001b[0;32m   1200\u001b[0m     \u001b[1;32mdef\u001b[0m \u001b[0mkeys\u001b[0m\u001b[1;33m(\u001b[0m\u001b[0mself\u001b[0m\u001b[1;33m)\u001b[0m\u001b[1;33m:\u001b[0m\u001b[1;33m\u001b[0m\u001b[1;33m\u001b[0m\u001b[0m\n\u001b[1;32m-> 1201\u001b[1;33m         \u001b[0mself\u001b[0m\u001b[1;33m.\u001b[0m\u001b[0m_we_dont_return_rows\u001b[0m\u001b[1;33m(\u001b[0m\u001b[1;33m)\u001b[0m\u001b[1;33m\u001b[0m\u001b[1;33m\u001b[0m\u001b[0m\n\u001b[0m\u001b[0;32m   1202\u001b[0m \u001b[1;33m\u001b[0m\u001b[0m\n\u001b[0;32m   1203\u001b[0m \u001b[1;33m\u001b[0m\u001b[0m\n",
      "\u001b[1;32m~\\anaconda3\\lib\\site-packages\\sqlalchemy\\engine\\cursor.py\u001b[0m in \u001b[0;36m_we_dont_return_rows\u001b[1;34m(self, err)\u001b[0m\n\u001b[0;32m   1176\u001b[0m \u001b[1;33m\u001b[0m\u001b[0m\n\u001b[0;32m   1177\u001b[0m     \u001b[1;32mdef\u001b[0m \u001b[0m_we_dont_return_rows\u001b[0m\u001b[1;33m(\u001b[0m\u001b[0mself\u001b[0m\u001b[1;33m,\u001b[0m \u001b[0merr\u001b[0m\u001b[1;33m=\u001b[0m\u001b[1;32mNone\u001b[0m\u001b[1;33m)\u001b[0m\u001b[1;33m:\u001b[0m\u001b[1;33m\u001b[0m\u001b[1;33m\u001b[0m\u001b[0m\n\u001b[1;32m-> 1178\u001b[1;33m         util.raise_(\n\u001b[0m\u001b[0;32m   1179\u001b[0m             exc.ResourceClosedError(\n\u001b[0;32m   1180\u001b[0m                 \u001b[1;34m\"This result object does not return rows. \"\u001b[0m\u001b[1;33m\u001b[0m\u001b[1;33m\u001b[0m\u001b[0m\n",
      "\u001b[1;32m~\\anaconda3\\lib\\site-packages\\sqlalchemy\\util\\compat.py\u001b[0m in \u001b[0;36mraise_\u001b[1;34m(***failed resolving arguments***)\u001b[0m\n\u001b[0;32m    209\u001b[0m \u001b[1;33m\u001b[0m\u001b[0m\n\u001b[0;32m    210\u001b[0m         \u001b[1;32mtry\u001b[0m\u001b[1;33m:\u001b[0m\u001b[1;33m\u001b[0m\u001b[1;33m\u001b[0m\u001b[0m\n\u001b[1;32m--> 211\u001b[1;33m             \u001b[1;32mraise\u001b[0m \u001b[0mexception\u001b[0m\u001b[1;33m\u001b[0m\u001b[1;33m\u001b[0m\u001b[0m\n\u001b[0m\u001b[0;32m    212\u001b[0m         \u001b[1;32mfinally\u001b[0m\u001b[1;33m:\u001b[0m\u001b[1;33m\u001b[0m\u001b[1;33m\u001b[0m\u001b[0m\n\u001b[0;32m    213\u001b[0m             \u001b[1;31m# credit to\u001b[0m\u001b[1;33m\u001b[0m\u001b[1;33m\u001b[0m\u001b[1;33m\u001b[0m\u001b[0m\n",
      "\u001b[1;31mResourceClosedError\u001b[0m: This result object does not return rows. It has been closed automatically."
     ]
    }
   ],
   "source": [
    "# Insert values from the previous Challenge final query\n",
    "query5 ='''\n",
    "INSERT INTO most_profiting_authors\n",
    "with profit_authors as\n",
    "(SELECT a.au_id as AUTHOR_ID, a.au_lname as LAST_NAME, a.au_fname as FIRST_NAME, t.title as TITLE, t.advance * ta.royaltyper / 100\n",
    "as TOTAL_ADV, sum(t.price * s.qty * ta.royaltyper / 100 * t.royalty / 100) as TOTAL_ROY\n",
    "FROM sales s INNER JOIN titles t on t.title_id = s.title_id INNER JOIN titleauthor ta on t.title_id = ta.title_id\n",
    "INNER JOIN authors a on a.au_id = ta.au_id\n",
    "GROUP BY AUTHOR_ID, LAST_NAME,FIRST_NAME, TITLE, TOTAL_ADV\n",
    "ORDER BY t.title)\n",
    "SELECT AUTHOR_ID, ROUND(SUM(TOTAL_ADV + TOTAL_ROY),1) as BENEFIT\n",
    "FROM profit_authors\n",
    "GROUP BY AUTHOR_ID\n",
    "ORDER BY BENEFIT DESC\n",
    "LIMIT 3\n",
    "'''\n",
    "pd.read_sql(query5, db_url)"
   ]
  },
  {
   "cell_type": "code",
   "execution_count": 22,
   "metadata": {},
   "outputs": [
    {
     "output_type": "execute_result",
     "data": {
      "text/plain": [
       "         au_id  profits\n",
       "0  213-46-8915  12162.1\n",
       "1  722-51-5454  11271.5\n",
       "2  998-72-3567   7225.0"
      ],
      "text/html": "<div>\n<style scoped>\n    .dataframe tbody tr th:only-of-type {\n        vertical-align: middle;\n    }\n\n    .dataframe tbody tr th {\n        vertical-align: top;\n    }\n\n    .dataframe thead th {\n        text-align: right;\n    }\n</style>\n<table border=\"1\" class=\"dataframe\">\n  <thead>\n    <tr style=\"text-align: right;\">\n      <th></th>\n      <th>au_id</th>\n      <th>profits</th>\n    </tr>\n  </thead>\n  <tbody>\n    <tr>\n      <th>0</th>\n      <td>213-46-8915</td>\n      <td>12162.1</td>\n    </tr>\n    <tr>\n      <th>1</th>\n      <td>722-51-5454</td>\n      <td>11271.5</td>\n    </tr>\n    <tr>\n      <th>2</th>\n      <td>998-72-3567</td>\n      <td>7225.0</td>\n    </tr>\n  </tbody>\n</table>\n</div>"
     },
     "metadata": {},
     "execution_count": 22
    }
   ],
   "source": [
    "# Check if the table has been created and its content\n",
    "query6 = '''\n",
    "SELECT *\n",
    "FROM most_profiting_authors\n",
    "'''\n",
    "pd.read_sql(query6, db_url)"
   ]
  }
 ]
}