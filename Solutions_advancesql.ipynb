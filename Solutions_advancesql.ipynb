{
 "cells": [
  {
   "cell_type": "markdown",
   "metadata": {},
   "source": [
    "![IronHack Logo](https://s3-eu-west-1.amazonaws.com/ih-materials/uploads/upload_d5c5793015fec3be28a63c4fa3dd4d55.png)\n",
    "\n",
    "# Lab | Advanced SQL\n",
    "\n",
    "## Introduction\n",
    "\n",
    "In this lab you will practice SQL Subqueries and Action Queries. We will again use the publications database, used in the past lab.\n",
    "\n",
    "Create a `solutions.ipynb` file in the `your-code` directory to record your solutions to all challenges.\n"
   ]
  },
  {
   "cell_type": "markdown",
   "metadata": {},
   "source": [
    "## Challenge 1 - Most Profiting Authors\n",
    "\n",
    "In this challenge let's have a close look at the bonus challenge of the previous *SQL SELECT* lab -- **who are the top 3 most profiting authors**? Even if you have solved or think you have solved that problem in the previous lab, please still complete this challenge because the step-by-step guidances are helpful to train your problem-solving thinking.\n",
    "\n",
    "In order to solve this problem, it is important for you to keep the following points in mind:\n",
    "\n",
    "* In table `sales`, a title can appear several times. The royalties need to be calculated for each sale.\n",
    "\n",
    "* Despite a title can have multiple `sales` records, the advance must be calculated only once for each title.\n",
    "\n",
    "* In your eventual solution, you need to sum up the following profits for each individual author:\n",
    "    * All advances which is calculated exactly once for each title.\n",
    "    * All royalties in each sale.\n",
    "\n",
    "Therefore, you will not be able to achieve the goal with a single SELECT query. Instead, you will need to follow several steps in order to achieve the eventual solution. Below is an overview of the steps:\n",
    "\n",
    "1. Calculate the royalty of each sale for each author.\n",
    "\n",
    "1. Using the output from Step 1 as a sub-table, aggregate the total royalties for each title for each author.\n",
    "\n",
    "1. Using the output from Step 2 as a sub-table, calculate the total profits of each author by aggregating the advances and total royalties of each title.\n",
    "\n",
    "Below we'll guide you through each step. In your `solutions.ipynb`, please include the SELECT queries of each step so that your TA can review your problem-solving process.\n"
   ]
  },
  {
   "cell_type": "code",
   "execution_count": 20,
   "metadata": {},
   "outputs": [
    {
     "name": "stdout",
     "output_type": "stream",
     "text": [
      "The sql extension is already loaded. To reload it, use:\n",
      "  %reload_ext sql\n"
     ]
    },
    {
     "data": {
      "text/plain": [
       "'Connected: @publications.db'"
      ]
     },
     "execution_count": 20,
     "metadata": {},
     "output_type": "execute_result"
    }
   ],
   "source": [
    "%load_ext sql\n",
    "%sql sqlite:///publications.db"
   ]
  },
  {
   "cell_type": "markdown",
   "metadata": {},
   "source": [
    "### Step 1: Calculate the royalties of each sales for each author\n",
    "\n",
    "Write a SELECT query to obtain the following output:\n",
    "\n",
    "* Title ID\n",
    "* Author ID\n",
    "* Royalty of each sale for each author\n",
    "    * The formula is:\n",
    "        ```\n",
    "        sales_royalty = titles.price * sales.qty * titles.royalty / 100 * titleauthor.royaltyper / 100\n",
    "        ```\n",
    "    * Note that `titles.royalty` and `titleauthor.royaltyper` are divided by 100 respectively because they are percentage numbers instead of floats.\n",
    "\n",
    "In the output of this step, each title may appear more than once for each author. This is because a title can have more than one sales.\n"
   ]
  },
  {
   "cell_type": "code",
   "execution_count": 29,
   "metadata": {},
   "outputs": [
    {
     "name": "stdout",
     "output_type": "stream",
     "text": [
      " * sqlite:///publications.db\n",
      "Done.\n"
     ]
    },
    {
     "data": {
      "text/html": [
       "<table>\n",
       "    <thead>\n",
       "        <tr>\n",
       "            <th>Title_ID</th>\n",
       "            <th>Author_ID</th>\n",
       "            <th>Royalty_Author</th>\n",
       "        </tr>\n",
       "    </thead>\n",
       "    <tbody>\n",
       "        <tr>\n",
       "            <td>PS3333</td>\n",
       "            <td>172-32-1176</td>\n",
       "            <td>30.0</td>\n",
       "        </tr>\n",
       "        <tr>\n",
       "            <td>BU1032</td>\n",
       "            <td>213-46-8915</td>\n",
       "            <td>4.0</td>\n",
       "        </tr>\n",
       "        <tr>\n",
       "            <td>BU1032</td>\n",
       "            <td>213-46-8915</td>\n",
       "            <td>8.0</td>\n",
       "        </tr>\n",
       "        <tr>\n",
       "            <td>BU2075</td>\n",
       "            <td>213-46-8915</td>\n",
       "            <td>25.0</td>\n",
       "        </tr>\n",
       "        <tr>\n",
       "            <td>PC1035</td>\n",
       "            <td>238-95-7766</td>\n",
       "            <td>110.0</td>\n",
       "        </tr>\n",
       "        <tr>\n",
       "            <td>BU1111</td>\n",
       "            <td>267-41-2394</td>\n",
       "            <td>12.0</td>\n",
       "        </tr>\n",
       "        <tr>\n",
       "            <td>TC7777</td>\n",
       "            <td>267-41-2394</td>\n",
       "            <td>9.0</td>\n",
       "        </tr>\n",
       "        <tr>\n",
       "            <td>BU7832</td>\n",
       "            <td>274-80-9391</td>\n",
       "            <td>30.0</td>\n",
       "        </tr>\n",
       "        <tr>\n",
       "            <td>BU1032</td>\n",
       "            <td>409-56-7008</td>\n",
       "            <td>6.0</td>\n",
       "        </tr>\n",
       "        <tr>\n",
       "            <td>BU1032</td>\n",
       "            <td>409-56-7008</td>\n",
       "            <td>12.0</td>\n",
       "        </tr>\n",
       "        <tr>\n",
       "            <td>PC8888</td>\n",
       "            <td>427-17-2319</td>\n",
       "            <td>50.0</td>\n",
       "        </tr>\n",
       "        <tr>\n",
       "            <td>TC7777</td>\n",
       "            <td>472-27-2349</td>\n",
       "            <td>9.0</td>\n",
       "        </tr>\n",
       "        <tr>\n",
       "            <td>PS7777</td>\n",
       "            <td>486-29-1786</td>\n",
       "            <td>20.0</td>\n",
       "        </tr>\n",
       "        <tr>\n",
       "            <td>TC4203</td>\n",
       "            <td>648-92-1872</td>\n",
       "            <td>33.0</td>\n",
       "        </tr>\n",
       "        <tr>\n",
       "            <td>TC7777</td>\n",
       "            <td>672-71-3249</td>\n",
       "            <td>12.0</td>\n",
       "        </tr>\n",
       "        <tr>\n",
       "            <td>MC2222</td>\n",
       "            <td>712-45-1867</td>\n",
       "            <td>24.0</td>\n",
       "        </tr>\n",
       "        <tr>\n",
       "            <td>MC3021</td>\n",
       "            <td>722-51-5454</td>\n",
       "            <td>13.0</td>\n",
       "        </tr>\n",
       "        <tr>\n",
       "            <td>MC3021</td>\n",
       "            <td>722-51-5454</td>\n",
       "            <td>8.0</td>\n",
       "        </tr>\n",
       "        <tr>\n",
       "            <td>BU1111</td>\n",
       "            <td>724-80-9391</td>\n",
       "            <td>18.0</td>\n",
       "        </tr>\n",
       "        <tr>\n",
       "            <td>PS1372</td>\n",
       "            <td>724-80-9391</td>\n",
       "            <td>11.0</td>\n",
       "        </tr>\n",
       "        <tr>\n",
       "            <td>PS1372</td>\n",
       "            <td>756-30-7391</td>\n",
       "            <td>32.0</td>\n",
       "        </tr>\n",
       "        <tr>\n",
       "            <td>TC3218</td>\n",
       "            <td>807-91-6654</td>\n",
       "            <td>84.0</td>\n",
       "        </tr>\n",
       "        <tr>\n",
       "            <td>PC8888</td>\n",
       "            <td>846-92-7186</td>\n",
       "            <td>50.0</td>\n",
       "        </tr>\n",
       "        <tr>\n",
       "            <td>MC3021</td>\n",
       "            <td>899-46-2035</td>\n",
       "            <td>4.0</td>\n",
       "        </tr>\n",
       "        <tr>\n",
       "            <td>MC3021</td>\n",
       "            <td>899-46-2035</td>\n",
       "            <td>3.0</td>\n",
       "        </tr>\n",
       "        <tr>\n",
       "            <td>PS2091</td>\n",
       "            <td>899-46-2035</td>\n",
       "            <td>2.0</td>\n",
       "        </tr>\n",
       "        <tr>\n",
       "            <td>PS2091</td>\n",
       "            <td>899-46-2035</td>\n",
       "            <td>49.0</td>\n",
       "        </tr>\n",
       "        <tr>\n",
       "            <td>PS2091</td>\n",
       "            <td>899-46-2035</td>\n",
       "            <td>7.0</td>\n",
       "        </tr>\n",
       "        <tr>\n",
       "            <td>PS2091</td>\n",
       "            <td>899-46-2035</td>\n",
       "            <td>13.0</td>\n",
       "        </tr>\n",
       "        <tr>\n",
       "            <td>PS2091</td>\n",
       "            <td>998-72-3567</td>\n",
       "            <td>2.0</td>\n",
       "        </tr>\n",
       "        <tr>\n",
       "            <td>PS2091</td>\n",
       "            <td>998-72-3567</td>\n",
       "            <td>49.0</td>\n",
       "        </tr>\n",
       "        <tr>\n",
       "            <td>PS2091</td>\n",
       "            <td>998-72-3567</td>\n",
       "            <td>7.0</td>\n",
       "        </tr>\n",
       "        <tr>\n",
       "            <td>PS2091</td>\n",
       "            <td>998-72-3567</td>\n",
       "            <td>13.0</td>\n",
       "        </tr>\n",
       "        <tr>\n",
       "            <td>PS2106</td>\n",
       "            <td>998-72-3567</td>\n",
       "            <td>17.0</td>\n",
       "        </tr>\n",
       "    </tbody>\n",
       "</table>"
      ],
      "text/plain": [
       "[('PS3333', '172-32-1176', 30.0),\n",
       " ('BU1032', '213-46-8915', 4.0),\n",
       " ('BU1032', '213-46-8915', 8.0),\n",
       " ('BU2075', '213-46-8915', 25.0),\n",
       " ('PC1035', '238-95-7766', 110.0),\n",
       " ('BU1111', '267-41-2394', 12.0),\n",
       " ('TC7777', '267-41-2394', 9.0),\n",
       " ('BU7832', '274-80-9391', 30.0),\n",
       " ('BU1032', '409-56-7008', 6.0),\n",
       " ('BU1032', '409-56-7008', 12.0),\n",
       " ('PC8888', '427-17-2319', 50.0),\n",
       " ('TC7777', '472-27-2349', 9.0),\n",
       " ('PS7777', '486-29-1786', 20.0),\n",
       " ('TC4203', '648-92-1872', 33.0),\n",
       " ('TC7777', '672-71-3249', 12.0),\n",
       " ('MC2222', '712-45-1867', 24.0),\n",
       " ('MC3021', '722-51-5454', 13.0),\n",
       " ('MC3021', '722-51-5454', 8.0),\n",
       " ('BU1111', '724-80-9391', 18.0),\n",
       " ('PS1372', '724-80-9391', 11.0),\n",
       " ('PS1372', '756-30-7391', 32.0),\n",
       " ('TC3218', '807-91-6654', 84.0),\n",
       " ('PC8888', '846-92-7186', 50.0),\n",
       " ('MC3021', '899-46-2035', 4.0),\n",
       " ('MC3021', '899-46-2035', 3.0),\n",
       " ('PS2091', '899-46-2035', 2.0),\n",
       " ('PS2091', '899-46-2035', 49.0),\n",
       " ('PS2091', '899-46-2035', 7.0),\n",
       " ('PS2091', '899-46-2035', 13.0),\n",
       " ('PS2091', '998-72-3567', 2.0),\n",
       " ('PS2091', '998-72-3567', 49.0),\n",
       " ('PS2091', '998-72-3567', 7.0),\n",
       " ('PS2091', '998-72-3567', 13.0),\n",
       " ('PS2106', '998-72-3567', 17.0)]"
      ]
     },
     "execution_count": 29,
     "metadata": {},
     "output_type": "execute_result"
    }
   ],
   "source": [
    "%%sql\n",
    "select ta.title_id as Title_ID,a.au_id as Author_ID,round(t.price*s.qty*t.royalty/100*ta.royaltyper/100) as Royalty_Author\n",
    "from titleauthor ta\n",
    "inner join Authors a on ta.au_id=a.au_id\n",
    "inner join titles t on ta.title_id=t.title_id\n",
    "inner join sales s on ta.title_id=s.title_id\n"
   ]
  },
  {
   "cell_type": "markdown",
   "metadata": {},
   "source": [
    "### Step 2: Aggregate the total royalties for each title for each author\n",
    "\n",
    "Using the output from Step 1, write a query to obtain the following output:\n",
    "\n",
    "* Title ID\n",
    "* Author ID\n",
    "* Aggregated royalties of each title for each author\n",
    "    * Hint: use the *SUM* subquery and group by both `au_id` and `title_id`\n",
    "\n",
    "In the output of this step, each title should appear only once for each author."
   ]
  },
  {
   "cell_type": "code",
   "execution_count": 36,
   "metadata": {},
   "outputs": [
    {
     "name": "stdout",
     "output_type": "stream",
     "text": [
      " * sqlite:///publications.db\n",
      "Done.\n"
     ]
    },
    {
     "data": {
      "text/html": [
       "<table>\n",
       "    <thead>\n",
       "        <tr>\n",
       "            <th>Title_ID</th>\n",
       "            <th>Author_ID</th>\n",
       "            <th>Royalty_Author</th>\n",
       "        </tr>\n",
       "    </thead>\n",
       "    <tbody>\n",
       "        <tr>\n",
       "            <td>PC1035</td>\n",
       "            <td>238-95-7766</td>\n",
       "            <td>110.0</td>\n",
       "        </tr>\n",
       "        <tr>\n",
       "            <td>TC3218</td>\n",
       "            <td>807-91-6654</td>\n",
       "            <td>84.0</td>\n",
       "        </tr>\n",
       "        <tr>\n",
       "            <td>PS2091</td>\n",
       "            <td>899-46-2035</td>\n",
       "            <td>71.0</td>\n",
       "        </tr>\n",
       "        <tr>\n",
       "            <td>PS2091</td>\n",
       "            <td>998-72-3567</td>\n",
       "            <td>71.0</td>\n",
       "        </tr>\n",
       "        <tr>\n",
       "            <td>PC8888</td>\n",
       "            <td>427-17-2319</td>\n",
       "            <td>50.0</td>\n",
       "        </tr>\n",
       "    </tbody>\n",
       "</table>"
      ],
      "text/plain": [
       "[('PC1035', '238-95-7766', 110.0),\n",
       " ('TC3218', '807-91-6654', 84.0),\n",
       " ('PS2091', '899-46-2035', 71.0),\n",
       " ('PS2091', '998-72-3567', 71.0),\n",
       " ('PC8888', '427-17-2319', 50.0)]"
      ]
     },
     "execution_count": 36,
     "metadata": {},
     "output_type": "execute_result"
    }
   ],
   "source": [
    "%%sql\n",
    "select ta.title_id as Title_ID,a.au_id as Author_ID,round(sum(t.price*s.qty*t.royalty/100*ta.royaltyper/100)) as Royalty_Author\n",
    "from titleauthor ta\n",
    "inner join Authors a on ta.au_id=a.au_id\n",
    "inner join titles t on ta.title_id=t.title_id\n",
    "inner join sales s on ta.title_id=s.title_id\n",
    "group by a.au_id,ta.title_id\n",
    "order by Royalty_Author desc\n",
    "limit 5"
   ]
  },
  {
   "cell_type": "markdown",
   "metadata": {},
   "source": [
    "### Step 3: Calculate the total profits of each author\n",
    "\n",
    "Now that each title has exactly one row for each author where the advance and royalties are available, we are ready to obtain the eventual output. Using the output from Step 2, write a query to obtain the following output:\n",
    "\n",
    "* Author ID\n",
    "* Profits of each author by aggregating the advance and total royalties of each title\n",
    "\n",
    "Sort the output based on a total profits from high to low, and limit the number of rows to 3.\n"
   ]
  },
  {
   "cell_type": "code",
   "execution_count": 41,
   "metadata": {},
   "outputs": [
    {
     "name": "stdout",
     "output_type": "stream",
     "text": [
      " * sqlite:///publications.db\n",
      "Done.\n"
     ]
    },
    {
     "data": {
      "text/html": [
       "<table>\n",
       "    <thead>\n",
       "        <tr>\n",
       "            <th>Author_ID</th>\n",
       "            <th>Total_Profit</th>\n",
       "        </tr>\n",
       "    </thead>\n",
       "    <tbody>\n",
       "        <tr>\n",
       "            <td>722-51-5454</td>\n",
       "            <td>15022.0</td>\n",
       "        </tr>\n",
       "        <tr>\n",
       "            <td>899-46-2035</td>\n",
       "            <td>15007.0</td>\n",
       "        </tr>\n",
       "        <tr>\n",
       "            <td>213-46-8915</td>\n",
       "            <td>10150.0</td>\n",
       "        </tr>\n",
       "    </tbody>\n",
       "</table>"
      ],
      "text/plain": [
       "[('722-51-5454', 15022.0), ('899-46-2035', 15007.0), ('213-46-8915', 10150.0)]"
      ]
     },
     "execution_count": 41,
     "metadata": {},
     "output_type": "execute_result"
    }
   ],
   "source": [
    "%%sql\n",
    "select a.au_id as Author_ID,round(sum(t.price*s.qty*t.royalty/100*ta.royaltyper/100)+t.advance) as Total_Profit\n",
    "from titleauthor ta\n",
    "inner join Authors a on ta.au_id=a.au_id\n",
    "inner join titles t on ta.title_id=t.title_id\n",
    "inner join sales s on ta.title_id=s.title_id\n",
    "group by a.au_id,ta.title_id\n",
    "order by Total_Profit desc\n",
    "limit 3"
   ]
  },
  {
   "cell_type": "markdown",
   "metadata": {},
   "source": [
    "## Challenge 2\n",
    "\n",
    "Elevating from your solution in Challenge 1 , create a table named `most_profiting_authors` to hold the data about the most profiting authors. The table should have 2 columns:\n",
    "\n",
    "* `au_id` - Author ID\n",
    "* `profits` - The profits of the author aggregating the advances and royalties\n",
    "\n",
    "Include your solution in `solutions.ipynb`."
   ]
  },
  {
   "cell_type": "code",
   "execution_count": 43,
   "metadata": {},
   "outputs": [
    {
     "name": "stdout",
     "output_type": "stream",
     "text": [
      " * sqlite:///publications.db\n",
      "Done.\n"
     ]
    },
    {
     "data": {
      "text/plain": [
       "[]"
      ]
     },
     "execution_count": 43,
     "metadata": {},
     "output_type": "execute_result"
    }
   ],
   "source": [
    "%%sql\n",
    "create table Most_Profiting_Authors as\n",
    "select a.au_id as Author_ID,round(sum(t.price*s.qty*t.royalty/100*ta.royaltyper/100)+t.advance) as Total_Profit\n",
    "from titleauthor ta\n",
    "inner join Authors a on ta.au_id=a.au_id\n",
    "inner join titles t on ta.title_id=t.title_id\n",
    "inner join sales s on ta.title_id=s.title_id\n",
    "group by a.au_id,ta.title_id\n",
    "order by Total_Profit desc\n",
    "limit 3"
   ]
  },
  {
   "cell_type": "code",
   "execution_count": 44,
   "metadata": {},
   "outputs": [
    {
     "name": "stdout",
     "output_type": "stream",
     "text": [
      " * sqlite:///publications.db\n",
      "Done.\n"
     ]
    },
    {
     "data": {
      "text/html": [
       "<table>\n",
       "    <thead>\n",
       "        <tr>\n",
       "            <th>Author_ID</th>\n",
       "            <th>Total_Profit</th>\n",
       "        </tr>\n",
       "    </thead>\n",
       "    <tbody>\n",
       "        <tr>\n",
       "            <td>722-51-5454</td>\n",
       "            <td>15022.0</td>\n",
       "        </tr>\n",
       "        <tr>\n",
       "            <td>899-46-2035</td>\n",
       "            <td>15007.0</td>\n",
       "        </tr>\n",
       "        <tr>\n",
       "            <td>213-46-8915</td>\n",
       "            <td>10150.0</td>\n",
       "        </tr>\n",
       "    </tbody>\n",
       "</table>"
      ],
      "text/plain": [
       "[('722-51-5454', 15022.0), ('899-46-2035', 15007.0), ('213-46-8915', 10150.0)]"
      ]
     },
     "execution_count": 44,
     "metadata": {},
     "output_type": "execute_result"
    }
   ],
   "source": [
    "%%sql\n",
    "select *\n",
    "from Most_Profiting_Authors\n",
    "limit 3"
   ]
  }
 ],
 "metadata": {
  "kernelspec": {
   "display_name": "Python 3",
   "language": "python",
   "name": "python3"
  },
  "language_info": {
   "codemirror_mode": {
    "name": "ipython",
    "version": 3
   },
   "file_extension": ".py",
   "mimetype": "text/x-python",
   "name": "python",
   "nbconvert_exporter": "python",
   "pygments_lexer": "ipython3",
   "version": "3.8.5"
  },
  "toc": {
   "base_numbering": 1,
   "nav_menu": {},
   "number_sections": true,
   "sideBar": true,
   "skip_h1_title": false,
   "title_cell": "Table of Contents",
   "title_sidebar": "Contents",
   "toc_cell": false,
   "toc_position": {},
   "toc_section_display": true,
   "toc_window_display": false
  },
  "varInspector": {
   "cols": {
    "lenName": 16,
    "lenType": 16,
    "lenVar": 40
   },
   "kernels_config": {
    "python": {
     "delete_cmd_postfix": "",
     "delete_cmd_prefix": "del ",
     "library": "var_list.py",
     "varRefreshCmd": "print(var_dic_list())"
    },
    "r": {
     "delete_cmd_postfix": ") ",
     "delete_cmd_prefix": "rm(",
     "library": "var_list.r",
     "varRefreshCmd": "cat(var_dic_list()) "
    }
   },
   "types_to_exclude": [
    "module",
    "function",
    "builtin_function_or_method",
    "instance",
    "_Feature"
   ],
   "window_display": false
  }
 },
 "nbformat": 4,
 "nbformat_minor": 4
}
