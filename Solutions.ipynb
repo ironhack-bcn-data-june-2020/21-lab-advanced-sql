{
 "cells": [
  {
   "cell_type": "code",
   "execution_count": 1,
   "metadata": {},
   "outputs": [],
   "source": [
    "%load_ext sql"
   ]
  },
  {
   "cell_type": "code",
   "execution_count": 2,
   "metadata": {},
   "outputs": [
    {
     "data": {
      "text/plain": [
       "'Connected: @publications.db'"
      ]
     },
     "execution_count": 2,
     "metadata": {},
     "output_type": "execute_result"
    }
   ],
   "source": [
    "%sql sqlite:///publications.db"
   ]
  },
  {
   "cell_type": "code",
   "execution_count": 3,
   "metadata": {},
   "outputs": [
    {
     "name": "stdout",
     "output_type": "stream",
     "text": [
      " * sqlite:///publications.db\n",
      "Done.\n"
     ]
    },
    {
     "data": {
      "text/html": [
       "<table>\n",
       "    <thead>\n",
       "        <tr>\n",
       "            <th>tbl_name</th>\n",
       "        </tr>\n",
       "    </thead>\n",
       "    <tbody>\n",
       "        <tr>\n",
       "            <td>authors</td>\n",
       "        </tr>\n",
       "        <tr>\n",
       "            <td>discounts</td>\n",
       "        </tr>\n",
       "        <tr>\n",
       "            <td>employee</td>\n",
       "        </tr>\n",
       "        <tr>\n",
       "            <td>jobs</td>\n",
       "        </tr>\n",
       "        <tr>\n",
       "            <td>pub_info</td>\n",
       "        </tr>\n",
       "        <tr>\n",
       "            <td>publishers</td>\n",
       "        </tr>\n",
       "        <tr>\n",
       "            <td>roysched</td>\n",
       "        </tr>\n",
       "        <tr>\n",
       "            <td>sales</td>\n",
       "        </tr>\n",
       "        <tr>\n",
       "            <td>stores</td>\n",
       "        </tr>\n",
       "        <tr>\n",
       "            <td>titleauthor</td>\n",
       "        </tr>\n",
       "        <tr>\n",
       "            <td>titles</td>\n",
       "        </tr>\n",
       "    </tbody>\n",
       "</table>"
      ],
      "text/plain": [
       "[('authors',),\n",
       " ('discounts',),\n",
       " ('employee',),\n",
       " ('jobs',),\n",
       " ('pub_info',),\n",
       " ('publishers',),\n",
       " ('roysched',),\n",
       " ('sales',),\n",
       " ('stores',),\n",
       " ('titleauthor',),\n",
       " ('titles',)]"
      ]
     },
     "execution_count": 3,
     "metadata": {},
     "output_type": "execute_result"
    }
   ],
   "source": [
    "%%sql\n",
    "\n",
    "select tbl_name\n",
    "from sqlite_master\n",
    "where type = \"table\""
   ]
  },
  {
   "cell_type": "markdown",
   "metadata": {},
   "source": [
    "### Challenge 1 - Most Profiting Authors"
   ]
  },
  {
   "cell_type": "raw",
   "metadata": {},
   "source": [
    "An advance is the money that the publisher pays the author before the book comes out. The royalties the author will receive is typically a percentage of the entire book sales. The total profit an author receives by publishing a book is the sum of the advance and the royalties.\n",
    "Given the information above, who are the 3 most profiting authors and how much royalties each of them have received? Write a query to find out.\n",
    "If a title has multiple authors, how they split the royalties can be found in the royaltyper column of the titleauthor table.\n",
    "We assume the coauthors will split the advance in the same way as the royalties."
   ]
  },
  {
   "cell_type": "markdown",
   "metadata": {},
   "source": [
    "#### Step 1: Calculate the royalties of each sales for each author"
   ]
  },
  {
   "cell_type": "code",
   "execution_count": 4,
   "metadata": {},
   "outputs": [
    {
     "name": "stdout",
     "output_type": "stream",
     "text": [
      " * sqlite:///publications.db\n",
      "Done.\n"
     ]
    },
    {
     "data": {
      "text/html": [
       "<table>\n",
       "    <thead>\n",
       "        <tr>\n",
       "            <th>TITLE_ID</th>\n",
       "            <th>AUTHOR_ID</th>\n",
       "            <th>SALES_ROYALTY</th>\n",
       "        </tr>\n",
       "    </thead>\n",
       "    <tbody>\n",
       "        <tr>\n",
       "            <td>PS3333</td>\n",
       "            <td>172-32-1176</td>\n",
       "            <td>29.99</td>\n",
       "        </tr>\n",
       "        <tr>\n",
       "            <td>BU1032</td>\n",
       "            <td>213-46-8915</td>\n",
       "            <td>4.0</td>\n",
       "        </tr>\n",
       "        <tr>\n",
       "            <td>BU1032</td>\n",
       "            <td>213-46-8915</td>\n",
       "            <td>8.0</td>\n",
       "        </tr>\n",
       "        <tr>\n",
       "            <td>BU2075</td>\n",
       "            <td>213-46-8915</td>\n",
       "            <td>25.12</td>\n",
       "        </tr>\n",
       "        <tr>\n",
       "            <td>PC1035</td>\n",
       "            <td>238-95-7766</td>\n",
       "            <td>110.16</td>\n",
       "        </tr>\n",
       "        <tr>\n",
       "            <td>BU1111</td>\n",
       "            <td>267-41-2394</td>\n",
       "            <td>11.95</td>\n",
       "        </tr>\n",
       "        <tr>\n",
       "            <td>TC7777</td>\n",
       "            <td>267-41-2394</td>\n",
       "            <td>8.99</td>\n",
       "        </tr>\n",
       "        <tr>\n",
       "            <td>BU7832</td>\n",
       "            <td>274-80-9391</td>\n",
       "            <td>29.99</td>\n",
       "        </tr>\n",
       "        <tr>\n",
       "            <td>BU1032</td>\n",
       "            <td>409-56-7008</td>\n",
       "            <td>6.0</td>\n",
       "        </tr>\n",
       "        <tr>\n",
       "            <td>BU1032</td>\n",
       "            <td>409-56-7008</td>\n",
       "            <td>11.99</td>\n",
       "        </tr>\n",
       "        <tr>\n",
       "            <td>PC8888</td>\n",
       "            <td>427-17-2319</td>\n",
       "            <td>50.0</td>\n",
       "        </tr>\n",
       "        <tr>\n",
       "            <td>TC7777</td>\n",
       "            <td>472-27-2349</td>\n",
       "            <td>8.99</td>\n",
       "        </tr>\n",
       "        <tr>\n",
       "            <td>PS7777</td>\n",
       "            <td>486-29-1786</td>\n",
       "            <td>19.98</td>\n",
       "        </tr>\n",
       "        <tr>\n",
       "            <td>TC4203</td>\n",
       "            <td>648-92-1872</td>\n",
       "            <td>33.46</td>\n",
       "        </tr>\n",
       "        <tr>\n",
       "            <td>TC7777</td>\n",
       "            <td>672-71-3249</td>\n",
       "            <td>11.99</td>\n",
       "        </tr>\n",
       "        <tr>\n",
       "            <td>MC2222</td>\n",
       "            <td>712-45-1867</td>\n",
       "            <td>23.99</td>\n",
       "        </tr>\n",
       "        <tr>\n",
       "            <td>MC3021</td>\n",
       "            <td>722-51-5454</td>\n",
       "            <td>13.46</td>\n",
       "        </tr>\n",
       "        <tr>\n",
       "            <td>MC3021</td>\n",
       "            <td>722-51-5454</td>\n",
       "            <td>8.07</td>\n",
       "        </tr>\n",
       "        <tr>\n",
       "            <td>BU1111</td>\n",
       "            <td>724-80-9391</td>\n",
       "            <td>17.93</td>\n",
       "        </tr>\n",
       "        <tr>\n",
       "            <td>PS1372</td>\n",
       "            <td>724-80-9391</td>\n",
       "            <td>10.8</td>\n",
       "        </tr>\n",
       "        <tr>\n",
       "            <td>PS1372</td>\n",
       "            <td>756-30-7391</td>\n",
       "            <td>32.39</td>\n",
       "        </tr>\n",
       "        <tr>\n",
       "            <td>TC3218</td>\n",
       "            <td>807-91-6654</td>\n",
       "            <td>83.8</td>\n",
       "        </tr>\n",
       "        <tr>\n",
       "            <td>PC8888</td>\n",
       "            <td>846-92-7186</td>\n",
       "            <td>50.0</td>\n",
       "        </tr>\n",
       "        <tr>\n",
       "            <td>MC3021</td>\n",
       "            <td>899-46-2035</td>\n",
       "            <td>4.49</td>\n",
       "        </tr>\n",
       "        <tr>\n",
       "            <td>MC3021</td>\n",
       "            <td>899-46-2035</td>\n",
       "            <td>2.69</td>\n",
       "        </tr>\n",
       "        <tr>\n",
       "            <td>PS2091</td>\n",
       "            <td>899-46-2035</td>\n",
       "            <td>1.97</td>\n",
       "        </tr>\n",
       "        <tr>\n",
       "            <td>PS2091</td>\n",
       "            <td>899-46-2035</td>\n",
       "            <td>49.28</td>\n",
       "        </tr>\n",
       "        <tr>\n",
       "            <td>PS2091</td>\n",
       "            <td>899-46-2035</td>\n",
       "            <td>6.57</td>\n",
       "        </tr>\n",
       "        <tr>\n",
       "            <td>PS2091</td>\n",
       "            <td>899-46-2035</td>\n",
       "            <td>13.14</td>\n",
       "        </tr>\n",
       "        <tr>\n",
       "            <td>PS2091</td>\n",
       "            <td>998-72-3567</td>\n",
       "            <td>1.97</td>\n",
       "        </tr>\n",
       "        <tr>\n",
       "            <td>PS2091</td>\n",
       "            <td>998-72-3567</td>\n",
       "            <td>49.28</td>\n",
       "        </tr>\n",
       "        <tr>\n",
       "            <td>PS2091</td>\n",
       "            <td>998-72-3567</td>\n",
       "            <td>6.57</td>\n",
       "        </tr>\n",
       "        <tr>\n",
       "            <td>PS2091</td>\n",
       "            <td>998-72-3567</td>\n",
       "            <td>13.14</td>\n",
       "        </tr>\n",
       "        <tr>\n",
       "            <td>PS2106</td>\n",
       "            <td>998-72-3567</td>\n",
       "            <td>17.0</td>\n",
       "        </tr>\n",
       "    </tbody>\n",
       "</table>"
      ],
      "text/plain": [
       "[('PS3333', '172-32-1176', 29.99),\n",
       " ('BU1032', '213-46-8915', 4.0),\n",
       " ('BU1032', '213-46-8915', 8.0),\n",
       " ('BU2075', '213-46-8915', 25.12),\n",
       " ('PC1035', '238-95-7766', 110.16),\n",
       " ('BU1111', '267-41-2394', 11.95),\n",
       " ('TC7777', '267-41-2394', 8.99),\n",
       " ('BU7832', '274-80-9391', 29.99),\n",
       " ('BU1032', '409-56-7008', 6.0),\n",
       " ('BU1032', '409-56-7008', 11.99),\n",
       " ('PC8888', '427-17-2319', 50.0),\n",
       " ('TC7777', '472-27-2349', 8.99),\n",
       " ('PS7777', '486-29-1786', 19.98),\n",
       " ('TC4203', '648-92-1872', 33.46),\n",
       " ('TC7777', '672-71-3249', 11.99),\n",
       " ('MC2222', '712-45-1867', 23.99),\n",
       " ('MC3021', '722-51-5454', 13.46),\n",
       " ('MC3021', '722-51-5454', 8.07),\n",
       " ('BU1111', '724-80-9391', 17.93),\n",
       " ('PS1372', '724-80-9391', 10.8),\n",
       " ('PS1372', '756-30-7391', 32.39),\n",
       " ('TC3218', '807-91-6654', 83.8),\n",
       " ('PC8888', '846-92-7186', 50.0),\n",
       " ('MC3021', '899-46-2035', 4.49),\n",
       " ('MC3021', '899-46-2035', 2.69),\n",
       " ('PS2091', '899-46-2035', 1.97),\n",
       " ('PS2091', '899-46-2035', 49.28),\n",
       " ('PS2091', '899-46-2035', 6.57),\n",
       " ('PS2091', '899-46-2035', 13.14),\n",
       " ('PS2091', '998-72-3567', 1.97),\n",
       " ('PS2091', '998-72-3567', 49.28),\n",
       " ('PS2091', '998-72-3567', 6.57),\n",
       " ('PS2091', '998-72-3567', 13.14),\n",
       " ('PS2106', '998-72-3567', 17.0)]"
      ]
     },
     "execution_count": 4,
     "metadata": {},
     "output_type": "execute_result"
    }
   ],
   "source": [
    "%%sql\n",
    "select t.title_id as TITLE_ID, a.au_id as AUTHOR_ID,round((t.price * s.qty * t.royalty/100 * ta.royaltyper/100),2) as SALES_ROYALTY  \n",
    "from authors a \n",
    "inner join titleauthor ta on a.au_id = ta.au_id\n",
    "inner join titles t on ta.title_id = t.title_id\n",
    "inner join sales s on t.title_id = s.title_id\n",
    "order by AUTHOR_ID"
   ]
  },
  {
   "cell_type": "markdown",
   "metadata": {},
   "source": [
    "### Aggregate the total royalties for each title for each author"
   ]
  },
  {
   "cell_type": "raw",
   "metadata": {},
   "source": [
    "Using the output from Step 1, write a query to obtain the following output:\n",
    "\n",
    "Title ID\n",
    "Author ID\n",
    "Aggregated royalties of each title for each author\n",
    "Hint: use the SUM subquery and group by both au_id and title_id\n",
    "In the output of this step, each title should appear only once for each author."
   ]
  },
  {
   "cell_type": "code",
   "execution_count": 5,
   "metadata": {},
   "outputs": [
    {
     "name": "stdout",
     "output_type": "stream",
     "text": [
      " * sqlite:///publications.db\n",
      "Done.\n"
     ]
    },
    {
     "data": {
      "text/html": [
       "<table>\n",
       "    <thead>\n",
       "        <tr>\n",
       "            <th>TITLE_ID</th>\n",
       "            <th>AUTHOR_ID</th>\n",
       "            <th>Aggregated_royalties</th>\n",
       "        </tr>\n",
       "    </thead>\n",
       "    <tbody>\n",
       "        <tr>\n",
       "            <td>PS3333</td>\n",
       "            <td>172-32-1176</td>\n",
       "            <td>29.99</td>\n",
       "        </tr>\n",
       "        <tr>\n",
       "            <td>BU1032</td>\n",
       "            <td>213-46-8915</td>\n",
       "            <td>11.99</td>\n",
       "        </tr>\n",
       "        <tr>\n",
       "            <td>BU2075</td>\n",
       "            <td>213-46-8915</td>\n",
       "            <td>25.12</td>\n",
       "        </tr>\n",
       "        <tr>\n",
       "            <td>PC1035</td>\n",
       "            <td>238-95-7766</td>\n",
       "            <td>110.16</td>\n",
       "        </tr>\n",
       "        <tr>\n",
       "            <td>BU1111</td>\n",
       "            <td>267-41-2394</td>\n",
       "            <td>11.95</td>\n",
       "        </tr>\n",
       "        <tr>\n",
       "            <td>TC7777</td>\n",
       "            <td>267-41-2394</td>\n",
       "            <td>8.99</td>\n",
       "        </tr>\n",
       "        <tr>\n",
       "            <td>BU7832</td>\n",
       "            <td>274-80-9391</td>\n",
       "            <td>29.99</td>\n",
       "        </tr>\n",
       "        <tr>\n",
       "            <td>BU1032</td>\n",
       "            <td>409-56-7008</td>\n",
       "            <td>17.99</td>\n",
       "        </tr>\n",
       "        <tr>\n",
       "            <td>PC8888</td>\n",
       "            <td>427-17-2319</td>\n",
       "            <td>50.0</td>\n",
       "        </tr>\n",
       "        <tr>\n",
       "            <td>TC7777</td>\n",
       "            <td>472-27-2349</td>\n",
       "            <td>8.99</td>\n",
       "        </tr>\n",
       "        <tr>\n",
       "            <td>PS7777</td>\n",
       "            <td>486-29-1786</td>\n",
       "            <td>19.98</td>\n",
       "        </tr>\n",
       "        <tr>\n",
       "            <td>TC4203</td>\n",
       "            <td>648-92-1872</td>\n",
       "            <td>33.46</td>\n",
       "        </tr>\n",
       "        <tr>\n",
       "            <td>TC7777</td>\n",
       "            <td>672-71-3249</td>\n",
       "            <td>11.99</td>\n",
       "        </tr>\n",
       "        <tr>\n",
       "            <td>MC2222</td>\n",
       "            <td>712-45-1867</td>\n",
       "            <td>23.99</td>\n",
       "        </tr>\n",
       "        <tr>\n",
       "            <td>MC3021</td>\n",
       "            <td>722-51-5454</td>\n",
       "            <td>21.53</td>\n",
       "        </tr>\n",
       "        <tr>\n",
       "            <td>BU1111</td>\n",
       "            <td>724-80-9391</td>\n",
       "            <td>17.93</td>\n",
       "        </tr>\n",
       "        <tr>\n",
       "            <td>PS1372</td>\n",
       "            <td>724-80-9391</td>\n",
       "            <td>10.8</td>\n",
       "        </tr>\n",
       "        <tr>\n",
       "            <td>PS1372</td>\n",
       "            <td>756-30-7391</td>\n",
       "            <td>32.39</td>\n",
       "        </tr>\n",
       "        <tr>\n",
       "            <td>TC3218</td>\n",
       "            <td>807-91-6654</td>\n",
       "            <td>83.8</td>\n",
       "        </tr>\n",
       "        <tr>\n",
       "            <td>PC8888</td>\n",
       "            <td>846-92-7186</td>\n",
       "            <td>50.0</td>\n",
       "        </tr>\n",
       "        <tr>\n",
       "            <td>MC3021</td>\n",
       "            <td>899-46-2035</td>\n",
       "            <td>7.18</td>\n",
       "        </tr>\n",
       "        <tr>\n",
       "            <td>PS2091</td>\n",
       "            <td>899-46-2035</td>\n",
       "            <td>70.96</td>\n",
       "        </tr>\n",
       "        <tr>\n",
       "            <td>PS2091</td>\n",
       "            <td>998-72-3567</td>\n",
       "            <td>70.96</td>\n",
       "        </tr>\n",
       "        <tr>\n",
       "            <td>PS2106</td>\n",
       "            <td>998-72-3567</td>\n",
       "            <td>17.0</td>\n",
       "        </tr>\n",
       "    </tbody>\n",
       "</table>"
      ],
      "text/plain": [
       "[('PS3333', '172-32-1176', 29.99),\n",
       " ('BU1032', '213-46-8915', 11.99),\n",
       " ('BU2075', '213-46-8915', 25.12),\n",
       " ('PC1035', '238-95-7766', 110.16),\n",
       " ('BU1111', '267-41-2394', 11.95),\n",
       " ('TC7777', '267-41-2394', 8.99),\n",
       " ('BU7832', '274-80-9391', 29.99),\n",
       " ('BU1032', '409-56-7008', 17.99),\n",
       " ('PC8888', '427-17-2319', 50.0),\n",
       " ('TC7777', '472-27-2349', 8.99),\n",
       " ('PS7777', '486-29-1786', 19.98),\n",
       " ('TC4203', '648-92-1872', 33.46),\n",
       " ('TC7777', '672-71-3249', 11.99),\n",
       " ('MC2222', '712-45-1867', 23.99),\n",
       " ('MC3021', '722-51-5454', 21.53),\n",
       " ('BU1111', '724-80-9391', 17.93),\n",
       " ('PS1372', '724-80-9391', 10.8),\n",
       " ('PS1372', '756-30-7391', 32.39),\n",
       " ('TC3218', '807-91-6654', 83.8),\n",
       " ('PC8888', '846-92-7186', 50.0),\n",
       " ('MC3021', '899-46-2035', 7.18),\n",
       " ('PS2091', '899-46-2035', 70.96),\n",
       " ('PS2091', '998-72-3567', 70.96),\n",
       " ('PS2106', '998-72-3567', 17.0)]"
      ]
     },
     "execution_count": 5,
     "metadata": {},
     "output_type": "execute_result"
    }
   ],
   "source": [
    "%%sql\n",
    "select t.title_id as TITLE_ID, a.au_id as AUTHOR_ID, round(sum(t.price * s.qty * t.royalty/100 * ta.royaltyper/100),2) as Aggregated_royalties  \n",
    "from authors a \n",
    "inner join titleauthor ta on a.au_id = ta.au_id\n",
    "inner join titles t on ta.title_id = t.title_id\n",
    "inner join sales s on t.title_id = s.title_id\n",
    "group by a.au_id, t.title_id"
   ]
  },
  {
   "cell_type": "markdown",
   "metadata": {},
   "source": [
    "### Step 3: Calculate the total profits of each author"
   ]
  },
  {
   "cell_type": "code",
   "execution_count": 12,
   "metadata": {},
   "outputs": [
    {
     "name": "stdout",
     "output_type": "stream",
     "text": [
      " * sqlite:///publications.db\n",
      "Done.\n"
     ]
    },
    {
     "data": {
      "text/html": [
       "<table>\n",
       "    <thead>\n",
       "        <tr>\n",
       "            <th>AUTHOR_ID</th>\n",
       "            <th>PROFITS</th>\n",
       "        </tr>\n",
       "    </thead>\n",
       "    <tbody>\n",
       "        <tr>\n",
       "            <td>899-46-2035</td>\n",
       "            <td>17353.14</td>\n",
       "        </tr>\n",
       "        <tr>\n",
       "            <td>213-46-8915</td>\n",
       "            <td>15162.11</td>\n",
       "        </tr>\n",
       "        <tr>\n",
       "            <td>722-51-5454</td>\n",
       "            <td>15021.53</td>\n",
       "        </tr>\n",
       "    </tbody>\n",
       "</table>"
      ],
      "text/plain": [
       "[('899-46-2035', 17353.14),\n",
       " ('213-46-8915', 15162.11),\n",
       " ('722-51-5454', 15021.53)]"
      ]
     },
     "execution_count": 12,
     "metadata": {},
     "output_type": "execute_result"
    }
   ],
   "source": [
    "%%sql\n",
    "with tabla as (select t.title_id as TITLE_ID, a.au_id as AUTHOR_ID, t.advance + round(sum(t.price * s.qty * t.royalty/100 * ta.royaltyper/100),2) as profits  \n",
    "from authors a \n",
    "inner join titleauthor ta on a.au_id = ta.au_id\n",
    "inner join titles t on ta.title_id = t.title_id\n",
    "inner join sales s on t.title_id = s.title_id\n",
    "group by a.au_id, t.title_id\n",
    "order by author_id)\n",
    "select AUTHOR_ID, round(sum(profits),2) as PROFITS\n",
    "from tabla\n",
    "group by AUTHOR_ID\n",
    "order by PROFITS desc\n",
    "limit 3"
   ]
  },
  {
   "cell_type": "markdown",
   "metadata": {},
   "source": [
    "### Challenge 2"
   ]
  },
  {
   "cell_type": "code",
   "execution_count": 9,
   "metadata": {},
   "outputs": [
    {
     "name": "stdout",
     "output_type": "stream",
     "text": [
      " * sqlite:///publications.db\n",
      "Done.\n"
     ]
    },
    {
     "data": {
      "text/plain": [
       "[]"
      ]
     },
     "execution_count": 9,
     "metadata": {},
     "output_type": "execute_result"
    }
   ],
   "source": [
    "%%sql\n",
    "create table most_profiting_authors as\n",
    "with tabla as (select t.title_id as TITLE_ID, a.au_id as AUTHOR_ID, t.advance + round(sum(t.price * s.qty * t.royalty/100 * ta.royaltyper/100),2) as profits  \n",
    "from authors a \n",
    "inner join titleauthor ta on a.au_id = ta.au_id\n",
    "inner join titles t on ta.title_id = t.title_id\n",
    "inner join sales s on t.title_id = s.title_id\n",
    "group by a.au_id, t.title_id\n",
    "order by author_id)\n",
    "select AUTHOR_ID, round(sum(profits),2) as PROFITS\n",
    "from tabla\n",
    "group by AUTHOR_ID\n",
    "order by PROFITS desc\n",
    "limit 3"
   ]
  },
  {
   "cell_type": "code",
   "execution_count": 10,
   "metadata": {},
   "outputs": [
    {
     "name": "stdout",
     "output_type": "stream",
     "text": [
      " * sqlite:///publications.db\n",
      "Done.\n"
     ]
    },
    {
     "data": {
      "text/html": [
       "<table>\n",
       "    <thead>\n",
       "        <tr>\n",
       "            <th>AUTHOR_ID</th>\n",
       "            <th>PROFITS</th>\n",
       "        </tr>\n",
       "    </thead>\n",
       "    <tbody>\n",
       "        <tr>\n",
       "            <td>899-46-2035</td>\n",
       "            <td>17353.14</td>\n",
       "        </tr>\n",
       "        <tr>\n",
       "            <td>213-46-8915</td>\n",
       "            <td>15162.11</td>\n",
       "        </tr>\n",
       "        <tr>\n",
       "            <td>722-51-5454</td>\n",
       "            <td>15021.53</td>\n",
       "        </tr>\n",
       "    </tbody>\n",
       "</table>"
      ],
      "text/plain": [
       "[('899-46-2035', 17353.14),\n",
       " ('213-46-8915', 15162.11),\n",
       " ('722-51-5454', 15021.53)]"
      ]
     },
     "execution_count": 10,
     "metadata": {},
     "output_type": "execute_result"
    }
   ],
   "source": [
    "%%sql\n",
    "select*\n",
    "from most_profiting_authors"
   ]
  }
 ],
 "metadata": {
  "kernelspec": {
   "display_name": "Python 3",
   "language": "python",
   "name": "python3"
  },
  "language_info": {
   "codemirror_mode": {
    "name": "ipython",
    "version": 3
   },
   "file_extension": ".py",
   "mimetype": "text/x-python",
   "name": "python",
   "nbconvert_exporter": "python",
   "pygments_lexer": "ipython3",
   "version": "3.8.5"
  },
  "toc": {
   "base_numbering": 1,
   "nav_menu": {},
   "number_sections": true,
   "sideBar": true,
   "skip_h1_title": false,
   "title_cell": "Table of Contents",
   "title_sidebar": "Contents",
   "toc_cell": false,
   "toc_position": {},
   "toc_section_display": true,
   "toc_window_display": false
  },
  "varInspector": {
   "cols": {
    "lenName": 16,
    "lenType": 16,
    "lenVar": 40
   },
   "kernels_config": {
    "python": {
     "delete_cmd_postfix": "",
     "delete_cmd_prefix": "del ",
     "library": "var_list.py",
     "varRefreshCmd": "print(var_dic_list())"
    },
    "r": {
     "delete_cmd_postfix": ") ",
     "delete_cmd_prefix": "rm(",
     "library": "var_list.r",
     "varRefreshCmd": "cat(var_dic_list()) "
    }
   },
   "types_to_exclude": [
    "module",
    "function",
    "builtin_function_or_method",
    "instance",
    "_Feature"
   ],
   "window_display": false
  }
 },
 "nbformat": 4,
 "nbformat_minor": 4
}
