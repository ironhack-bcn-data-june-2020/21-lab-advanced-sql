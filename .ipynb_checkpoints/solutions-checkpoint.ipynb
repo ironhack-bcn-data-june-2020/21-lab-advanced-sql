{
 "cells": [
  {
   "cell_type": "code",
   "execution_count": 2,
   "metadata": {},
   "outputs": [],
   "source": [
    "%load_ext sql"
   ]
  },
  {
   "cell_type": "code",
   "execution_count": 4,
   "metadata": {},
   "outputs": [
    {
     "data": {
      "text/plain": [
       "'Connected: @./publications.db'"
      ]
     },
     "execution_count": 4,
     "metadata": {},
     "output_type": "execute_result"
    }
   ],
   "source": [
    "%sql sqlite:///./publications.db"
   ]
  },
  {
   "cell_type": "markdown",
   "metadata": {},
   "source": [
    "## Challenge 1 - Most Profiting Authors"
   ]
  },
  {
   "cell_type": "markdown",
   "metadata": {},
   "source": [
    "In this challenge let's have a close look at the bonus challenge of the previous *SQL SELECT* lab -- **who are the top 3 most profiting authors**? Even if you have solved or think you have solved that problem in the previous lab, please still complete this challenge because the step-by-step guidances are helpful to train your problem-solving thinking.\n",
    "\n",
    "In order to solve this problem, it is important for you to keep the following points in mind:\n",
    "\n",
    "* In table `sales`, a title can appear several times. The royalties need to be calculated for each sale.\n",
    "\n",
    "* Despite a title can have multiple `sales` records, the advance must be calculated only once for each title.\n",
    "\n",
    "* In your eventual solution, you need to sum up the following profits for each individual author:\n",
    "    * All advances which is calculated exactly once for each title.\n",
    "    * All royalties in each sale.\n",
    "\n",
    "Therefore, you will not be able to achieve the goal with a single SELECT query. Instead, you will need to follow several steps in order to achieve the eventual solution. Below is an overview of the steps:\n",
    "\n",
    "1. Calculate the royalty of each sale for each author.\n",
    "\n",
    "1. Using the output from Step 1 as a sub-table, aggregate the total royalties for each title for each author.\n",
    "\n",
    "1. Using the output from Step 2 as a sub-table, calculate the total profits of each author by aggregating the advances and total royalties of each title.\n",
    "\n",
    "Below we'll guide you through each step. In your `solutions.ipynb`, please include the SELECT queries of each step so that your TA can review your problem-solving process."
   ]
  },
  {
   "cell_type": "markdown",
   "metadata": {},
   "source": [
    "### Step 1: Calculate the royalties of each sales for each author"
   ]
  },
  {
   "cell_type": "markdown",
   "metadata": {},
   "source": [
    "Write a SELECT query to obtain the following output:\n",
    "\n",
    "* Title ID\n",
    "* Author ID\n",
    "* Royalty of each sale for each author\n",
    "    * The formula is:\n",
    "        ```\n",
    "        sales_royalty = titles.price * sales.qty * titles.royalty / 100 * titleauthor.royaltyper / 100\n",
    "        ```\n",
    "    * Note that `titles.royalty` and `titleauthor.royaltyper` are divided by 100 respectively because they are percentage numbers instead of floats.\n",
    "\n",
    "In the output of this step, each title may appear more than once for each author. This is because a title can have more than one sales."
   ]
  },
  {
   "cell_type": "code",
   "execution_count": 19,
   "metadata": {
    "scrolled": true
   },
   "outputs": [
    {
     "name": "stdout",
     "output_type": "stream",
     "text": [
      " * sqlite:///./publications.db\n",
      "Done.\n"
     ]
    },
    {
     "data": {
      "text/html": [
       "<table>\n",
       "    <thead>\n",
       "        <tr>\n",
       "            <th>title_id</th>\n",
       "            <th>author_id</th>\n",
       "            <th>sales_royalty</th>\n",
       "        </tr>\n",
       "    </thead>\n",
       "    <tbody>\n",
       "        <tr>\n",
       "            <td>BU1032</td>\n",
       "            <td>213-46-8915</td>\n",
       "            <td>3.9979999999999993</td>\n",
       "        </tr>\n",
       "        <tr>\n",
       "            <td>BU1032</td>\n",
       "            <td>213-46-8915</td>\n",
       "            <td>7.995999999999999</td>\n",
       "        </tr>\n",
       "        <tr>\n",
       "            <td>BU1032</td>\n",
       "            <td>409-56-7008</td>\n",
       "            <td>5.996999999999999</td>\n",
       "        </tr>\n",
       "        <tr>\n",
       "            <td>BU1032</td>\n",
       "            <td>409-56-7008</td>\n",
       "            <td>11.993999999999998</td>\n",
       "        </tr>\n",
       "        <tr>\n",
       "            <td>BU1111</td>\n",
       "            <td>267-41-2394</td>\n",
       "            <td>11.95</td>\n",
       "        </tr>\n",
       "        <tr>\n",
       "            <td>BU1111</td>\n",
       "            <td>724-80-9391</td>\n",
       "            <td>17.925</td>\n",
       "        </tr>\n",
       "        <tr>\n",
       "            <td>BU2075</td>\n",
       "            <td>213-46-8915</td>\n",
       "            <td>25.116000000000003</td>\n",
       "        </tr>\n",
       "        <tr>\n",
       "            <td>BU7832</td>\n",
       "            <td>274-80-9391</td>\n",
       "            <td>29.984999999999996</td>\n",
       "        </tr>\n",
       "        <tr>\n",
       "            <td>MC2222</td>\n",
       "            <td>712-45-1867</td>\n",
       "            <td>23.987999999999996</td>\n",
       "        </tr>\n",
       "        <tr>\n",
       "            <td>MC3021</td>\n",
       "            <td>722-51-5454</td>\n",
       "            <td>13.455</td>\n",
       "        </tr>\n",
       "        <tr>\n",
       "            <td>MC3021</td>\n",
       "            <td>722-51-5454</td>\n",
       "            <td>8.073</td>\n",
       "        </tr>\n",
       "        <tr>\n",
       "            <td>MC3021</td>\n",
       "            <td>899-46-2035</td>\n",
       "            <td>4.485</td>\n",
       "        </tr>\n",
       "        <tr>\n",
       "            <td>MC3021</td>\n",
       "            <td>899-46-2035</td>\n",
       "            <td>2.6910000000000003</td>\n",
       "        </tr>\n",
       "        <tr>\n",
       "            <td>MC3026</td>\n",
       "            <td>None</td>\n",
       "            <td>0</td>\n",
       "        </tr>\n",
       "        <tr>\n",
       "            <td>PC1035</td>\n",
       "            <td>238-95-7766</td>\n",
       "            <td>110.16</td>\n",
       "        </tr>\n",
       "        <tr>\n",
       "            <td>PC8888</td>\n",
       "            <td>427-17-2319</td>\n",
       "            <td>50</td>\n",
       "        </tr>\n",
       "        <tr>\n",
       "            <td>PC8888</td>\n",
       "            <td>846-92-7186</td>\n",
       "            <td>50</td>\n",
       "        </tr>\n",
       "        <tr>\n",
       "            <td>PC9999</td>\n",
       "            <td>486-29-1786</td>\n",
       "            <td>0</td>\n",
       "        </tr>\n",
       "        <tr>\n",
       "            <td>PS1372</td>\n",
       "            <td>724-80-9391</td>\n",
       "            <td>10.795</td>\n",
       "        </tr>\n",
       "        <tr>\n",
       "            <td>PS1372</td>\n",
       "            <td>756-30-7391</td>\n",
       "            <td>32.385</td>\n",
       "        </tr>\n",
       "        <tr>\n",
       "            <td>PS2091</td>\n",
       "            <td>899-46-2035</td>\n",
       "            <td>1.9709999999999996</td>\n",
       "        </tr>\n",
       "        <tr>\n",
       "            <td>PS2091</td>\n",
       "            <td>899-46-2035</td>\n",
       "            <td>49.275</td>\n",
       "        </tr>\n",
       "        <tr>\n",
       "            <td>PS2091</td>\n",
       "            <td>899-46-2035</td>\n",
       "            <td>6.57</td>\n",
       "        </tr>\n",
       "        <tr>\n",
       "            <td>PS2091</td>\n",
       "            <td>899-46-2035</td>\n",
       "            <td>13.14</td>\n",
       "        </tr>\n",
       "        <tr>\n",
       "            <td>PS2091</td>\n",
       "            <td>998-72-3567</td>\n",
       "            <td>1.9709999999999996</td>\n",
       "        </tr>\n",
       "        <tr>\n",
       "            <td>PS2091</td>\n",
       "            <td>998-72-3567</td>\n",
       "            <td>49.275</td>\n",
       "        </tr>\n",
       "        <tr>\n",
       "            <td>PS2091</td>\n",
       "            <td>998-72-3567</td>\n",
       "            <td>6.57</td>\n",
       "        </tr>\n",
       "        <tr>\n",
       "            <td>PS2091</td>\n",
       "            <td>998-72-3567</td>\n",
       "            <td>13.14</td>\n",
       "        </tr>\n",
       "        <tr>\n",
       "            <td>PS2106</td>\n",
       "            <td>998-72-3567</td>\n",
       "            <td>17</td>\n",
       "        </tr>\n",
       "        <tr>\n",
       "            <td>PS3333</td>\n",
       "            <td>172-32-1176</td>\n",
       "            <td>29.984999999999996</td>\n",
       "        </tr>\n",
       "        <tr>\n",
       "            <td>PS7777</td>\n",
       "            <td>486-29-1786</td>\n",
       "            <td>19.975</td>\n",
       "        </tr>\n",
       "        <tr>\n",
       "            <td>TC3218</td>\n",
       "            <td>807-91-6654</td>\n",
       "            <td>83.8</td>\n",
       "        </tr>\n",
       "        <tr>\n",
       "            <td>TC4203</td>\n",
       "            <td>648-92-1872</td>\n",
       "            <td>33.46</td>\n",
       "        </tr>\n",
       "        <tr>\n",
       "            <td>TC7777</td>\n",
       "            <td>267-41-2394</td>\n",
       "            <td>8.994</td>\n",
       "        </tr>\n",
       "        <tr>\n",
       "            <td>TC7777</td>\n",
       "            <td>472-27-2349</td>\n",
       "            <td>8.994</td>\n",
       "        </tr>\n",
       "        <tr>\n",
       "            <td>TC7777</td>\n",
       "            <td>672-71-3249</td>\n",
       "            <td>11.992</td>\n",
       "        </tr>\n",
       "    </tbody>\n",
       "</table>"
      ],
      "text/plain": [
       "[('BU1032', '213-46-8915', 3.9979999999999993),\n",
       " ('BU1032', '213-46-8915', 7.995999999999999),\n",
       " ('BU1032', '409-56-7008', 5.996999999999999),\n",
       " ('BU1032', '409-56-7008', 11.993999999999998),\n",
       " ('BU1111', '267-41-2394', 11.95),\n",
       " ('BU1111', '724-80-9391', 17.925),\n",
       " ('BU2075', '213-46-8915', 25.116000000000003),\n",
       " ('BU7832', '274-80-9391', 29.984999999999996),\n",
       " ('MC2222', '712-45-1867', 23.987999999999996),\n",
       " ('MC3021', '722-51-5454', 13.455),\n",
       " ('MC3021', '722-51-5454', 8.073),\n",
       " ('MC3021', '899-46-2035', 4.485),\n",
       " ('MC3021', '899-46-2035', 2.6910000000000003),\n",
       " ('MC3026', None, 0),\n",
       " ('PC1035', '238-95-7766', 110.16),\n",
       " ('PC8888', '427-17-2319', 50),\n",
       " ('PC8888', '846-92-7186', 50),\n",
       " ('PC9999', '486-29-1786', 0),\n",
       " ('PS1372', '724-80-9391', 10.795),\n",
       " ('PS1372', '756-30-7391', 32.385),\n",
       " ('PS2091', '899-46-2035', 1.9709999999999996),\n",
       " ('PS2091', '899-46-2035', 49.275),\n",
       " ('PS2091', '899-46-2035', 6.57),\n",
       " ('PS2091', '899-46-2035', 13.14),\n",
       " ('PS2091', '998-72-3567', 1.9709999999999996),\n",
       " ('PS2091', '998-72-3567', 49.275),\n",
       " ('PS2091', '998-72-3567', 6.57),\n",
       " ('PS2091', '998-72-3567', 13.14),\n",
       " ('PS2106', '998-72-3567', 17),\n",
       " ('PS3333', '172-32-1176', 29.984999999999996),\n",
       " ('PS7777', '486-29-1786', 19.975),\n",
       " ('TC3218', '807-91-6654', 83.8),\n",
       " ('TC4203', '648-92-1872', 33.46),\n",
       " ('TC7777', '267-41-2394', 8.994),\n",
       " ('TC7777', '472-27-2349', 8.994),\n",
       " ('TC7777', '672-71-3249', 11.992)]"
      ]
     },
     "execution_count": 19,
     "metadata": {},
     "output_type": "execute_result"
    }
   ],
   "source": [
    "%%sql\n",
    "select ti.title_id as title_id,\n",
    "       ta.au_id as author_id, \n",
    "       coalesce(ti.price * sa.qty * ti.royalty / 100 * ta.royaltyper / 100, 0) as sales_royalty\n",
    "from titles ti\n",
    "left join titleauthor ta on ta.title_id = ti.title_id\n",
    "left join sales sa on ti.title_id = sa.title_id\n"
   ]
  },
  {
   "cell_type": "code",
   "execution_count": 18,
   "metadata": {},
   "outputs": [
    {
     "name": "stdout",
     "output_type": "stream",
     "text": [
      " * sqlite:///./publications.db\n",
      "Done.\n"
     ]
    },
    {
     "data": {
      "text/html": [
       "<table>\n",
       "    <thead>\n",
       "        <tr>\n",
       "            <th>title_id</th>\n",
       "            <th>title</th>\n",
       "            <th>type</th>\n",
       "            <th>pub_id</th>\n",
       "            <th>price</th>\n",
       "            <th>advance</th>\n",
       "            <th>royalty</th>\n",
       "            <th>ytd_sales</th>\n",
       "            <th>notes</th>\n",
       "            <th>pubdate</th>\n",
       "            <th>au_id</th>\n",
       "            <th>title_id_1</th>\n",
       "            <th>au_ord</th>\n",
       "            <th>royaltyper</th>\n",
       "        </tr>\n",
       "    </thead>\n",
       "    <tbody>\n",
       "        <tr>\n",
       "            <td>MC3026</td>\n",
       "            <td>The Psychology of Computer Cooking</td>\n",
       "            <td>UNDECIDED</td>\n",
       "            <td>0877</td>\n",
       "            <td>None</td>\n",
       "            <td>None</td>\n",
       "            <td>None</td>\n",
       "            <td>None</td>\n",
       "            <td>None</td>\n",
       "            <td>2014-11-07 10:39:37</td>\n",
       "            <td>None</td>\n",
       "            <td>None</td>\n",
       "            <td>None</td>\n",
       "            <td>None</td>\n",
       "        </tr>\n",
       "    </tbody>\n",
       "</table>"
      ],
      "text/plain": [
       "[('MC3026', 'The Psychology of Computer Cooking', 'UNDECIDED', '0877', None, None, None, None, None, '2014-11-07 10:39:37', None, None, None, None)]"
      ]
     },
     "execution_count": 18,
     "metadata": {},
     "output_type": "execute_result"
    }
   ],
   "source": [
    "%%sql\n",
    "-- # Exploramos el título que no tiene un autor asignado en la tabla titleauthor\n",
    "select * from titles ti\n",
    "\n",
    "left join titleauthor ta on ta.title_id = ti.title_id\n",
    "where ti.title_id = 'MC3026'\n"
   ]
  },
  {
   "cell_type": "markdown",
   "metadata": {},
   "source": [
    "### Step 2: Aggregate the total royalties for each title for each author"
   ]
  },
  {
   "cell_type": "markdown",
   "metadata": {},
   "source": [
    "Using the output from Step 1, write a query to obtain the following output:\n",
    "\n",
    "* Title ID\n",
    "* Author ID\n",
    "* Aggregated royalties of each title for each author\n",
    "    * Hint: use the *SUM* subquery and group by both `au_id` and `title_id`\n",
    "\n",
    "In the output of this step, each title should appear only once for each author."
   ]
  },
  {
   "cell_type": "code",
   "execution_count": 55,
   "metadata": {
    "scrolled": true
   },
   "outputs": [
    {
     "name": "stdout",
     "output_type": "stream",
     "text": [
      " * sqlite:///./publications.db\n",
      "Done.\n"
     ]
    },
    {
     "data": {
      "text/html": [
       "<table>\n",
       "    <thead>\n",
       "        <tr>\n",
       "            <th>title_id</th>\n",
       "            <th>author_id</th>\n",
       "            <th>sales_royalty</th>\n",
       "            <th>advance</th>\n",
       "        </tr>\n",
       "    </thead>\n",
       "    <tbody>\n",
       "        <tr>\n",
       "            <td>PS3333</td>\n",
       "            <td>172-32-1176</td>\n",
       "            <td>29.984999999999996</td>\n",
       "            <td>2000</td>\n",
       "        </tr>\n",
       "        <tr>\n",
       "            <td>BU1032</td>\n",
       "            <td>213-46-8915</td>\n",
       "            <td>11.993999999999998</td>\n",
       "            <td>5000</td>\n",
       "        </tr>\n",
       "        <tr>\n",
       "            <td>BU2075</td>\n",
       "            <td>213-46-8915</td>\n",
       "            <td>25.116000000000003</td>\n",
       "            <td>10125</td>\n",
       "        </tr>\n",
       "        <tr>\n",
       "            <td>PC1035</td>\n",
       "            <td>238-95-7766</td>\n",
       "            <td>110.16</td>\n",
       "            <td>7000</td>\n",
       "        </tr>\n",
       "        <tr>\n",
       "            <td>BU1111</td>\n",
       "            <td>267-41-2394</td>\n",
       "            <td>11.95</td>\n",
       "            <td>5000</td>\n",
       "        </tr>\n",
       "        <tr>\n",
       "            <td>TC7777</td>\n",
       "            <td>267-41-2394</td>\n",
       "            <td>8.994</td>\n",
       "            <td>8000</td>\n",
       "        </tr>\n",
       "        <tr>\n",
       "            <td>BU7832</td>\n",
       "            <td>274-80-9391</td>\n",
       "            <td>29.984999999999996</td>\n",
       "            <td>5000</td>\n",
       "        </tr>\n",
       "        <tr>\n",
       "            <td>BU1032</td>\n",
       "            <td>409-56-7008</td>\n",
       "            <td>17.990999999999996</td>\n",
       "            <td>5000</td>\n",
       "        </tr>\n",
       "        <tr>\n",
       "            <td>PC8888</td>\n",
       "            <td>427-17-2319</td>\n",
       "            <td>50</td>\n",
       "            <td>8000</td>\n",
       "        </tr>\n",
       "        <tr>\n",
       "            <td>TC7777</td>\n",
       "            <td>472-27-2349</td>\n",
       "            <td>8.994</td>\n",
       "            <td>8000</td>\n",
       "        </tr>\n",
       "        <tr>\n",
       "            <td>PC9999</td>\n",
       "            <td>486-29-1786</td>\n",
       "            <td>None</td>\n",
       "            <td>None</td>\n",
       "        </tr>\n",
       "        <tr>\n",
       "            <td>PS7777</td>\n",
       "            <td>486-29-1786</td>\n",
       "            <td>19.975</td>\n",
       "            <td>4000</td>\n",
       "        </tr>\n",
       "        <tr>\n",
       "            <td>TC4203</td>\n",
       "            <td>648-92-1872</td>\n",
       "            <td>33.46</td>\n",
       "            <td>4000</td>\n",
       "        </tr>\n",
       "        <tr>\n",
       "            <td>TC7777</td>\n",
       "            <td>672-71-3249</td>\n",
       "            <td>11.992</td>\n",
       "            <td>8000</td>\n",
       "        </tr>\n",
       "        <tr>\n",
       "            <td>MC2222</td>\n",
       "            <td>712-45-1867</td>\n",
       "            <td>23.987999999999996</td>\n",
       "            <td>0</td>\n",
       "        </tr>\n",
       "        <tr>\n",
       "            <td>MC3021</td>\n",
       "            <td>722-51-5454</td>\n",
       "            <td>21.528</td>\n",
       "            <td>15000</td>\n",
       "        </tr>\n",
       "        <tr>\n",
       "            <td>BU1111</td>\n",
       "            <td>724-80-9391</td>\n",
       "            <td>17.925</td>\n",
       "            <td>5000</td>\n",
       "        </tr>\n",
       "        <tr>\n",
       "            <td>PS1372</td>\n",
       "            <td>724-80-9391</td>\n",
       "            <td>10.795</td>\n",
       "            <td>7000</td>\n",
       "        </tr>\n",
       "        <tr>\n",
       "            <td>PS1372</td>\n",
       "            <td>756-30-7391</td>\n",
       "            <td>32.385</td>\n",
       "            <td>7000</td>\n",
       "        </tr>\n",
       "        <tr>\n",
       "            <td>TC3218</td>\n",
       "            <td>807-91-6654</td>\n",
       "            <td>83.8</td>\n",
       "            <td>7000</td>\n",
       "        </tr>\n",
       "        <tr>\n",
       "            <td>PC8888</td>\n",
       "            <td>846-92-7186</td>\n",
       "            <td>50</td>\n",
       "            <td>8000</td>\n",
       "        </tr>\n",
       "        <tr>\n",
       "            <td>MC3021</td>\n",
       "            <td>899-46-2035</td>\n",
       "            <td>7.176</td>\n",
       "            <td>15000</td>\n",
       "        </tr>\n",
       "        <tr>\n",
       "            <td>PS2091</td>\n",
       "            <td>899-46-2035</td>\n",
       "            <td>70.95599999999999</td>\n",
       "            <td>2275</td>\n",
       "        </tr>\n",
       "        <tr>\n",
       "            <td>PS2091</td>\n",
       "            <td>998-72-3567</td>\n",
       "            <td>70.95599999999999</td>\n",
       "            <td>2275</td>\n",
       "        </tr>\n",
       "        <tr>\n",
       "            <td>PS2106</td>\n",
       "            <td>998-72-3567</td>\n",
       "            <td>17</td>\n",
       "            <td>6000</td>\n",
       "        </tr>\n",
       "    </tbody>\n",
       "</table>"
      ],
      "text/plain": [
       "[('PS3333', '172-32-1176', 29.984999999999996, 2000),\n",
       " ('BU1032', '213-46-8915', 11.993999999999998, 5000),\n",
       " ('BU2075', '213-46-8915', 25.116000000000003, 10125),\n",
       " ('PC1035', '238-95-7766', 110.16, 7000),\n",
       " ('BU1111', '267-41-2394', 11.95, 5000),\n",
       " ('TC7777', '267-41-2394', 8.994, 8000),\n",
       " ('BU7832', '274-80-9391', 29.984999999999996, 5000),\n",
       " ('BU1032', '409-56-7008', 17.990999999999996, 5000),\n",
       " ('PC8888', '427-17-2319', 50, 8000),\n",
       " ('TC7777', '472-27-2349', 8.994, 8000),\n",
       " ('PC9999', '486-29-1786', None, None),\n",
       " ('PS7777', '486-29-1786', 19.975, 4000),\n",
       " ('TC4203', '648-92-1872', 33.46, 4000),\n",
       " ('TC7777', '672-71-3249', 11.992, 8000),\n",
       " ('MC2222', '712-45-1867', 23.987999999999996, 0),\n",
       " ('MC3021', '722-51-5454', 21.528, 15000),\n",
       " ('BU1111', '724-80-9391', 17.925, 5000),\n",
       " ('PS1372', '724-80-9391', 10.795, 7000),\n",
       " ('PS1372', '756-30-7391', 32.385, 7000),\n",
       " ('TC3218', '807-91-6654', 83.8, 7000),\n",
       " ('PC8888', '846-92-7186', 50, 8000),\n",
       " ('MC3021', '899-46-2035', 7.176, 15000),\n",
       " ('PS2091', '899-46-2035', 70.95599999999999, 2275),\n",
       " ('PS2091', '998-72-3567', 70.95599999999999, 2275),\n",
       " ('PS2106', '998-72-3567', 17, 6000)]"
      ]
     },
     "execution_count": 55,
     "metadata": {},
     "output_type": "execute_result"
    }
   ],
   "source": [
    "%%sql\n",
    "select ti.title_id as title_id,\n",
    "       ta.au_id as author_id,\n",
    "       sum(ti.price * sa.qty * ti.royalty / 100 * ta.royaltyper / 100) as sales_royalty,\n",
    "       ti.advance \n",
    "from titleauthor ta\n",
    "left join titles ti on ta.title_id = ti.title_id\n",
    "left join sales sa on ti.title_id = sa.title_id\n",
    "group by author_id, ti.title_id"
   ]
  },
  {
   "cell_type": "markdown",
   "metadata": {},
   "source": [
    "### Step 3: Calculate the total profits of each author"
   ]
  },
  {
   "cell_type": "markdown",
   "metadata": {},
   "source": [
    "Now that each title has exactly one row for each author where the advance and royalties are available, we are ready to obtain the eventual output. Using the output from Step 2, write a query to obtain the following output:\n",
    "\n",
    "* Author ID\n",
    "* Profits of each author by aggregating the advance and total royalties of each title\n",
    "\n",
    "Sort the output based on a total profits from high to low, and limit the number of rows to 3.\n"
   ]
  },
  {
   "cell_type": "code",
   "execution_count": 71,
   "metadata": {
    "scrolled": true
   },
   "outputs": [
    {
     "name": "stdout",
     "output_type": "stream",
     "text": [
      " * sqlite:///./publications.db\n",
      "Done.\n"
     ]
    },
    {
     "data": {
      "text/html": [
       "<table>\n",
       "    <thead>\n",
       "        <tr>\n",
       "            <th>author_id</th>\n",
       "            <th>total_profit_by_author</th>\n",
       "        </tr>\n",
       "    </thead>\n",
       "    <tbody>\n",
       "        <tr>\n",
       "            <td>722-51-5454</td>\n",
       "            <td>15021.528</td>\n",
       "        </tr>\n",
       "        <tr>\n",
       "            <td>899-46-2035</td>\n",
       "            <td>15007.176</td>\n",
       "        </tr>\n",
       "        <tr>\n",
       "            <td>846-92-7186</td>\n",
       "            <td>8050</td>\n",
       "        </tr>\n",
       "    </tbody>\n",
       "</table>"
      ],
      "text/plain": [
       "[('722-51-5454', 15021.528), ('899-46-2035', 15007.176), ('846-92-7186', 8050)]"
      ]
     },
     "execution_count": 71,
     "metadata": {},
     "output_type": "execute_result"
    }
   ],
   "source": [
    "%%sql\n",
    "with table2 as (select ti.title_id as title_id,\n",
    "       ta.au_id as author_id,\n",
    "       sum(ti.price * sa.qty * ti.royalty / 100 * ta.royaltyper / 100) as sales_royalty,\n",
    "       ti.advance \n",
    "from titleauthor ta\n",
    "left join titles ti on ta.title_id = ti.title_id\n",
    "left join sales sa on ti.title_id = sa.title_id\n",
    "group by author_id, ti.title_id)\n",
    "\n",
    "select author_id,\n",
    "       coalesce(sales_royalty + advance, 0) as total_profit_by_author\n",
    "\n",
    "from table2\n",
    "group by author_id\n",
    "order by total_profit_by_author desc\n",
    "limit 3\n",
    "\n"
   ]
  },
  {
   "cell_type": "markdown",
   "metadata": {},
   "source": [
    "## Challenge 2"
   ]
  },
  {
   "cell_type": "markdown",
   "metadata": {},
   "source": [
    "Elevating from your solution in Challenge 1 , create a table named `most_profiting_authors` to hold the data about the most profiting authors. The table should have 2 columns:\n",
    "\n",
    "* `au_id` - Author ID\n",
    "* `profits` - The profits of the author aggregating the advances and royalties\n",
    "\n",
    "Include your solution in `solutions.ipynb`."
   ]
  },
  {
   "cell_type": "code",
   "execution_count": 92,
   "metadata": {},
   "outputs": [
    {
     "name": "stdout",
     "output_type": "stream",
     "text": [
      " * sqlite:///./publications.db\n",
      "Done.\n"
     ]
    },
    {
     "data": {
      "text/plain": [
       "[]"
      ]
     },
     "execution_count": 92,
     "metadata": {},
     "output_type": "execute_result"
    }
   ],
   "source": [
    "%%sql\n",
    "create table most_profiting_authors as\n",
    "with table2 as (select ti.title_id as title_id,\n",
    "       ta.au_id as author_id,\n",
    "       sum(ti.price * sa.qty * ti.royalty / 100 * ta.royaltyper / 100) as sales_royalty,\n",
    "       ti.advance \n",
    "from titleauthor ta\n",
    "left join titles ti on ta.title_id = ti.title_id\n",
    "left join sales sa on ti.title_id = sa.title_id\n",
    "group by author_id, ti.title_id)\n",
    "\n",
    "select author_id,\n",
    "       round(coalesce(sales_royalty + advance, 0)) as total_profit_by_author\n",
    "\n",
    "from table2\n",
    "group by author_id\n"
   ]
  },
  {
   "cell_type": "code",
   "execution_count": 93,
   "metadata": {},
   "outputs": [
    {
     "name": "stdout",
     "output_type": "stream",
     "text": [
      " * sqlite:///./publications.db\n",
      "Done.\n"
     ]
    },
    {
     "data": {
      "text/html": [
       "<table>\n",
       "    <thead>\n",
       "        <tr>\n",
       "            <th>author_id</th>\n",
       "            <th>total_profit_by_author</th>\n",
       "        </tr>\n",
       "    </thead>\n",
       "    <tbody>\n",
       "        <tr>\n",
       "            <td>172-32-1176</td>\n",
       "            <td>2030.0</td>\n",
       "        </tr>\n",
       "        <tr>\n",
       "            <td>213-46-8915</td>\n",
       "            <td>5012.0</td>\n",
       "        </tr>\n",
       "        <tr>\n",
       "            <td>238-95-7766</td>\n",
       "            <td>7110.0</td>\n",
       "        </tr>\n",
       "    </tbody>\n",
       "</table>"
      ],
      "text/plain": [
       "[('172-32-1176', 2030.0), ('213-46-8915', 5012.0), ('238-95-7766', 7110.0)]"
      ]
     },
     "execution_count": 93,
     "metadata": {},
     "output_type": "execute_result"
    }
   ],
   "source": [
    "%%sql\n",
    "select * from most_profiting_authors limit 3"
   ]
  }
 ],
 "metadata": {
  "kernelspec": {
   "display_name": "Python 3",
   "language": "python",
   "name": "python3"
  },
  "language_info": {
   "codemirror_mode": {
    "name": "ipython",
    "version": 3
   },
   "file_extension": ".py",
   "mimetype": "text/x-python",
   "name": "python",
   "nbconvert_exporter": "python",
   "pygments_lexer": "ipython3",
   "version": "3.8.5"
  },
  "toc": {
   "base_numbering": 1,
   "nav_menu": {},
   "number_sections": true,
   "sideBar": true,
   "skip_h1_title": false,
   "title_cell": "Table of Contents",
   "title_sidebar": "Contents",
   "toc_cell": false,
   "toc_position": {
    "height": "calc(100% - 180px)",
    "left": "10px",
    "top": "150px",
    "width": "218px"
   },
   "toc_section_display": true,
   "toc_window_display": true
  },
  "varInspector": {
   "cols": {
    "lenName": 16,
    "lenType": 16,
    "lenVar": 40
   },
   "kernels_config": {
    "python": {
     "delete_cmd_postfix": "",
     "delete_cmd_prefix": "del ",
     "library": "var_list.py",
     "varRefreshCmd": "print(var_dic_list())"
    },
    "r": {
     "delete_cmd_postfix": ") ",
     "delete_cmd_prefix": "rm(",
     "library": "var_list.r",
     "varRefreshCmd": "cat(var_dic_list()) "
    }
   },
   "types_to_exclude": [
    "module",
    "function",
    "builtin_function_or_method",
    "instance",
    "_Feature"
   ],
   "window_display": false
  }
 },
 "nbformat": 4,
 "nbformat_minor": 4
}
